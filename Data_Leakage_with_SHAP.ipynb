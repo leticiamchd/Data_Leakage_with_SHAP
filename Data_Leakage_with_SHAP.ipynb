{
  "cells": [
    {
      "cell_type": "markdown",
      "metadata": {
        "id": "view-in-github",
        "colab_type": "text"
      },
      "source": [
        "<a href=\"https://colab.research.google.com/github/leticiamchd/Data_Leakage_with_SHAP/blob/main/Data_Leakage_with_SHAP.ipynb\" target=\"_parent\"><img src=\"https://colab.research.google.com/assets/colab-badge.svg\" alt=\"Open In Colab\"/></a>"
      ]
    },
    {
      "cell_type": "markdown",
      "source": [
        "# Detecting Data Leakage using SHAP\n",
        "This notebook stores the code for the article about Detecting Data Leakage using SHAP"
      ],
      "metadata": {
        "id": "NzV5lO_r0a63"
      },
      "id": "NzV5lO_r0a63"
    },
    {
      "cell_type": "code",
      "source": [
        "from google.colab import drive\n",
        "drive.mount('/content/drive')"
      ],
      "metadata": {
        "colab": {
          "base_uri": "https://localhost:8080/"
        },
        "id": "V-qb6whoAs8S",
        "outputId": "e441d2f2-40fe-4101-bbc1-cb66ccbeb9bc"
      },
      "id": "V-qb6whoAs8S",
      "execution_count": 2,
      "outputs": [
        {
          "output_type": "stream",
          "name": "stdout",
          "text": [
            "Mounted at /content/drive\n"
          ]
        }
      ]
    },
    {
      "cell_type": "code",
      "source": [
        "# Installing SHAP module\n",
        "!pip install git+https://github.com/slundberg/shap -q\n"
      ],
      "metadata": {
        "colab": {
          "base_uri": "https://localhost:8080/"
        },
        "id": "baycbrqdDlA8",
        "outputId": "1680fb75-6d18-4f3b-9948-856fa7d8aeb1"
      },
      "id": "baycbrqdDlA8",
      "execution_count": 3,
      "outputs": [
        {
          "output_type": "stream",
          "name": "stdout",
          "text": [
            "  Installing build dependencies ... \u001b[?25l\u001b[?25hdone\n",
            "  Getting requirements to build wheel ... \u001b[?25l\u001b[?25hdone\n",
            "  Preparing metadata (pyproject.toml) ... \u001b[?25l\u001b[?25hdone\n",
            "  Building wheel for shap (pyproject.toml) ... \u001b[?25l\u001b[?25hdone\n"
          ]
        }
      ]
    },
    {
      "cell_type": "code",
      "execution_count": 4,
      "id": "cf712c40",
      "metadata": {
        "id": "cf712c40"
      },
      "outputs": [],
      "source": [
        "# importing packages\n",
        "import pandas as pd\n",
        "import numpy as np\n",
        "import matplotlib.pyplot as plt\n",
        "\n",
        "\n",
        "from sklearn.model_selection import train_test_split\n",
        "from sklearn.metrics import accuracy_score, confusion_matrix, ConfusionMatrixDisplay, classification_report, roc_curve, auc\n",
        "from sklearn.metrics import precision_score, recall_score, f1_score,precision_recall_curve, roc_auc_score\n",
        "from sklearn.model_selection import cross_val_score\n",
        "from sklearn.model_selection import cross_val_predict\n",
        "from sklearn.metrics import confusion_matrix\n",
        "\n",
        "from sklearn.model_selection import RandomizedSearchCV\n",
        "from sklearn.ensemble import RandomForestClassifier\n",
        "import lightgbm as lgbm\n",
        "import xgboost as xgb\n",
        "\n",
        "import shap\n",
        "\n"
      ]
    },
    {
      "cell_type": "code",
      "execution_count": 5,
      "id": "a8cbc74f",
      "metadata": {
        "id": "a8cbc74f"
      },
      "outputs": [],
      "source": [
        "# creating a dataframe to the train dataset\n",
        "df = pd.read_csv(\"/content/drive/MyDrive/Python Projects/Lenght of Stay Prediction/train.csv\")"
      ]
    },
    {
      "cell_type": "code",
      "execution_count": 6,
      "id": "f1af7658",
      "metadata": {
        "colab": {
          "base_uri": "https://localhost:8080/",
          "height": 409
        },
        "id": "f1af7658",
        "outputId": "977aa557-066a-4e29-e0f2-f8c1abf10cc8"
      },
      "outputs": [
        {
          "output_type": "execute_result",
          "data": {
            "text/plain": [
              "   case_id  Hospital_code Hospital_type_code  City_Code_Hospital  \\\n",
              "0        1              8                  c                   3   \n",
              "1        2              2                  c                   5   \n",
              "2        3             10                  e                   1   \n",
              "3        4             26                  b                   2   \n",
              "4        5             26                  b                   2   \n",
              "\n",
              "  Hospital_region_code  Available Extra Rooms in Hospital    Department  \\\n",
              "0                    Z                                  3  radiotherapy   \n",
              "1                    Z                                  2  radiotherapy   \n",
              "2                    X                                  2    anesthesia   \n",
              "3                    Y                                  2  radiotherapy   \n",
              "4                    Y                                  2  radiotherapy   \n",
              "\n",
              "  Ward_Type Ward_Facility_Code  Bed Grade  patientid  City_Code_Patient  \\\n",
              "0         R                  F        2.0      31397                7.0   \n",
              "1         S                  F        2.0      31397                7.0   \n",
              "2         S                  E        2.0      31397                7.0   \n",
              "3         R                  D        2.0      31397                7.0   \n",
              "4         S                  D        2.0      31397                7.0   \n",
              "\n",
              "  Type of Admission Severity of Illness  Visitors with Patient    Age  \\\n",
              "0         Emergency             Extreme                      2  51-60   \n",
              "1            Trauma             Extreme                      2  51-60   \n",
              "2            Trauma             Extreme                      2  51-60   \n",
              "3            Trauma             Extreme                      2  51-60   \n",
              "4            Trauma             Extreme                      2  51-60   \n",
              "\n",
              "   Admission_Deposit   Stay  \n",
              "0             4911.0   0-10  \n",
              "1             5954.0  41-50  \n",
              "2             4745.0  31-40  \n",
              "3             7272.0  41-50  \n",
              "4             5558.0  41-50  "
            ],
            "text/html": [
              "\n",
              "  <div id=\"df-263fb0ab-a392-4dea-8905-514772d2223c\">\n",
              "    <div class=\"colab-df-container\">\n",
              "      <div>\n",
              "<style scoped>\n",
              "    .dataframe tbody tr th:only-of-type {\n",
              "        vertical-align: middle;\n",
              "    }\n",
              "\n",
              "    .dataframe tbody tr th {\n",
              "        vertical-align: top;\n",
              "    }\n",
              "\n",
              "    .dataframe thead th {\n",
              "        text-align: right;\n",
              "    }\n",
              "</style>\n",
              "<table border=\"1\" class=\"dataframe\">\n",
              "  <thead>\n",
              "    <tr style=\"text-align: right;\">\n",
              "      <th></th>\n",
              "      <th>case_id</th>\n",
              "      <th>Hospital_code</th>\n",
              "      <th>Hospital_type_code</th>\n",
              "      <th>City_Code_Hospital</th>\n",
              "      <th>Hospital_region_code</th>\n",
              "      <th>Available Extra Rooms in Hospital</th>\n",
              "      <th>Department</th>\n",
              "      <th>Ward_Type</th>\n",
              "      <th>Ward_Facility_Code</th>\n",
              "      <th>Bed Grade</th>\n",
              "      <th>patientid</th>\n",
              "      <th>City_Code_Patient</th>\n",
              "      <th>Type of Admission</th>\n",
              "      <th>Severity of Illness</th>\n",
              "      <th>Visitors with Patient</th>\n",
              "      <th>Age</th>\n",
              "      <th>Admission_Deposit</th>\n",
              "      <th>Stay</th>\n",
              "    </tr>\n",
              "  </thead>\n",
              "  <tbody>\n",
              "    <tr>\n",
              "      <th>0</th>\n",
              "      <td>1</td>\n",
              "      <td>8</td>\n",
              "      <td>c</td>\n",
              "      <td>3</td>\n",
              "      <td>Z</td>\n",
              "      <td>3</td>\n",
              "      <td>radiotherapy</td>\n",
              "      <td>R</td>\n",
              "      <td>F</td>\n",
              "      <td>2.0</td>\n",
              "      <td>31397</td>\n",
              "      <td>7.0</td>\n",
              "      <td>Emergency</td>\n",
              "      <td>Extreme</td>\n",
              "      <td>2</td>\n",
              "      <td>51-60</td>\n",
              "      <td>4911.0</td>\n",
              "      <td>0-10</td>\n",
              "    </tr>\n",
              "    <tr>\n",
              "      <th>1</th>\n",
              "      <td>2</td>\n",
              "      <td>2</td>\n",
              "      <td>c</td>\n",
              "      <td>5</td>\n",
              "      <td>Z</td>\n",
              "      <td>2</td>\n",
              "      <td>radiotherapy</td>\n",
              "      <td>S</td>\n",
              "      <td>F</td>\n",
              "      <td>2.0</td>\n",
              "      <td>31397</td>\n",
              "      <td>7.0</td>\n",
              "      <td>Trauma</td>\n",
              "      <td>Extreme</td>\n",
              "      <td>2</td>\n",
              "      <td>51-60</td>\n",
              "      <td>5954.0</td>\n",
              "      <td>41-50</td>\n",
              "    </tr>\n",
              "    <tr>\n",
              "      <th>2</th>\n",
              "      <td>3</td>\n",
              "      <td>10</td>\n",
              "      <td>e</td>\n",
              "      <td>1</td>\n",
              "      <td>X</td>\n",
              "      <td>2</td>\n",
              "      <td>anesthesia</td>\n",
              "      <td>S</td>\n",
              "      <td>E</td>\n",
              "      <td>2.0</td>\n",
              "      <td>31397</td>\n",
              "      <td>7.0</td>\n",
              "      <td>Trauma</td>\n",
              "      <td>Extreme</td>\n",
              "      <td>2</td>\n",
              "      <td>51-60</td>\n",
              "      <td>4745.0</td>\n",
              "      <td>31-40</td>\n",
              "    </tr>\n",
              "    <tr>\n",
              "      <th>3</th>\n",
              "      <td>4</td>\n",
              "      <td>26</td>\n",
              "      <td>b</td>\n",
              "      <td>2</td>\n",
              "      <td>Y</td>\n",
              "      <td>2</td>\n",
              "      <td>radiotherapy</td>\n",
              "      <td>R</td>\n",
              "      <td>D</td>\n",
              "      <td>2.0</td>\n",
              "      <td>31397</td>\n",
              "      <td>7.0</td>\n",
              "      <td>Trauma</td>\n",
              "      <td>Extreme</td>\n",
              "      <td>2</td>\n",
              "      <td>51-60</td>\n",
              "      <td>7272.0</td>\n",
              "      <td>41-50</td>\n",
              "    </tr>\n",
              "    <tr>\n",
              "      <th>4</th>\n",
              "      <td>5</td>\n",
              "      <td>26</td>\n",
              "      <td>b</td>\n",
              "      <td>2</td>\n",
              "      <td>Y</td>\n",
              "      <td>2</td>\n",
              "      <td>radiotherapy</td>\n",
              "      <td>S</td>\n",
              "      <td>D</td>\n",
              "      <td>2.0</td>\n",
              "      <td>31397</td>\n",
              "      <td>7.0</td>\n",
              "      <td>Trauma</td>\n",
              "      <td>Extreme</td>\n",
              "      <td>2</td>\n",
              "      <td>51-60</td>\n",
              "      <td>5558.0</td>\n",
              "      <td>41-50</td>\n",
              "    </tr>\n",
              "  </tbody>\n",
              "</table>\n",
              "</div>\n",
              "      <button class=\"colab-df-convert\" onclick=\"convertToInteractive('df-263fb0ab-a392-4dea-8905-514772d2223c')\"\n",
              "              title=\"Convert this dataframe to an interactive table.\"\n",
              "              style=\"display:none;\">\n",
              "        \n",
              "  <svg xmlns=\"http://www.w3.org/2000/svg\" height=\"24px\"viewBox=\"0 0 24 24\"\n",
              "       width=\"24px\">\n",
              "    <path d=\"M0 0h24v24H0V0z\" fill=\"none\"/>\n",
              "    <path d=\"M18.56 5.44l.94 2.06.94-2.06 2.06-.94-2.06-.94-.94-2.06-.94 2.06-2.06.94zm-11 1L8.5 8.5l.94-2.06 2.06-.94-2.06-.94L8.5 2.5l-.94 2.06-2.06.94zm10 10l.94 2.06.94-2.06 2.06-.94-2.06-.94-.94-2.06-.94 2.06-2.06.94z\"/><path d=\"M17.41 7.96l-1.37-1.37c-.4-.4-.92-.59-1.43-.59-.52 0-1.04.2-1.43.59L10.3 9.45l-7.72 7.72c-.78.78-.78 2.05 0 2.83L4 21.41c.39.39.9.59 1.41.59.51 0 1.02-.2 1.41-.59l7.78-7.78 2.81-2.81c.8-.78.8-2.07 0-2.86zM5.41 20L4 18.59l7.72-7.72 1.47 1.35L5.41 20z\"/>\n",
              "  </svg>\n",
              "      </button>\n",
              "      \n",
              "  <style>\n",
              "    .colab-df-container {\n",
              "      display:flex;\n",
              "      flex-wrap:wrap;\n",
              "      gap: 12px;\n",
              "    }\n",
              "\n",
              "    .colab-df-convert {\n",
              "      background-color: #E8F0FE;\n",
              "      border: none;\n",
              "      border-radius: 50%;\n",
              "      cursor: pointer;\n",
              "      display: none;\n",
              "      fill: #1967D2;\n",
              "      height: 32px;\n",
              "      padding: 0 0 0 0;\n",
              "      width: 32px;\n",
              "    }\n",
              "\n",
              "    .colab-df-convert:hover {\n",
              "      background-color: #E2EBFA;\n",
              "      box-shadow: 0px 1px 2px rgba(60, 64, 67, 0.3), 0px 1px 3px 1px rgba(60, 64, 67, 0.15);\n",
              "      fill: #174EA6;\n",
              "    }\n",
              "\n",
              "    [theme=dark] .colab-df-convert {\n",
              "      background-color: #3B4455;\n",
              "      fill: #D2E3FC;\n",
              "    }\n",
              "\n",
              "    [theme=dark] .colab-df-convert:hover {\n",
              "      background-color: #434B5C;\n",
              "      box-shadow: 0px 1px 3px 1px rgba(0, 0, 0, 0.15);\n",
              "      filter: drop-shadow(0px 1px 2px rgba(0, 0, 0, 0.3));\n",
              "      fill: #FFFFFF;\n",
              "    }\n",
              "  </style>\n",
              "\n",
              "      <script>\n",
              "        const buttonEl =\n",
              "          document.querySelector('#df-263fb0ab-a392-4dea-8905-514772d2223c button.colab-df-convert');\n",
              "        buttonEl.style.display =\n",
              "          google.colab.kernel.accessAllowed ? 'block' : 'none';\n",
              "\n",
              "        async function convertToInteractive(key) {\n",
              "          const element = document.querySelector('#df-263fb0ab-a392-4dea-8905-514772d2223c');\n",
              "          const dataTable =\n",
              "            await google.colab.kernel.invokeFunction('convertToInteractive',\n",
              "                                                     [key], {});\n",
              "          if (!dataTable) return;\n",
              "\n",
              "          const docLinkHtml = 'Like what you see? Visit the ' +\n",
              "            '<a target=\"_blank\" href=https://colab.research.google.com/notebooks/data_table.ipynb>data table notebook</a>'\n",
              "            + ' to learn more about interactive tables.';\n",
              "          element.innerHTML = '';\n",
              "          dataTable['output_type'] = 'display_data';\n",
              "          await google.colab.output.renderOutput(dataTable, element);\n",
              "          const docLink = document.createElement('div');\n",
              "          docLink.innerHTML = docLinkHtml;\n",
              "          element.appendChild(docLink);\n",
              "        }\n",
              "      </script>\n",
              "    </div>\n",
              "  </div>\n",
              "  "
            ]
          },
          "metadata": {},
          "execution_count": 6
        }
      ],
      "source": [
        "df.head()"
      ]
    },
    {
      "cell_type": "markdown",
      "id": "952e517c",
      "metadata": {
        "id": "952e517c"
      },
      "source": [
        "**All the exploratory data analysis were already done and are detailed into another notebook**"
      ]
    },
    {
      "cell_type": "markdown",
      "id": "ee0b4dfa",
      "metadata": {
        "id": "ee0b4dfa"
      },
      "source": [
        "Some changes need to be done before using the dataset into the models:\n",
        "* Droping the columns `case_id` and `patientid` because they are unique values and doesn't add value for the models\n",
        "* Do something with the missing values, and in this case, because of the small percentage of that, we'll drop the rows that contains any null values\n",
        "* Change some columns types\n",
        "* Change the target `Stay` into a binary value. In this modification, lengh of stay ≤ 30 days will be 0 and > 30 days will be 1\n",
        "* Create variables dummies for categorical columns\n"
      ]
    },
    {
      "cell_type": "markdown",
      "id": "6f44bf60",
      "metadata": {
        "id": "6f44bf60"
      },
      "source": [
        "# Pre Processing"
      ]
    },
    {
      "cell_type": "markdown",
      "source": [
        "## Droping id column"
      ],
      "metadata": {
        "id": "5HLqrfp9z1Sx"
      },
      "id": "5HLqrfp9z1Sx"
    },
    {
      "cell_type": "code",
      "execution_count": 7,
      "id": "183b86fd",
      "metadata": {
        "colab": {
          "base_uri": "https://localhost:8080/"
        },
        "id": "183b86fd",
        "outputId": "138163e0-8d21-4050-e107-5f1bb9cebeac"
      },
      "outputs": [
        {
          "output_type": "stream",
          "name": "stdout",
          "text": [
            "This dataset contains 318438 rows and 18 columns.\n"
          ]
        }
      ],
      "source": [
        "# Checking the size of the dataset before droping the columns\n",
        "print(\"This dataset contains\" , df.shape[0] , \"rows and\" , df.shape[1] ,\"columns.\")"
      ]
    },
    {
      "cell_type": "code",
      "execution_count": 8,
      "id": "b7c174fa",
      "metadata": {
        "id": "b7c174fa"
      },
      "outputs": [],
      "source": [
        "# droping the columns case_id and patientid in the same dataset\n",
        "df.drop(columns=['case_id', 'patientid'], axis = 1, inplace=True)"
      ]
    },
    {
      "cell_type": "code",
      "execution_count": 9,
      "id": "6c11da8b",
      "metadata": {
        "colab": {
          "base_uri": "https://localhost:8080/"
        },
        "id": "6c11da8b",
        "outputId": "7f54e91b-835c-4d33-b0ee-a359e86ae10c"
      },
      "outputs": [
        {
          "output_type": "stream",
          "name": "stdout",
          "text": [
            "This dataset contains 318438 rows and 16 columns.\n"
          ]
        }
      ],
      "source": [
        "# Checking the size of the dataset after droping the columns\n",
        "print(\"This dataset contains\" , df.shape[0] , \"rows and\" , df.shape[1] ,\"columns.\")"
      ]
    },
    {
      "cell_type": "markdown",
      "id": "516213b9",
      "metadata": {
        "id": "516213b9"
      },
      "source": [
        "## Missing Values"
      ]
    },
    {
      "cell_type": "code",
      "execution_count": 10,
      "id": "4d5f1f90",
      "metadata": {
        "colab": {
          "base_uri": "https://localhost:8080/"
        },
        "id": "4d5f1f90",
        "outputId": "c66db911-255e-4e13-b1b2-034f35d2661b"
      },
      "outputs": [
        {
          "output_type": "stream",
          "name": "stdout",
          "text": [
            "This dataset contains 318438 rows and 16 columns.\n"
          ]
        }
      ],
      "source": [
        "# Size of the train dataset before removing null values\n",
        "print(\"This dataset contains\" , df.shape[0] , \"rows and\" , df.shape[1] ,\"columns.\")"
      ]
    },
    {
      "cell_type": "code",
      "execution_count": 11,
      "id": "b7816f58",
      "metadata": {
        "colab": {
          "base_uri": "https://localhost:8080/"
        },
        "id": "b7816f58",
        "outputId": "9f2e19c9-1a96-4fdf-86c9-a02f7fb5a6b3"
      },
      "outputs": [
        {
          "output_type": "execute_result",
          "data": {
            "text/plain": [
              "Hospital_code                           0\n",
              "Hospital_type_code                      0\n",
              "City_Code_Hospital                      0\n",
              "Hospital_region_code                    0\n",
              "Available Extra Rooms in Hospital       0\n",
              "Department                              0\n",
              "Ward_Type                               0\n",
              "Ward_Facility_Code                      0\n",
              "Bed Grade                             113\n",
              "City_Code_Patient                    4532\n",
              "Type of Admission                       0\n",
              "Severity of Illness                     0\n",
              "Visitors with Patient                   0\n",
              "Age                                     0\n",
              "Admission_Deposit                       0\n",
              "Stay                                    0\n",
              "dtype: int64"
            ]
          },
          "metadata": {},
          "execution_count": 11
        }
      ],
      "source": [
        "# Checking the amount of null values\n",
        "df.isnull().sum()"
      ]
    },
    {
      "cell_type": "markdown",
      "id": "ca9d6795",
      "metadata": {
        "id": "ca9d6795"
      },
      "source": [
        "**We can see that only 2 variables have explicity missing values, possibly a small percentage of the dataset considering that there's 318438 rows, but let's check if this perception is true.**"
      ]
    },
    {
      "cell_type": "code",
      "execution_count": 12,
      "id": "45debd4d",
      "metadata": {
        "colab": {
          "base_uri": "https://localhost:8080/"
        },
        "id": "45debd4d",
        "outputId": "91a7bf86-776d-4f27-8bf0-af13009c525f"
      },
      "outputs": [
        {
          "output_type": "execute_result",
          "data": {
            "text/plain": [
              "Hospital_code                        0.000000\n",
              "Hospital_type_code                   0.000000\n",
              "City_Code_Hospital                   0.000000\n",
              "Hospital_region_code                 0.000000\n",
              "Available Extra Rooms in Hospital    0.000000\n",
              "Department                           0.000000\n",
              "Ward_Type                            0.000000\n",
              "Ward_Facility_Code                   0.000000\n",
              "Bed Grade                            0.035486\n",
              "City_Code_Patient                    1.423197\n",
              "Type of Admission                    0.000000\n",
              "Severity of Illness                  0.000000\n",
              "Visitors with Patient                0.000000\n",
              "Age                                  0.000000\n",
              "Admission_Deposit                    0.000000\n",
              "Stay                                 0.000000\n",
              "dtype: float64"
            ]
          },
          "metadata": {},
          "execution_count": 12
        }
      ],
      "source": [
        "# Checking the percentage of null values \n",
        "df.isnull().sum() / df.shape[0] * 100"
      ]
    },
    {
      "cell_type": "markdown",
      "id": "94bedce3",
      "metadata": {
        "id": "94bedce3"
      },
      "source": [
        "**This confirms the perception about the amount of null values, is a small part of the dataset.**"
      ]
    },
    {
      "cell_type": "code",
      "execution_count": 13,
      "id": "b237ce4d",
      "metadata": {
        "id": "b237ce4d"
      },
      "outputs": [],
      "source": [
        "# Dropping all the rows that contains any null values\n",
        "df.dropna(axis = 0, inplace=True)"
      ]
    },
    {
      "cell_type": "code",
      "execution_count": 14,
      "id": "19523f5f",
      "metadata": {
        "colab": {
          "base_uri": "https://localhost:8080/"
        },
        "id": "19523f5f",
        "outputId": "24f7094f-1ecb-4132-aeeb-139ed67ab5e2"
      },
      "outputs": [
        {
          "output_type": "execute_result",
          "data": {
            "text/plain": [
              "Hospital_code                        0\n",
              "Hospital_type_code                   0\n",
              "City_Code_Hospital                   0\n",
              "Hospital_region_code                 0\n",
              "Available Extra Rooms in Hospital    0\n",
              "Department                           0\n",
              "Ward_Type                            0\n",
              "Ward_Facility_Code                   0\n",
              "Bed Grade                            0\n",
              "City_Code_Patient                    0\n",
              "Type of Admission                    0\n",
              "Severity of Illness                  0\n",
              "Visitors with Patient                0\n",
              "Age                                  0\n",
              "Admission_Deposit                    0\n",
              "Stay                                 0\n",
              "dtype: int64"
            ]
          },
          "metadata": {},
          "execution_count": 14
        }
      ],
      "source": [
        "# Checking if there's still null values\n",
        "df.isnull().sum()"
      ]
    },
    {
      "cell_type": "code",
      "execution_count": 15,
      "id": "dad2e881",
      "metadata": {
        "colab": {
          "base_uri": "https://localhost:8080/"
        },
        "id": "dad2e881",
        "outputId": "b0f61af1-4eb9-4b98-968b-5a2238f33ad3"
      },
      "outputs": [
        {
          "output_type": "execute_result",
          "data": {
            "text/plain": [
              "(313793, 16)"
            ]
          },
          "metadata": {},
          "execution_count": 15
        }
      ],
      "source": [
        "# Checking the shape of the dataset after droping the null values\n",
        "df.shape"
      ]
    },
    {
      "cell_type": "markdown",
      "id": "2e06e839",
      "metadata": {
        "id": "2e06e839"
      },
      "source": [
        "**Still a large dataset**"
      ]
    },
    {
      "cell_type": "markdown",
      "id": "a6f658c5",
      "metadata": {
        "id": "a6f658c5"
      },
      "source": [
        "## Changing columns type"
      ]
    },
    {
      "cell_type": "code",
      "execution_count": 16,
      "id": "82f56050",
      "metadata": {
        "colab": {
          "base_uri": "https://localhost:8080/"
        },
        "id": "82f56050",
        "outputId": "b39e55c4-8cbc-4be2-d184-8d1235515d52"
      },
      "outputs": [
        {
          "output_type": "execute_result",
          "data": {
            "text/plain": [
              "Hospital_code                          int64\n",
              "Hospital_type_code                    object\n",
              "City_Code_Hospital                     int64\n",
              "Hospital_region_code                  object\n",
              "Available Extra Rooms in Hospital      int64\n",
              "Department                            object\n",
              "Ward_Type                             object\n",
              "Ward_Facility_Code                    object\n",
              "Bed Grade                            float64\n",
              "City_Code_Patient                    float64\n",
              "Type of Admission                     object\n",
              "Severity of Illness                   object\n",
              "Visitors with Patient                  int64\n",
              "Age                                   object\n",
              "Admission_Deposit                    float64\n",
              "Stay                                  object\n",
              "dtype: object"
            ]
          },
          "metadata": {},
          "execution_count": 16
        }
      ],
      "source": [
        "# checking the type of each columns of the dataset\n",
        "df.dtypes"
      ]
    },
    {
      "cell_type": "code",
      "execution_count": 17,
      "id": "f41332b5",
      "metadata": {
        "colab": {
          "base_uri": "https://localhost:8080/",
          "height": 409
        },
        "id": "f41332b5",
        "outputId": "21123b46-c8e8-499c-ff3e-4a3c6468848d"
      },
      "outputs": [
        {
          "output_type": "execute_result",
          "data": {
            "text/plain": [
              "   Hospital_code Hospital_type_code  City_Code_Hospital Hospital_region_code  \\\n",
              "0              8                  c                   3                    Z   \n",
              "1              2                  c                   5                    Z   \n",
              "2             10                  e                   1                    X   \n",
              "3             26                  b                   2                    Y   \n",
              "4             26                  b                   2                    Y   \n",
              "\n",
              "   Available Extra Rooms in Hospital    Department Ward_Type  \\\n",
              "0                                  3  radiotherapy         R   \n",
              "1                                  2  radiotherapy         S   \n",
              "2                                  2    anesthesia         S   \n",
              "3                                  2  radiotherapy         R   \n",
              "4                                  2  radiotherapy         S   \n",
              "\n",
              "  Ward_Facility_Code  Bed Grade  City_Code_Patient Type of Admission  \\\n",
              "0                  F        2.0                7.0         Emergency   \n",
              "1                  F        2.0                7.0            Trauma   \n",
              "2                  E        2.0                7.0            Trauma   \n",
              "3                  D        2.0                7.0            Trauma   \n",
              "4                  D        2.0                7.0            Trauma   \n",
              "\n",
              "  Severity of Illness  Visitors with Patient    Age  Admission_Deposit   Stay  \n",
              "0             Extreme                      2  51-60             4911.0   0-10  \n",
              "1             Extreme                      2  51-60             5954.0  41-50  \n",
              "2             Extreme                      2  51-60             4745.0  31-40  \n",
              "3             Extreme                      2  51-60             7272.0  41-50  \n",
              "4             Extreme                      2  51-60             5558.0  41-50  "
            ],
            "text/html": [
              "\n",
              "  <div id=\"df-192fbfe4-e33f-4390-bf70-4296927bca42\">\n",
              "    <div class=\"colab-df-container\">\n",
              "      <div>\n",
              "<style scoped>\n",
              "    .dataframe tbody tr th:only-of-type {\n",
              "        vertical-align: middle;\n",
              "    }\n",
              "\n",
              "    .dataframe tbody tr th {\n",
              "        vertical-align: top;\n",
              "    }\n",
              "\n",
              "    .dataframe thead th {\n",
              "        text-align: right;\n",
              "    }\n",
              "</style>\n",
              "<table border=\"1\" class=\"dataframe\">\n",
              "  <thead>\n",
              "    <tr style=\"text-align: right;\">\n",
              "      <th></th>\n",
              "      <th>Hospital_code</th>\n",
              "      <th>Hospital_type_code</th>\n",
              "      <th>City_Code_Hospital</th>\n",
              "      <th>Hospital_region_code</th>\n",
              "      <th>Available Extra Rooms in Hospital</th>\n",
              "      <th>Department</th>\n",
              "      <th>Ward_Type</th>\n",
              "      <th>Ward_Facility_Code</th>\n",
              "      <th>Bed Grade</th>\n",
              "      <th>City_Code_Patient</th>\n",
              "      <th>Type of Admission</th>\n",
              "      <th>Severity of Illness</th>\n",
              "      <th>Visitors with Patient</th>\n",
              "      <th>Age</th>\n",
              "      <th>Admission_Deposit</th>\n",
              "      <th>Stay</th>\n",
              "    </tr>\n",
              "  </thead>\n",
              "  <tbody>\n",
              "    <tr>\n",
              "      <th>0</th>\n",
              "      <td>8</td>\n",
              "      <td>c</td>\n",
              "      <td>3</td>\n",
              "      <td>Z</td>\n",
              "      <td>3</td>\n",
              "      <td>radiotherapy</td>\n",
              "      <td>R</td>\n",
              "      <td>F</td>\n",
              "      <td>2.0</td>\n",
              "      <td>7.0</td>\n",
              "      <td>Emergency</td>\n",
              "      <td>Extreme</td>\n",
              "      <td>2</td>\n",
              "      <td>51-60</td>\n",
              "      <td>4911.0</td>\n",
              "      <td>0-10</td>\n",
              "    </tr>\n",
              "    <tr>\n",
              "      <th>1</th>\n",
              "      <td>2</td>\n",
              "      <td>c</td>\n",
              "      <td>5</td>\n",
              "      <td>Z</td>\n",
              "      <td>2</td>\n",
              "      <td>radiotherapy</td>\n",
              "      <td>S</td>\n",
              "      <td>F</td>\n",
              "      <td>2.0</td>\n",
              "      <td>7.0</td>\n",
              "      <td>Trauma</td>\n",
              "      <td>Extreme</td>\n",
              "      <td>2</td>\n",
              "      <td>51-60</td>\n",
              "      <td>5954.0</td>\n",
              "      <td>41-50</td>\n",
              "    </tr>\n",
              "    <tr>\n",
              "      <th>2</th>\n",
              "      <td>10</td>\n",
              "      <td>e</td>\n",
              "      <td>1</td>\n",
              "      <td>X</td>\n",
              "      <td>2</td>\n",
              "      <td>anesthesia</td>\n",
              "      <td>S</td>\n",
              "      <td>E</td>\n",
              "      <td>2.0</td>\n",
              "      <td>7.0</td>\n",
              "      <td>Trauma</td>\n",
              "      <td>Extreme</td>\n",
              "      <td>2</td>\n",
              "      <td>51-60</td>\n",
              "      <td>4745.0</td>\n",
              "      <td>31-40</td>\n",
              "    </tr>\n",
              "    <tr>\n",
              "      <th>3</th>\n",
              "      <td>26</td>\n",
              "      <td>b</td>\n",
              "      <td>2</td>\n",
              "      <td>Y</td>\n",
              "      <td>2</td>\n",
              "      <td>radiotherapy</td>\n",
              "      <td>R</td>\n",
              "      <td>D</td>\n",
              "      <td>2.0</td>\n",
              "      <td>7.0</td>\n",
              "      <td>Trauma</td>\n",
              "      <td>Extreme</td>\n",
              "      <td>2</td>\n",
              "      <td>51-60</td>\n",
              "      <td>7272.0</td>\n",
              "      <td>41-50</td>\n",
              "    </tr>\n",
              "    <tr>\n",
              "      <th>4</th>\n",
              "      <td>26</td>\n",
              "      <td>b</td>\n",
              "      <td>2</td>\n",
              "      <td>Y</td>\n",
              "      <td>2</td>\n",
              "      <td>radiotherapy</td>\n",
              "      <td>S</td>\n",
              "      <td>D</td>\n",
              "      <td>2.0</td>\n",
              "      <td>7.0</td>\n",
              "      <td>Trauma</td>\n",
              "      <td>Extreme</td>\n",
              "      <td>2</td>\n",
              "      <td>51-60</td>\n",
              "      <td>5558.0</td>\n",
              "      <td>41-50</td>\n",
              "    </tr>\n",
              "  </tbody>\n",
              "</table>\n",
              "</div>\n",
              "      <button class=\"colab-df-convert\" onclick=\"convertToInteractive('df-192fbfe4-e33f-4390-bf70-4296927bca42')\"\n",
              "              title=\"Convert this dataframe to an interactive table.\"\n",
              "              style=\"display:none;\">\n",
              "        \n",
              "  <svg xmlns=\"http://www.w3.org/2000/svg\" height=\"24px\"viewBox=\"0 0 24 24\"\n",
              "       width=\"24px\">\n",
              "    <path d=\"M0 0h24v24H0V0z\" fill=\"none\"/>\n",
              "    <path d=\"M18.56 5.44l.94 2.06.94-2.06 2.06-.94-2.06-.94-.94-2.06-.94 2.06-2.06.94zm-11 1L8.5 8.5l.94-2.06 2.06-.94-2.06-.94L8.5 2.5l-.94 2.06-2.06.94zm10 10l.94 2.06.94-2.06 2.06-.94-2.06-.94-.94-2.06-.94 2.06-2.06.94z\"/><path d=\"M17.41 7.96l-1.37-1.37c-.4-.4-.92-.59-1.43-.59-.52 0-1.04.2-1.43.59L10.3 9.45l-7.72 7.72c-.78.78-.78 2.05 0 2.83L4 21.41c.39.39.9.59 1.41.59.51 0 1.02-.2 1.41-.59l7.78-7.78 2.81-2.81c.8-.78.8-2.07 0-2.86zM5.41 20L4 18.59l7.72-7.72 1.47 1.35L5.41 20z\"/>\n",
              "  </svg>\n",
              "      </button>\n",
              "      \n",
              "  <style>\n",
              "    .colab-df-container {\n",
              "      display:flex;\n",
              "      flex-wrap:wrap;\n",
              "      gap: 12px;\n",
              "    }\n",
              "\n",
              "    .colab-df-convert {\n",
              "      background-color: #E8F0FE;\n",
              "      border: none;\n",
              "      border-radius: 50%;\n",
              "      cursor: pointer;\n",
              "      display: none;\n",
              "      fill: #1967D2;\n",
              "      height: 32px;\n",
              "      padding: 0 0 0 0;\n",
              "      width: 32px;\n",
              "    }\n",
              "\n",
              "    .colab-df-convert:hover {\n",
              "      background-color: #E2EBFA;\n",
              "      box-shadow: 0px 1px 2px rgba(60, 64, 67, 0.3), 0px 1px 3px 1px rgba(60, 64, 67, 0.15);\n",
              "      fill: #174EA6;\n",
              "    }\n",
              "\n",
              "    [theme=dark] .colab-df-convert {\n",
              "      background-color: #3B4455;\n",
              "      fill: #D2E3FC;\n",
              "    }\n",
              "\n",
              "    [theme=dark] .colab-df-convert:hover {\n",
              "      background-color: #434B5C;\n",
              "      box-shadow: 0px 1px 3px 1px rgba(0, 0, 0, 0.15);\n",
              "      filter: drop-shadow(0px 1px 2px rgba(0, 0, 0, 0.3));\n",
              "      fill: #FFFFFF;\n",
              "    }\n",
              "  </style>\n",
              "\n",
              "      <script>\n",
              "        const buttonEl =\n",
              "          document.querySelector('#df-192fbfe4-e33f-4390-bf70-4296927bca42 button.colab-df-convert');\n",
              "        buttonEl.style.display =\n",
              "          google.colab.kernel.accessAllowed ? 'block' : 'none';\n",
              "\n",
              "        async function convertToInteractive(key) {\n",
              "          const element = document.querySelector('#df-192fbfe4-e33f-4390-bf70-4296927bca42');\n",
              "          const dataTable =\n",
              "            await google.colab.kernel.invokeFunction('convertToInteractive',\n",
              "                                                     [key], {});\n",
              "          if (!dataTable) return;\n",
              "\n",
              "          const docLinkHtml = 'Like what you see? Visit the ' +\n",
              "            '<a target=\"_blank\" href=https://colab.research.google.com/notebooks/data_table.ipynb>data table notebook</a>'\n",
              "            + ' to learn more about interactive tables.';\n",
              "          element.innerHTML = '';\n",
              "          dataTable['output_type'] = 'display_data';\n",
              "          await google.colab.output.renderOutput(dataTable, element);\n",
              "          const docLink = document.createElement('div');\n",
              "          docLink.innerHTML = docLinkHtml;\n",
              "          element.appendChild(docLink);\n",
              "        }\n",
              "      </script>\n",
              "    </div>\n",
              "  </div>\n",
              "  "
            ]
          },
          "metadata": {},
          "execution_count": 17
        }
      ],
      "source": [
        "df.head()"
      ]
    },
    {
      "cell_type": "markdown",
      "id": "7e61b3c4",
      "metadata": {
        "id": "7e61b3c4"
      },
      "source": [
        "**There are 3 columns as float64 type, and it makes sense when dealing with money as the columns `Admission_Deposit`, but it seems like that the columns `Bed Grade` and `City_Code_Patient` would be better if they were int64 type. Let's check.**"
      ]
    },
    {
      "cell_type": "code",
      "execution_count": 18,
      "id": "f4fc8d8a",
      "metadata": {
        "colab": {
          "base_uri": "https://localhost:8080/"
        },
        "id": "f4fc8d8a",
        "outputId": "c047b544-9561-4d59-dd69-3bd54886f1dd"
      },
      "outputs": [
        {
          "output_type": "execute_result",
          "data": {
            "text/plain": [
              "array([2., 3., 4., 1.])"
            ]
          },
          "metadata": {},
          "execution_count": 18
        }
      ],
      "source": [
        "# Checking all unique values for Bed Grade\n",
        "df['Bed Grade'].unique()"
      ]
    },
    {
      "cell_type": "code",
      "execution_count": 19,
      "id": "0ff77707",
      "metadata": {
        "colab": {
          "base_uri": "https://localhost:8080/"
        },
        "id": "0ff77707",
        "outputId": "2518c77f-ce91-480e-d09d-941dd90e8ebf"
      },
      "outputs": [
        {
          "output_type": "execute_result",
          "data": {
            "text/plain": [
              "array([ 7.,  8.,  2.,  5.,  6.,  3.,  4.,  1.,  9., 14., 25., 15., 12.,\n",
              "       10., 28., 24., 23., 20., 11., 13., 21., 18., 16., 26., 27., 22.,\n",
              "       19., 31., 34., 32., 30., 29., 37., 33., 35., 36., 38.])"
            ]
          },
          "metadata": {},
          "execution_count": 19
        }
      ],
      "source": [
        "# Checking all unique values for City_Code_Patient\n",
        "df['City_Code_Patient'].unique()"
      ]
    },
    {
      "cell_type": "markdown",
      "id": "6aba2960",
      "metadata": {
        "id": "6aba2960"
      },
      "source": [
        "**They both can be int64 type**"
      ]
    },
    {
      "cell_type": "code",
      "execution_count": 20,
      "id": "2a7782be",
      "metadata": {
        "id": "2a7782be"
      },
      "outputs": [],
      "source": [
        "# Changing the column \"Bed Grade\" and \"City_Code_Patient\" to int type\n",
        "df[\"Bed Grade\"] = df[\"Bed Grade\"].apply(np.int64)\n",
        "df[\"City_Code_Patient\"] = df[\"City_Code_Patient\"].apply(np.int64)"
      ]
    },
    {
      "cell_type": "code",
      "execution_count": 21,
      "id": "828171e0",
      "metadata": {
        "colab": {
          "base_uri": "https://localhost:8080/"
        },
        "id": "828171e0",
        "outputId": "5b8a627f-fa36-46b8-e1e1-d94da6b74844"
      },
      "outputs": [
        {
          "output_type": "execute_result",
          "data": {
            "text/plain": [
              "Hospital_code                          int64\n",
              "Hospital_type_code                    object\n",
              "City_Code_Hospital                     int64\n",
              "Hospital_region_code                  object\n",
              "Available Extra Rooms in Hospital      int64\n",
              "Department                            object\n",
              "Ward_Type                             object\n",
              "Ward_Facility_Code                    object\n",
              "Bed Grade                              int64\n",
              "City_Code_Patient                      int64\n",
              "Type of Admission                     object\n",
              "Severity of Illness                   object\n",
              "Visitors with Patient                  int64\n",
              "Age                                   object\n",
              "Admission_Deposit                    float64\n",
              "Stay                                  object\n",
              "dtype: object"
            ]
          },
          "metadata": {},
          "execution_count": 21
        }
      ],
      "source": [
        "# Checking if the type changed\n",
        "df.dtypes"
      ]
    },
    {
      "cell_type": "code",
      "execution_count": 22,
      "id": "7ca1ae04",
      "metadata": {
        "colab": {
          "base_uri": "https://localhost:8080/"
        },
        "id": "7ca1ae04",
        "outputId": "d259fa9d-099c-4461-b856-d4ad60ae113f"
      },
      "outputs": [
        {
          "output_type": "execute_result",
          "data": {
            "text/plain": [
              "Hospital_code                        0\n",
              "Hospital_type_code                   0\n",
              "City_Code_Hospital                   0\n",
              "Hospital_region_code                 0\n",
              "Available Extra Rooms in Hospital    0\n",
              "Department                           0\n",
              "Ward_Type                            0\n",
              "Ward_Facility_Code                   0\n",
              "Bed Grade                            0\n",
              "City_Code_Patient                    0\n",
              "Type of Admission                    0\n",
              "Severity of Illness                  0\n",
              "Visitors with Patient                0\n",
              "Age                                  0\n",
              "Admission_Deposit                    0\n",
              "Stay                                 0\n",
              "dtype: int64"
            ]
          },
          "metadata": {},
          "execution_count": 22
        }
      ],
      "source": [
        "# Checking if any null values were created with this transformation\n",
        "df.isnull().sum()"
      ]
    },
    {
      "cell_type": "markdown",
      "id": "35824f66",
      "metadata": {
        "id": "35824f66"
      },
      "source": [
        "## Target Modification\n",
        "**The proposal for this model is to predict short Lenght of Stay (LoS) and long LoS. So here we'll separate the Lenght of Stay into 2 categories: ≤ 30 days and > 30 day.**"
      ]
    },
    {
      "cell_type": "code",
      "execution_count": 23,
      "id": "9def34da",
      "metadata": {
        "colab": {
          "base_uri": "https://localhost:8080/"
        },
        "id": "9def34da",
        "outputId": "34c7b4db-2078-413a-8c5e-1d83105888c1"
      },
      "outputs": [
        {
          "output_type": "execute_result",
          "data": {
            "text/plain": [
              "21-30                 86316\n",
              "11-20                 77095\n",
              "31-40                 54312\n",
              "51-60                 34463\n",
              "0-10                  23250\n",
              "41-50                 11541\n",
              "71-80                 10096\n",
              "More than 100 Days     6548\n",
              "81-90                  4761\n",
              "91-100                 2713\n",
              "61-70                  2698\n",
              "Name: Stay, dtype: int64"
            ]
          },
          "metadata": {},
          "execution_count": 23
        }
      ],
      "source": [
        "# Checking the distribution of the target\n",
        "df[\"Stay\"].value_counts()"
      ]
    },
    {
      "cell_type": "code",
      "execution_count": 24,
      "id": "bab11df3",
      "metadata": {
        "id": "bab11df3"
      },
      "outputs": [],
      "source": [
        "# Changing the target into 2 categories: ≤ 30 days and > 30 days\n",
        "df[\"Stay\"] = df[\"Stay\"].replace(['0-10','11-20', '21-30' ], 0)\n",
        "df[\"Stay\"] = df[\"Stay\"].replace(['31-40','41-50','51-60',\n",
        "                                 '61-70', '71-80', '81-90',\n",
        "                                 '91-100', 'More than 100 Days'], 1)"
      ]
    },
    {
      "cell_type": "code",
      "execution_count": 25,
      "id": "9a1cbb94",
      "metadata": {
        "colab": {
          "base_uri": "https://localhost:8080/"
        },
        "id": "9a1cbb94",
        "outputId": "97b408e9-dafa-4c0b-c09f-05e6336f1934"
      },
      "outputs": [
        {
          "output_type": "execute_result",
          "data": {
            "text/plain": [
              "0    186661\n",
              "1    127132\n",
              "Name: Stay, dtype: int64"
            ]
          },
          "metadata": {},
          "execution_count": 25
        }
      ],
      "source": [
        "# Checking the new distribution of the target\n",
        "df[\"Stay\"].value_counts()"
      ]
    },
    {
      "cell_type": "markdown",
      "id": "1c1ddf20",
      "metadata": {
        "id": "1c1ddf20"
      },
      "source": [
        "**In this modification, lengh of stay ≤ 30 days will be 0 and > 30 days will be 1**"
      ]
    },
    {
      "cell_type": "code",
      "execution_count": 26,
      "id": "6154edf0",
      "metadata": {
        "colab": {
          "base_uri": "https://localhost:8080/"
        },
        "id": "6154edf0",
        "outputId": "76768d72-b30d-44bd-9998-61f2c7777c8f"
      },
      "outputs": [
        {
          "output_type": "execute_result",
          "data": {
            "text/plain": [
              "Hospital_code                        0\n",
              "Hospital_type_code                   0\n",
              "City_Code_Hospital                   0\n",
              "Hospital_region_code                 0\n",
              "Available Extra Rooms in Hospital    0\n",
              "Department                           0\n",
              "Ward_Type                            0\n",
              "Ward_Facility_Code                   0\n",
              "Bed Grade                            0\n",
              "City_Code_Patient                    0\n",
              "Type of Admission                    0\n",
              "Severity of Illness                  0\n",
              "Visitors with Patient                0\n",
              "Age                                  0\n",
              "Admission_Deposit                    0\n",
              "Stay                                 0\n",
              "dtype: int64"
            ]
          },
          "metadata": {},
          "execution_count": 26
        }
      ],
      "source": [
        "# Checking if this modification created any null values\n",
        "df.isnull().sum()"
      ]
    },
    {
      "cell_type": "markdown",
      "id": "565590ae",
      "metadata": {
        "id": "565590ae"
      },
      "source": [
        "## Create variables dummies for categorical columns"
      ]
    },
    {
      "cell_type": "code",
      "execution_count": 27,
      "id": "8d0489e7",
      "metadata": {
        "colab": {
          "base_uri": "https://localhost:8080/"
        },
        "id": "8d0489e7",
        "outputId": "47efc8bd-3392-4075-d593-9555d84b598c"
      },
      "outputs": [
        {
          "output_type": "execute_result",
          "data": {
            "text/plain": [
              "Hospital_code                          int64\n",
              "Hospital_type_code                    object\n",
              "City_Code_Hospital                     int64\n",
              "Hospital_region_code                  object\n",
              "Available Extra Rooms in Hospital      int64\n",
              "Department                            object\n",
              "Ward_Type                             object\n",
              "Ward_Facility_Code                    object\n",
              "Bed Grade                              int64\n",
              "City_Code_Patient                      int64\n",
              "Type of Admission                     object\n",
              "Severity of Illness                   object\n",
              "Visitors with Patient                  int64\n",
              "Age                                   object\n",
              "Admission_Deposit                    float64\n",
              "Stay                                   int64\n",
              "dtype: object"
            ]
          },
          "metadata": {},
          "execution_count": 27
        }
      ],
      "source": [
        "# checking first the categorical columns\n",
        "df.dtypes"
      ]
    },
    {
      "cell_type": "code",
      "execution_count": 28,
      "id": "dd2c2529",
      "metadata": {
        "id": "dd2c2529"
      },
      "outputs": [],
      "source": [
        "# Creating the dummies for categorical columns, and droping the original \n",
        "df = pd.get_dummies(df, columns= ['Hospital_type_code', 'Hospital_region_code', 'Department',\n",
        "                                    'Ward_Type', 'Ward_Facility_Code', 'Type of Admission',\n",
        "                                    'Severity of Illness', 'Age'])"
      ]
    },
    {
      "cell_type": "code",
      "execution_count": 29,
      "id": "018b1c6e",
      "metadata": {
        "colab": {
          "base_uri": "https://localhost:8080/",
          "height": 352
        },
        "id": "018b1c6e",
        "outputId": "097a16e3-694b-438c-a8ab-d22fbb4a4d38"
      },
      "outputs": [
        {
          "output_type": "execute_result",
          "data": {
            "text/plain": [
              "   Hospital_code  City_Code_Hospital  Available Extra Rooms in Hospital  \\\n",
              "0              8                   3                                  3   \n",
              "1              2                   5                                  2   \n",
              "2             10                   1                                  2   \n",
              "3             26                   2                                  2   \n",
              "4             26                   2                                  2   \n",
              "\n",
              "   Bed Grade  City_Code_Patient  Visitors with Patient  Admission_Deposit  \\\n",
              "0          2                  7                      2             4911.0   \n",
              "1          2                  7                      2             5954.0   \n",
              "2          2                  7                      2             4745.0   \n",
              "3          2                  7                      2             7272.0   \n",
              "4          2                  7                      2             5558.0   \n",
              "\n",
              "   Stay  Hospital_type_code_a  Hospital_type_code_b  ...  Age_0-10  Age_11-20  \\\n",
              "0     0                     0                     0  ...         0          0   \n",
              "1     1                     0                     0  ...         0          0   \n",
              "2     1                     0                     0  ...         0          0   \n",
              "3     1                     0                     1  ...         0          0   \n",
              "4     1                     0                     1  ...         0          0   \n",
              "\n",
              "   Age_21-30  Age_31-40  Age_41-50  Age_51-60  Age_61-70  Age_71-80  \\\n",
              "0          0          0          0          1          0          0   \n",
              "1          0          0          0          1          0          0   \n",
              "2          0          0          0          1          0          0   \n",
              "3          0          0          0          1          0          0   \n",
              "4          0          0          0          1          0          0   \n",
              "\n",
              "   Age_81-90  Age_91-100  \n",
              "0          0           0  \n",
              "1          0           0  \n",
              "2          0           0  \n",
              "3          0           0  \n",
              "4          0           0  \n",
              "\n",
              "[5 rows x 51 columns]"
            ],
            "text/html": [
              "\n",
              "  <div id=\"df-31bf8c0c-57b5-4b3f-b766-75f559120a55\">\n",
              "    <div class=\"colab-df-container\">\n",
              "      <div>\n",
              "<style scoped>\n",
              "    .dataframe tbody tr th:only-of-type {\n",
              "        vertical-align: middle;\n",
              "    }\n",
              "\n",
              "    .dataframe tbody tr th {\n",
              "        vertical-align: top;\n",
              "    }\n",
              "\n",
              "    .dataframe thead th {\n",
              "        text-align: right;\n",
              "    }\n",
              "</style>\n",
              "<table border=\"1\" class=\"dataframe\">\n",
              "  <thead>\n",
              "    <tr style=\"text-align: right;\">\n",
              "      <th></th>\n",
              "      <th>Hospital_code</th>\n",
              "      <th>City_Code_Hospital</th>\n",
              "      <th>Available Extra Rooms in Hospital</th>\n",
              "      <th>Bed Grade</th>\n",
              "      <th>City_Code_Patient</th>\n",
              "      <th>Visitors with Patient</th>\n",
              "      <th>Admission_Deposit</th>\n",
              "      <th>Stay</th>\n",
              "      <th>Hospital_type_code_a</th>\n",
              "      <th>Hospital_type_code_b</th>\n",
              "      <th>...</th>\n",
              "      <th>Age_0-10</th>\n",
              "      <th>Age_11-20</th>\n",
              "      <th>Age_21-30</th>\n",
              "      <th>Age_31-40</th>\n",
              "      <th>Age_41-50</th>\n",
              "      <th>Age_51-60</th>\n",
              "      <th>Age_61-70</th>\n",
              "      <th>Age_71-80</th>\n",
              "      <th>Age_81-90</th>\n",
              "      <th>Age_91-100</th>\n",
              "    </tr>\n",
              "  </thead>\n",
              "  <tbody>\n",
              "    <tr>\n",
              "      <th>0</th>\n",
              "      <td>8</td>\n",
              "      <td>3</td>\n",
              "      <td>3</td>\n",
              "      <td>2</td>\n",
              "      <td>7</td>\n",
              "      <td>2</td>\n",
              "      <td>4911.0</td>\n",
              "      <td>0</td>\n",
              "      <td>0</td>\n",
              "      <td>0</td>\n",
              "      <td>...</td>\n",
              "      <td>0</td>\n",
              "      <td>0</td>\n",
              "      <td>0</td>\n",
              "      <td>0</td>\n",
              "      <td>0</td>\n",
              "      <td>1</td>\n",
              "      <td>0</td>\n",
              "      <td>0</td>\n",
              "      <td>0</td>\n",
              "      <td>0</td>\n",
              "    </tr>\n",
              "    <tr>\n",
              "      <th>1</th>\n",
              "      <td>2</td>\n",
              "      <td>5</td>\n",
              "      <td>2</td>\n",
              "      <td>2</td>\n",
              "      <td>7</td>\n",
              "      <td>2</td>\n",
              "      <td>5954.0</td>\n",
              "      <td>1</td>\n",
              "      <td>0</td>\n",
              "      <td>0</td>\n",
              "      <td>...</td>\n",
              "      <td>0</td>\n",
              "      <td>0</td>\n",
              "      <td>0</td>\n",
              "      <td>0</td>\n",
              "      <td>0</td>\n",
              "      <td>1</td>\n",
              "      <td>0</td>\n",
              "      <td>0</td>\n",
              "      <td>0</td>\n",
              "      <td>0</td>\n",
              "    </tr>\n",
              "    <tr>\n",
              "      <th>2</th>\n",
              "      <td>10</td>\n",
              "      <td>1</td>\n",
              "      <td>2</td>\n",
              "      <td>2</td>\n",
              "      <td>7</td>\n",
              "      <td>2</td>\n",
              "      <td>4745.0</td>\n",
              "      <td>1</td>\n",
              "      <td>0</td>\n",
              "      <td>0</td>\n",
              "      <td>...</td>\n",
              "      <td>0</td>\n",
              "      <td>0</td>\n",
              "      <td>0</td>\n",
              "      <td>0</td>\n",
              "      <td>0</td>\n",
              "      <td>1</td>\n",
              "      <td>0</td>\n",
              "      <td>0</td>\n",
              "      <td>0</td>\n",
              "      <td>0</td>\n",
              "    </tr>\n",
              "    <tr>\n",
              "      <th>3</th>\n",
              "      <td>26</td>\n",
              "      <td>2</td>\n",
              "      <td>2</td>\n",
              "      <td>2</td>\n",
              "      <td>7</td>\n",
              "      <td>2</td>\n",
              "      <td>7272.0</td>\n",
              "      <td>1</td>\n",
              "      <td>0</td>\n",
              "      <td>1</td>\n",
              "      <td>...</td>\n",
              "      <td>0</td>\n",
              "      <td>0</td>\n",
              "      <td>0</td>\n",
              "      <td>0</td>\n",
              "      <td>0</td>\n",
              "      <td>1</td>\n",
              "      <td>0</td>\n",
              "      <td>0</td>\n",
              "      <td>0</td>\n",
              "      <td>0</td>\n",
              "    </tr>\n",
              "    <tr>\n",
              "      <th>4</th>\n",
              "      <td>26</td>\n",
              "      <td>2</td>\n",
              "      <td>2</td>\n",
              "      <td>2</td>\n",
              "      <td>7</td>\n",
              "      <td>2</td>\n",
              "      <td>5558.0</td>\n",
              "      <td>1</td>\n",
              "      <td>0</td>\n",
              "      <td>1</td>\n",
              "      <td>...</td>\n",
              "      <td>0</td>\n",
              "      <td>0</td>\n",
              "      <td>0</td>\n",
              "      <td>0</td>\n",
              "      <td>0</td>\n",
              "      <td>1</td>\n",
              "      <td>0</td>\n",
              "      <td>0</td>\n",
              "      <td>0</td>\n",
              "      <td>0</td>\n",
              "    </tr>\n",
              "  </tbody>\n",
              "</table>\n",
              "<p>5 rows × 51 columns</p>\n",
              "</div>\n",
              "      <button class=\"colab-df-convert\" onclick=\"convertToInteractive('df-31bf8c0c-57b5-4b3f-b766-75f559120a55')\"\n",
              "              title=\"Convert this dataframe to an interactive table.\"\n",
              "              style=\"display:none;\">\n",
              "        \n",
              "  <svg xmlns=\"http://www.w3.org/2000/svg\" height=\"24px\"viewBox=\"0 0 24 24\"\n",
              "       width=\"24px\">\n",
              "    <path d=\"M0 0h24v24H0V0z\" fill=\"none\"/>\n",
              "    <path d=\"M18.56 5.44l.94 2.06.94-2.06 2.06-.94-2.06-.94-.94-2.06-.94 2.06-2.06.94zm-11 1L8.5 8.5l.94-2.06 2.06-.94-2.06-.94L8.5 2.5l-.94 2.06-2.06.94zm10 10l.94 2.06.94-2.06 2.06-.94-2.06-.94-.94-2.06-.94 2.06-2.06.94z\"/><path d=\"M17.41 7.96l-1.37-1.37c-.4-.4-.92-.59-1.43-.59-.52 0-1.04.2-1.43.59L10.3 9.45l-7.72 7.72c-.78.78-.78 2.05 0 2.83L4 21.41c.39.39.9.59 1.41.59.51 0 1.02-.2 1.41-.59l7.78-7.78 2.81-2.81c.8-.78.8-2.07 0-2.86zM5.41 20L4 18.59l7.72-7.72 1.47 1.35L5.41 20z\"/>\n",
              "  </svg>\n",
              "      </button>\n",
              "      \n",
              "  <style>\n",
              "    .colab-df-container {\n",
              "      display:flex;\n",
              "      flex-wrap:wrap;\n",
              "      gap: 12px;\n",
              "    }\n",
              "\n",
              "    .colab-df-convert {\n",
              "      background-color: #E8F0FE;\n",
              "      border: none;\n",
              "      border-radius: 50%;\n",
              "      cursor: pointer;\n",
              "      display: none;\n",
              "      fill: #1967D2;\n",
              "      height: 32px;\n",
              "      padding: 0 0 0 0;\n",
              "      width: 32px;\n",
              "    }\n",
              "\n",
              "    .colab-df-convert:hover {\n",
              "      background-color: #E2EBFA;\n",
              "      box-shadow: 0px 1px 2px rgba(60, 64, 67, 0.3), 0px 1px 3px 1px rgba(60, 64, 67, 0.15);\n",
              "      fill: #174EA6;\n",
              "    }\n",
              "\n",
              "    [theme=dark] .colab-df-convert {\n",
              "      background-color: #3B4455;\n",
              "      fill: #D2E3FC;\n",
              "    }\n",
              "\n",
              "    [theme=dark] .colab-df-convert:hover {\n",
              "      background-color: #434B5C;\n",
              "      box-shadow: 0px 1px 3px 1px rgba(0, 0, 0, 0.15);\n",
              "      filter: drop-shadow(0px 1px 2px rgba(0, 0, 0, 0.3));\n",
              "      fill: #FFFFFF;\n",
              "    }\n",
              "  </style>\n",
              "\n",
              "      <script>\n",
              "        const buttonEl =\n",
              "          document.querySelector('#df-31bf8c0c-57b5-4b3f-b766-75f559120a55 button.colab-df-convert');\n",
              "        buttonEl.style.display =\n",
              "          google.colab.kernel.accessAllowed ? 'block' : 'none';\n",
              "\n",
              "        async function convertToInteractive(key) {\n",
              "          const element = document.querySelector('#df-31bf8c0c-57b5-4b3f-b766-75f559120a55');\n",
              "          const dataTable =\n",
              "            await google.colab.kernel.invokeFunction('convertToInteractive',\n",
              "                                                     [key], {});\n",
              "          if (!dataTable) return;\n",
              "\n",
              "          const docLinkHtml = 'Like what you see? Visit the ' +\n",
              "            '<a target=\"_blank\" href=https://colab.research.google.com/notebooks/data_table.ipynb>data table notebook</a>'\n",
              "            + ' to learn more about interactive tables.';\n",
              "          element.innerHTML = '';\n",
              "          dataTable['output_type'] = 'display_data';\n",
              "          await google.colab.output.renderOutput(dataTable, element);\n",
              "          const docLink = document.createElement('div');\n",
              "          docLink.innerHTML = docLinkHtml;\n",
              "          element.appendChild(docLink);\n",
              "        }\n",
              "      </script>\n",
              "    </div>\n",
              "  </div>\n",
              "  "
            ]
          },
          "metadata": {},
          "execution_count": 29
        }
      ],
      "source": [
        "df.head()"
      ]
    },
    {
      "cell_type": "code",
      "execution_count": 30,
      "id": "5e009969",
      "metadata": {
        "colab": {
          "base_uri": "https://localhost:8080/"
        },
        "id": "5e009969",
        "outputId": "6e22ed22-f482-429c-e677-cd4aff8d05f6"
      },
      "outputs": [
        {
          "output_type": "execute_result",
          "data": {
            "text/plain": [
              "(313793, 51)"
            ]
          },
          "metadata": {},
          "execution_count": 30
        }
      ],
      "source": [
        "# Checking now the new amount of columns\n",
        "df.shape"
      ]
    },
    {
      "cell_type": "code",
      "execution_count": 31,
      "id": "7eeab51b",
      "metadata": {
        "colab": {
          "base_uri": "https://localhost:8080/"
        },
        "id": "7eeab51b",
        "outputId": "39b8fc86-d76e-46e8-b67d-6b3fb52740b5"
      },
      "outputs": [
        {
          "output_type": "execute_result",
          "data": {
            "text/plain": [
              "Hospital_code                        0\n",
              "City_Code_Hospital                   0\n",
              "Available Extra Rooms in Hospital    0\n",
              "Bed Grade                            0\n",
              "City_Code_Patient                    0\n",
              "Visitors with Patient                0\n",
              "Admission_Deposit                    0\n",
              "Stay                                 0\n",
              "Hospital_type_code_a                 0\n",
              "Hospital_type_code_b                 0\n",
              "Hospital_type_code_c                 0\n",
              "Hospital_type_code_d                 0\n",
              "Hospital_type_code_e                 0\n",
              "Hospital_type_code_f                 0\n",
              "Hospital_type_code_g                 0\n",
              "Hospital_region_code_X               0\n",
              "Hospital_region_code_Y               0\n",
              "Hospital_region_code_Z               0\n",
              "Department_TB & Chest disease        0\n",
              "Department_anesthesia                0\n",
              "Department_gynecology                0\n",
              "Department_radiotherapy              0\n",
              "Department_surgery                   0\n",
              "Ward_Type_P                          0\n",
              "Ward_Type_Q                          0\n",
              "Ward_Type_R                          0\n",
              "Ward_Type_S                          0\n",
              "Ward_Type_T                          0\n",
              "Ward_Type_U                          0\n",
              "Ward_Facility_Code_A                 0\n",
              "Ward_Facility_Code_B                 0\n",
              "Ward_Facility_Code_C                 0\n",
              "Ward_Facility_Code_D                 0\n",
              "Ward_Facility_Code_E                 0\n",
              "Ward_Facility_Code_F                 0\n",
              "Type of Admission_Emergency          0\n",
              "Type of Admission_Trauma             0\n",
              "Type of Admission_Urgent             0\n",
              "Severity of Illness_Extreme          0\n",
              "Severity of Illness_Minor            0\n",
              "Severity of Illness_Moderate         0\n",
              "Age_0-10                             0\n",
              "Age_11-20                            0\n",
              "Age_21-30                            0\n",
              "Age_31-40                            0\n",
              "Age_41-50                            0\n",
              "Age_51-60                            0\n",
              "Age_61-70                            0\n",
              "Age_71-80                            0\n",
              "Age_81-90                            0\n",
              "Age_91-100                           0\n",
              "dtype: int64"
            ]
          },
          "metadata": {},
          "execution_count": 31
        }
      ],
      "source": [
        "# Checking if the transformation created any null values\n",
        "df.isnull().sum()"
      ]
    },
    {
      "cell_type": "code",
      "execution_count": 32,
      "id": "03d18af8",
      "metadata": {
        "colab": {
          "base_uri": "https://localhost:8080/"
        },
        "id": "03d18af8",
        "outputId": "bec089ec-1c68-4da5-a5ab-4d87cc658f79"
      },
      "outputs": [
        {
          "output_type": "execute_result",
          "data": {
            "text/plain": [
              "Hospital_code                          int64\n",
              "City_Code_Hospital                     int64\n",
              "Available Extra Rooms in Hospital      int64\n",
              "Bed Grade                              int64\n",
              "City_Code_Patient                      int64\n",
              "Visitors with Patient                  int64\n",
              "Admission_Deposit                    float64\n",
              "Stay                                   int64\n",
              "Hospital_type_code_a                   uint8\n",
              "Hospital_type_code_b                   uint8\n",
              "Hospital_type_code_c                   uint8\n",
              "Hospital_type_code_d                   uint8\n",
              "Hospital_type_code_e                   uint8\n",
              "Hospital_type_code_f                   uint8\n",
              "Hospital_type_code_g                   uint8\n",
              "Hospital_region_code_X                 uint8\n",
              "Hospital_region_code_Y                 uint8\n",
              "Hospital_region_code_Z                 uint8\n",
              "Department_TB & Chest disease          uint8\n",
              "Department_anesthesia                  uint8\n",
              "Department_gynecology                  uint8\n",
              "Department_radiotherapy                uint8\n",
              "Department_surgery                     uint8\n",
              "Ward_Type_P                            uint8\n",
              "Ward_Type_Q                            uint8\n",
              "Ward_Type_R                            uint8\n",
              "Ward_Type_S                            uint8\n",
              "Ward_Type_T                            uint8\n",
              "Ward_Type_U                            uint8\n",
              "Ward_Facility_Code_A                   uint8\n",
              "Ward_Facility_Code_B                   uint8\n",
              "Ward_Facility_Code_C                   uint8\n",
              "Ward_Facility_Code_D                   uint8\n",
              "Ward_Facility_Code_E                   uint8\n",
              "Ward_Facility_Code_F                   uint8\n",
              "Type of Admission_Emergency            uint8\n",
              "Type of Admission_Trauma               uint8\n",
              "Type of Admission_Urgent               uint8\n",
              "Severity of Illness_Extreme            uint8\n",
              "Severity of Illness_Minor              uint8\n",
              "Severity of Illness_Moderate           uint8\n",
              "Age_0-10                               uint8\n",
              "Age_11-20                              uint8\n",
              "Age_21-30                              uint8\n",
              "Age_31-40                              uint8\n",
              "Age_41-50                              uint8\n",
              "Age_51-60                              uint8\n",
              "Age_61-70                              uint8\n",
              "Age_71-80                              uint8\n",
              "Age_81-90                              uint8\n",
              "Age_91-100                             uint8\n",
              "dtype: object"
            ]
          },
          "metadata": {},
          "execution_count": 32
        }
      ],
      "source": [
        "# Checking if there is any categorical column\n",
        "df.dtypes"
      ]
    },
    {
      "cell_type": "markdown",
      "id": "f53de19f",
      "metadata": {
        "id": "f53de19f"
      },
      "source": [
        "## Split"
      ]
    },
    {
      "cell_type": "code",
      "execution_count": 33,
      "id": "246160f2",
      "metadata": {
        "id": "246160f2"
      },
      "outputs": [],
      "source": [
        "# saving the target column into a variable caled y\n",
        "y = df['Stay']"
      ]
    },
    {
      "cell_type": "code",
      "execution_count": 34,
      "id": "a83f2a8e",
      "metadata": {
        "id": "a83f2a8e"
      },
      "outputs": [],
      "source": [
        "# droping the target column and saving the rest into a variable caled X\n",
        "X = df.drop(columns=['Stay'], axis= 1)"
      ]
    },
    {
      "cell_type": "code",
      "execution_count": 35,
      "id": "06227352",
      "metadata": {
        "colab": {
          "base_uri": "https://localhost:8080/"
        },
        "id": "06227352",
        "outputId": "fb40aab1-41eb-40fe-b7cd-afa327b0c14d"
      },
      "outputs": [
        {
          "output_type": "execute_result",
          "data": {
            "text/plain": [
              "(313793,)"
            ]
          },
          "metadata": {},
          "execution_count": 35
        }
      ],
      "source": [
        "y.shape"
      ]
    },
    {
      "cell_type": "code",
      "execution_count": 36,
      "id": "f27b2be7",
      "metadata": {
        "colab": {
          "base_uri": "https://localhost:8080/"
        },
        "id": "f27b2be7",
        "outputId": "849e95a4-8396-4a57-bab0-091cd9f06597"
      },
      "outputs": [
        {
          "output_type": "execute_result",
          "data": {
            "text/plain": [
              "(313793, 50)"
            ]
          },
          "metadata": {},
          "execution_count": 36
        }
      ],
      "source": [
        "X.shape"
      ]
    },
    {
      "cell_type": "markdown",
      "id": "5fc51f80",
      "metadata": {
        "id": "5fc51f80"
      },
      "source": [
        "**This dataset is already separate into a train and a test datasets, so there is no need to make a train test split. But I'll do this separation for creating a validation set.**"
      ]
    },
    {
      "cell_type": "code",
      "execution_count": 37,
      "id": "9d662159",
      "metadata": {
        "id": "9d662159"
      },
      "outputs": [],
      "source": [
        "# Spliting into train and test. Only for this dataset, this split wil create a train and a validation datasets.\n",
        "\n",
        "X_train,X_test,y_train,y_test=train_test_split(X,y,test_size=.2,random_state=42)"
      ]
    },
    {
      "cell_type": "markdown",
      "id": "e4a6ec3e",
      "metadata": {
        "id": "e4a6ec3e"
      },
      "source": [
        "# Training and Evaluating the Performance"
      ]
    },
    {
      "cell_type": "code",
      "execution_count": 38,
      "id": "4ef74ad8",
      "metadata": {
        "colab": {
          "base_uri": "https://localhost:8080/"
        },
        "id": "4ef74ad8",
        "outputId": "4a6c379b-6318-45d5-d162-5a5fda36bc6d"
      },
      "outputs": [
        {
          "output_type": "stream",
          "name": "stdout",
          "text": [
            "CPU times: user 4min 52s, sys: 4.2 s, total: 4min 57s\n",
            "Wall time: 5min 12s\n"
          ]
        },
        {
          "output_type": "execute_result",
          "data": {
            "text/plain": [
              "0.7802807599896188"
            ]
          },
          "metadata": {},
          "execution_count": 38
        }
      ],
      "source": [
        "%%time\n",
        "# Random Forest\n",
        "\n",
        "model_RandomForest = RandomForestClassifier(random_state=42)\n",
        "model_RandomForest.fit(X_train, y_train)\n",
        "\n",
        "cross_val_score(model_RandomForest, X_train, y_train,cv=5, scoring='accuracy').mean() "
      ]
    },
    {
      "cell_type": "code",
      "execution_count": 39,
      "id": "44d5a412",
      "metadata": {
        "colab": {
          "base_uri": "https://localhost:8080/"
        },
        "id": "44d5a412",
        "outputId": "36405573-4029-4f21-ac9b-366f2cd47b81"
      },
      "outputs": [
        {
          "output_type": "stream",
          "name": "stdout",
          "text": [
            "CPU times: user 43.7 s, sys: 556 ms, total: 44.3 s\n",
            "Wall time: 26.8 s\n"
          ]
        },
        {
          "output_type": "execute_result",
          "data": {
            "text/plain": [
              "0.7966251642670523"
            ]
          },
          "metadata": {},
          "execution_count": 39
        }
      ],
      "source": [
        "%%time\n",
        "# Light GBM\n",
        "\n",
        "model_LightGBM = lgbm.LGBMClassifier(random_state=42)\n",
        "model_LightGBM.fit(X_train, y_train)\n",
        "\n",
        "cross_val_score(model_LightGBM, X_train, y_train,cv=5, scoring='accuracy').mean() "
      ]
    },
    {
      "cell_type": "code",
      "execution_count": 40,
      "id": "c5549ff5",
      "metadata": {
        "colab": {
          "base_uri": "https://localhost:8080/"
        },
        "id": "c5549ff5",
        "outputId": "d38ebb2f-66bc-4824-8eb7-c8bceb7b021e"
      },
      "outputs": [
        {
          "output_type": "stream",
          "name": "stdout",
          "text": [
            "CPU times: user 10min 14s, sys: 1.47 s, total: 10min 15s\n",
            "Wall time: 6min 3s\n"
          ]
        },
        {
          "output_type": "execute_result",
          "data": {
            "text/plain": [
              "0.7965096428444289"
            ]
          },
          "metadata": {},
          "execution_count": 40
        }
      ],
      "source": [
        "%%time\n",
        "# XGBoost\n",
        "\n",
        "model_XGBoost = xgb.XGBClassifier(random_state=42)\n",
        "model_XGBoost.fit(X_train, y_train)\n",
        "\n",
        "cross_val_score(model_XGBoost, X_train, y_train,cv=5, scoring='accuracy').mean() "
      ]
    },
    {
      "cell_type": "code",
      "execution_count": 41,
      "id": "4eddf90a",
      "metadata": {
        "colab": {
          "base_uri": "https://localhost:8080/"
        },
        "id": "4eddf90a",
        "outputId": "c4627333-f1e2-4e1e-f805-cb621922db2c"
      },
      "outputs": [
        {
          "output_type": "execute_result",
          "data": {
            "text/plain": [
              "0    59.543727\n",
              "1    40.456273\n",
              "Name: Stay, dtype: float64"
            ]
          },
          "metadata": {},
          "execution_count": 41
        }
      ],
      "source": [
        "y_train.value_counts() / y_train.shape[0] * 100"
      ]
    },
    {
      "cell_type": "markdown",
      "id": "91cd082c",
      "metadata": {
        "id": "91cd082c"
      },
      "source": [
        "**When we look into the accuracy of the models with the train set, getting 92% of accuracy for a first glance it souns pretty good, but when we look into our target, they are huge inbalanced (~92.61% of 1 and ~7.39% of 0). So even with a 92% of accuracy, it is possible that the model are just predicting right the targets with value = 1.**"
      ]
    },
    {
      "cell_type": "markdown",
      "id": "28782239",
      "metadata": {
        "id": "28782239"
      },
      "source": [
        "## Confusion Matrix"
      ]
    },
    {
      "cell_type": "code",
      "execution_count": 42,
      "id": "967e63a4",
      "metadata": {
        "colab": {
          "base_uri": "https://localhost:8080/",
          "height": 296
        },
        "id": "967e63a4",
        "outputId": "63dc2606-bbde-465d-fd1a-2b5beed37319"
      },
      "outputs": [
        {
          "output_type": "execute_result",
          "data": {
            "text/plain": [
              "<sklearn.metrics._plot.confusion_matrix.ConfusionMatrixDisplay at 0x7fc51d1451f0>"
            ]
          },
          "metadata": {},
          "execution_count": 42
        },
        {
          "output_type": "display_data",
          "data": {
            "text/plain": [
              "<Figure size 432x288 with 2 Axes>"
            ],
            "image/png": "[encoded data removed]"
          },
          "metadata": {
            "needs_background": "light"
          }
        }
      ],
      "source": [
        "# Random Forest\n",
        "y_train_pred_RF = cross_val_predict(model_RandomForest,X_train,y_train, cv=5)\n",
        "\n",
        "cm_crossValidation = confusion_matrix(y_train, y_train_pred_RF) # Confusion Matrix\n",
        "\n",
        "# Plotting the Matrix\n",
        "disp = ConfusionMatrixDisplay(confusion_matrix=cm_crossValidation, display_labels=['< 30 days', '≥ 30 days'])\n",
        "disp.plot(cmap='Blues')"
      ]
    },
    {
      "cell_type": "code",
      "execution_count": 43,
      "id": "185c3fb9",
      "metadata": {
        "colab": {
          "base_uri": "https://localhost:8080/",
          "height": 298
        },
        "id": "185c3fb9",
        "outputId": "1f1e1551-2736-4dca-9121-2b3ffea526a6"
      },
      "outputs": [
        {
          "output_type": "execute_result",
          "data": {
            "text/plain": [
              "<sklearn.metrics._plot.confusion_matrix.ConfusionMatrixDisplay at 0x7fc51c916fa0>"
            ]
          },
          "metadata": {},
          "execution_count": 43
        },
        {
          "output_type": "display_data",
          "data": {
            "text/plain": [
              "<Figure size 432x288 with 2 Axes>"
            ],
            "image/png": "[encoded data removed]"
          },
          "metadata": {
            "needs_background": "light"
          }
        }
      ],
      "source": [
        "# Light GBM\n",
        "y_train_pred_LGBM = cross_val_predict(model_LightGBM,X_train,y_train, cv=5)\n",
        "\n",
        "cm_crossValidation = confusion_matrix(y_train, y_train_pred_LGBM) # Confusion Matrix\n",
        "\n",
        "# Plotting the Matrix\n",
        "disp = ConfusionMatrixDisplay(confusion_matrix=cm_crossValidation, display_labels=['< 30 days', '≥ 30 days'])\n",
        "disp.plot(cmap='Blues')"
      ]
    },
    {
      "cell_type": "code",
      "execution_count": 44,
      "id": "b145150f",
      "metadata": {
        "colab": {
          "base_uri": "https://localhost:8080/",
          "height": 300
        },
        "id": "b145150f",
        "outputId": "025eac8d-e26a-4598-ef84-4352f69cb3bb"
      },
      "outputs": [
        {
          "output_type": "execute_result",
          "data": {
            "text/plain": [
              "<sklearn.metrics._plot.confusion_matrix.ConfusionMatrixDisplay at 0x7fc51c81fc10>"
            ]
          },
          "metadata": {},
          "execution_count": 44
        },
        {
          "output_type": "display_data",
          "data": {
            "text/plain": [
              "<Figure size 432x288 with 2 Axes>"
            ],
            "image/png": "[encoded data removed]"
          },
          "metadata": {
            "needs_background": "light"
          }
        }
      ],
      "source": [
        "# XGBoost\n",
        "y_train_pred_XGB = cross_val_predict(model_XGBoost,X_train,y_train, cv=5)\n",
        "\n",
        "cm_crossValidation = confusion_matrix(y_train, y_train_pred_XGB) # Confusion Matrix\n",
        "\n",
        "# Plotting the matrix\n",
        "disp = ConfusionMatrixDisplay(confusion_matrix=cm_crossValidation, display_labels=['< 30 days', '≥ 30 days'])\n",
        "disp.plot(cmap='Blues')\n"
      ]
    },
    {
      "cell_type": "markdown",
      "id": "6f949bba",
      "metadata": {
        "id": "6f949bba"
      },
      "source": [
        "## Precision, Recall and F1-Score"
      ]
    },
    {
      "cell_type": "code",
      "execution_count": 45,
      "id": "11ed4a1e",
      "metadata": {
        "colab": {
          "base_uri": "https://localhost:8080/"
        },
        "id": "11ed4a1e",
        "outputId": "41250c8f-c343-46b7-f122-ec46ed7924e0"
      },
      "outputs": [
        {
          "output_type": "stream",
          "name": "stdout",
          "text": [
            "Precision: 0.7907903642243\n",
            "Recall: 0.6212546401599071\n",
            "F1 Score: 0.6958449364471035\n"
          ]
        }
      ],
      "source": [
        "# Random Forest\n",
        "print(\"Precision: {}\".format(precision_score(y_train, y_train_pred_RF)))\n",
        "print(\"Recall: {}\".format(recall_score(y_train, y_train_pred_RF)))\n",
        "print(\"F1 Score: {}\".format(f1_score(y_train, y_train_pred_RF)))"
      ]
    },
    {
      "cell_type": "code",
      "execution_count": 46,
      "id": "46d40a68",
      "metadata": {
        "colab": {
          "base_uri": "https://localhost:8080/"
        },
        "id": "46d40a68",
        "outputId": "701b8120-2cbe-4fd2-a921-52817d6ccb94"
      },
      "outputs": [
        {
          "output_type": "stream",
          "name": "stdout",
          "text": [
            "Precision: 0.8817864324267118\n",
            "Recall: 0.5742868677320573\n",
            "F1 Score: 0.6955671369452958\n"
          ]
        }
      ],
      "source": [
        "# Light GBM\n",
        "print(\"Precision: {}\".format(precision_score(y_train, y_train_pred_LGBM)))\n",
        "print(\"Recall: {}\".format(recall_score(y_train, y_train_pred_LGBM)))\n",
        "print(\"F1 Score: {}\".format(f1_score(y_train, y_train_pred_LGBM)))"
      ]
    },
    {
      "cell_type": "code",
      "execution_count": 47,
      "id": "818b8725",
      "metadata": {
        "colab": {
          "base_uri": "https://localhost:8080/"
        },
        "id": "818b8725",
        "outputId": "de1f5336-d031-4948-84b5-2af382f8720c"
      },
      "outputs": [
        {
          "output_type": "stream",
          "name": "stdout",
          "text": [
            "Precision: 0.8644160794732586\n",
            "Recall: 0.5894701602024439\n",
            "F1 Score: 0.700945467318444\n"
          ]
        }
      ],
      "source": [
        "# XGBoost\n",
        "print(\"Precision: {}\".format(precision_score(y_train, y_train_pred_XGB)))\n",
        "print(\"Recall: {}\".format(recall_score(y_train, y_train_pred_XGB)))\n",
        "print(\"F1 Score: {}\".format(f1_score(y_train, y_train_pred_XGB)))"
      ]
    },
    {
      "cell_type": "markdown",
      "id": "d42a6e9a",
      "metadata": {
        "id": "d42a6e9a"
      },
      "source": [
        "## ROC Curve"
      ]
    },
    {
      "cell_type": "code",
      "execution_count": 48,
      "id": "ebede764",
      "metadata": {
        "colab": {
          "base_uri": "https://localhost:8080/",
          "height": 265
        },
        "id": "ebede764",
        "outputId": "2de3ad93-bd7f-43ea-ca1f-c6363c51026a"
      },
      "outputs": [
        {
          "output_type": "display_data",
          "data": {
            "text/plain": [
              "<Figure size 432x288 with 1 Axes>"
            ],
            "image/png": "[encoded data removed]"
          },
          "metadata": {
            "needs_background": "light"
          }
        }
      ],
      "source": [
        "## Random Forest \n",
        "\n",
        "y_scores_RF = cross_val_predict(model_RandomForest, X_train, y_train, cv=3, method='predict_proba')[:,1] \n",
        "\n",
        "# Plotting the ROC Curve\n",
        "fpr, tpr, thresholds = roc_curve(y_train, y_scores_RF)\n",
        "\n",
        "def plot_roc_curve(fpr, tpr, label=None):\n",
        "  plt.plot(fpr, tpr, linewidth=2, label=label)\n",
        "  plt.plot([0,1], [0,1], 'k--')\n",
        "\n",
        "plot_roc_curve(fpr,tpr)\n",
        "plt.show()\n",
        "     "
      ]
    },
    {
      "cell_type": "code",
      "execution_count": 49,
      "id": "388c84a9",
      "metadata": {
        "colab": {
          "base_uri": "https://localhost:8080/"
        },
        "id": "388c84a9",
        "outputId": "b3204dec-f29b-4412-985d-77afc272794c"
      },
      "outputs": [
        {
          "output_type": "execute_result",
          "data": {
            "text/plain": [
              "0.814157042765339"
            ]
          },
          "metadata": {},
          "execution_count": 49
        }
      ],
      "source": [
        "roc_auc_score(y_train, y_scores_RF)"
      ]
    },
    {
      "cell_type": "code",
      "source": [
        "## Light GBM \n",
        "\n",
        "y_scores_LGBM = cross_val_predict(model_LightGBM, X_train, y_train, cv=3, method='predict_proba')[:,1] \n",
        "\n",
        "# Plotting the ROC Curve\n",
        "fpr, tpr, thresholds = roc_curve(y_train, y_scores_LGBM)\n",
        "\n",
        "def plot_roc_curve(fpr, tpr, label=None):\n",
        "  plt.plot(fpr, tpr, linewidth=2, label=label)\n",
        "  plt.plot([0,1], [0,1], 'k--')\n",
        "\n",
        "plot_roc_curve(fpr,tpr)\n",
        "plt.show()\n",
        "     "
      ],
      "metadata": {
        "colab": {
          "base_uri": "https://localhost:8080/",
          "height": 265
        },
        "id": "rzZ5kiF3_OlO",
        "outputId": "fceec907-3526-4045-b5a1-3c5c6e61fc8e"
      },
      "id": "rzZ5kiF3_OlO",
      "execution_count": 50,
      "outputs": [
        {
          "output_type": "display_data",
          "data": {
            "text/plain": [
              "<Figure size 432x288 with 1 Axes>"
            ],
            "image/png": "[encoded data removed]"
          },
          "metadata": {
            "needs_background": "light"
          }
        }
      ]
    },
    {
      "cell_type": "code",
      "source": [
        "roc_auc_score(y_train, y_scores_LGBM)"
      ],
      "metadata": {
        "colab": {
          "base_uri": "https://localhost:8080/"
        },
        "id": "3YyMJMO5_Oth",
        "outputId": "059531be-61b8-4bf8-b100-776e77711ae4"
      },
      "id": "3YyMJMO5_Oth",
      "execution_count": 51,
      "outputs": [
        {
          "output_type": "execute_result",
          "data": {
            "text/plain": [
              "0.8375027347403766"
            ]
          },
          "metadata": {},
          "execution_count": 51
        }
      ]
    },
    {
      "cell_type": "code",
      "execution_count": 52,
      "id": "77322593",
      "metadata": {
        "colab": {
          "base_uri": "https://localhost:8080/",
          "height": 265
        },
        "id": "77322593",
        "outputId": "faeb1b5c-b06d-4449-db4a-fb7132de92ca"
      },
      "outputs": [
        {
          "output_type": "display_data",
          "data": {
            "text/plain": [
              "<Figure size 432x288 with 1 Axes>"
            ],
            "image/png": "[encoded data removed]"
          },
          "metadata": {
            "needs_background": "light"
          }
        }
      ],
      "source": [
        "# XGBoost\n",
        "\n",
        "y_scores_XGB = cross_val_predict(model_XGBoost, X_train, y_train, cv=3, method='predict_proba')[:,1] \n",
        "\n",
        "# Plotting the ROC Curve\n",
        "fpr, tpr, thresholds = roc_curve(y_train, y_scores_XGB)\n",
        "\n",
        "def plot_roc_curve(fpr, tpr, label=None):\n",
        "  plt.plot(fpr, tpr, linewidth=2, label=label)\n",
        "  plt.plot([0,1], [0,1], 'k--')\n",
        "\n",
        "plot_roc_curve(fpr,tpr)\n",
        "plt.show()\n"
      ]
    },
    {
      "cell_type": "code",
      "execution_count": 53,
      "id": "ca02ccc6",
      "metadata": {
        "colab": {
          "base_uri": "https://localhost:8080/"
        },
        "id": "ca02ccc6",
        "outputId": "de5bd054-5106-496c-d3cb-e1709e47903b"
      },
      "outputs": [
        {
          "output_type": "execute_result",
          "data": {
            "text/plain": [
              "0.8372468752209913"
            ]
          },
          "metadata": {},
          "execution_count": 53
        }
      ],
      "source": [
        "roc_auc_score(y_train, y_scores_XGB)"
      ]
    },
    {
      "cell_type": "markdown",
      "source": [
        "# Hiperparameters"
      ],
      "metadata": {
        "id": "ZoJGDAe_x7PP"
      },
      "id": "ZoJGDAe_x7PP"
    },
    {
      "cell_type": "code",
      "source": [
        "# Parameters options for testing\n",
        "parameters = {'learning_rate': [0.005, 0.01],\n",
        "              'n_estimators': [8, 16, 24],\n",
        "              'num_leaves': [6, 8, 12, 16]}\n",
        "              \n",
        "          \n",
        "clf = RandomizedSearchCV(model_LightGBM,parameters,n_iter=100,scoring='roc_auc',\n",
        "                         random_state=42)\n",
        "\n",
        "clf.fit(X_train, y_train)"
      ],
      "metadata": {
        "colab": {
          "base_uri": "https://localhost:8080/",
          "height": 135
        },
        "id": "j67YxKDR1Zk8",
        "outputId": "8def647b-44eb-470c-cf2d-7953058efb91"
      },
      "id": "j67YxKDR1Zk8",
      "execution_count": 54,
      "outputs": [
        {
          "output_type": "stream",
          "name": "stderr",
          "text": [
            "The total space of parameters 24 is smaller than n_iter=100. Running 24 iterations. For exhaustive searches, use GridSearchCV.\n"
          ]
        },
        {
          "output_type": "execute_result",
          "data": {
            "text/plain": [
              "RandomizedSearchCV(estimator=LGBMClassifier(random_state=42), n_iter=100,\n",
              "                   param_distributions={'learning_rate': [0.005, 0.01],\n",
              "                                        'n_estimators': [8, 16, 24],\n",
              "                                        'num_leaves': [6, 8, 12, 16]},\n",
              "                   random_state=42, scoring='roc_auc')"
            ],
            "text/html": [
              "<style>#sk-container-id-1 {color: black;background-color: white;}#sk-container-id-1 pre{padding: 0;}#sk-container-id-1 div.sk-toggleable {background-color: white;}#sk-container-id-1 label.sk-toggleable__label {cursor: pointer;display: block;width: 100%;margin-bottom: 0;padding: 0.3em;box-sizing: border-box;text-align: center;}#sk-container-id-1 label.sk-toggleable__label-arrow:before {content: \"▸\";float: left;margin-right: 0.25em;color: #696969;}#sk-container-id-1 label.sk-toggleable__label-arrow:hover:before {color: black;}#sk-container-id-1 div.sk-estimator:hover label.sk-toggleable__label-arrow:before {color: black;}#sk-container-id-1 div.sk-toggleable__content {max-height: 0;max-width: 0;overflow: hidden;text-align: left;background-color: #f0f8ff;}#sk-container-id-1 div.sk-toggleable__content pre {margin: 0.2em;color: black;border-radius: 0.25em;background-color: #f0f8ff;}#sk-container-id-1 input.sk-toggleable__control:checked~div.sk-toggleable__content {max-height: 200px;max-width: 100%;overflow: auto;}#sk-container-id-1 input.sk-toggleable__control:checked~label.sk-toggleable__label-arrow:before {content: \"▾\";}#sk-container-id-1 div.sk-estimator input.sk-toggleable__control:checked~label.sk-toggleable__label {background-color: #d4ebff;}#sk-container-id-1 div.sk-label input.sk-toggleable__control:checked~label.sk-toggleable__label {background-color: #d4ebff;}#sk-container-id-1 input.sk-hidden--visually {border: 0;clip: rect(1px 1px 1px 1px);clip: rect(1px, 1px, 1px, 1px);height: 1px;margin: -1px;overflow: hidden;padding: 0;position: absolute;width: 1px;}#sk-container-id-1 div.sk-estimator {font-family: monospace;background-color: #f0f8ff;border: 1px dotted black;border-radius: 0.25em;box-sizing: border-box;margin-bottom: 0.5em;}#sk-container-id-1 div.sk-estimator:hover {background-color: #d4ebff;}#sk-container-id-1 div.sk-parallel-item::after {content: \"\";width: 100%;border-bottom: 1px solid gray;flex-grow: 1;}#sk-container-id-1 div.sk-label:hover label.sk-toggleable__label {background-color: #d4ebff;}#sk-container-id-1 div.sk-serial::before {content: \"\";position: absolute;border-left: 1px solid gray;box-sizing: border-box;top: 0;bottom: 0;left: 50%;z-index: 0;}#sk-container-id-1 div.sk-serial {display: flex;flex-direction: column;align-items: center;background-color: white;padding-right: 0.2em;padding-left: 0.2em;position: relative;}#sk-container-id-1 div.sk-item {position: relative;z-index: 1;}#sk-container-id-1 div.sk-parallel {display: flex;align-items: stretch;justify-content: center;background-color: white;position: relative;}#sk-container-id-1 div.sk-item::before, #sk-container-id-1 div.sk-parallel-item::before {content: \"\";position: absolute;border-left: 1px solid gray;box-sizing: border-box;top: 0;bottom: 0;left: 50%;z-index: -1;}#sk-container-id-1 div.sk-parallel-item {display: flex;flex-direction: column;z-index: 1;position: relative;background-color: white;}#sk-container-id-1 div.sk-parallel-item:first-child::after {align-self: flex-end;width: 50%;}#sk-container-id-1 div.sk-parallel-item:last-child::after {align-self: flex-start;width: 50%;}#sk-container-id-1 div.sk-parallel-item:only-child::after {width: 0;}#sk-container-id-1 div.sk-dashed-wrapped {border: 1px dashed gray;margin: 0 0.4em 0.5em 0.4em;box-sizing: border-box;padding-bottom: 0.4em;background-color: white;}#sk-container-id-1 div.sk-label label {font-family: monospace;font-weight: bold;display: inline-block;line-height: 1.2em;}#sk-container-id-1 div.sk-label-container {text-align: center;}#sk-container-id-1 div.sk-container {/* jupyter's `normalize.less` sets `[hidden] { display: none; }` but bootstrap.min.css set `[hidden] { display: none !important; }` so we also need the `!important` here to be able to override the default hidden behavior on the sphinx rendered scikit-learn.org. See: https://github.com/scikit-learn/scikit-learn/issues/21755 */display: inline-block !important;position: relative;}#sk-container-id-1 div.sk-text-repr-fallback {display: none;}</style><div id=\"sk-container-id-1\" class=\"sk-top-container\"><div class=\"sk-text-repr-fallback\"><pre>RandomizedSearchCV(estimator=LGBMClassifier(random_state=42), n_iter=100,\n",
              "                   param_distributions={&#x27;learning_rate&#x27;: [0.005, 0.01],\n",
              "                                        &#x27;n_estimators&#x27;: [8, 16, 24],\n",
              "                                        &#x27;num_leaves&#x27;: [6, 8, 12, 16]},\n",
              "                   random_state=42, scoring=&#x27;roc_auc&#x27;)</pre><b>In a Jupyter environment, please rerun this cell to show the HTML representation or trust the notebook. <br />On GitHub, the HTML representation is unable to render, please try loading this page with nbviewer.org.</b></div><div class=\"sk-container\" hidden><div class=\"sk-item sk-dashed-wrapped\"><div class=\"sk-label-container\"><div class=\"sk-label sk-toggleable\"><input class=\"sk-toggleable__control sk-hidden--visually\" id=\"sk-estimator-id-1\" type=\"checkbox\" ><label for=\"sk-estimator-id-1\" class=\"sk-toggleable__label sk-toggleable__label-arrow\">RandomizedSearchCV</label><div class=\"sk-toggleable__content\"><pre>RandomizedSearchCV(estimator=LGBMClassifier(random_state=42), n_iter=100,\n",
              "                   param_distributions={&#x27;learning_rate&#x27;: [0.005, 0.01],\n",
              "                                        &#x27;n_estimators&#x27;: [8, 16, 24],\n",
              "                                        &#x27;num_leaves&#x27;: [6, 8, 12, 16]},\n",
              "                   random_state=42, scoring=&#x27;roc_auc&#x27;)</pre></div></div></div><div class=\"sk-parallel\"><div class=\"sk-parallel-item\"><div class=\"sk-item\"><div class=\"sk-label-container\"><div class=\"sk-label sk-toggleable\"><input class=\"sk-toggleable__control sk-hidden--visually\" id=\"sk-estimator-id-2\" type=\"checkbox\" ><label for=\"sk-estimator-id-2\" class=\"sk-toggleable__label sk-toggleable__label-arrow\">estimator: LGBMClassifier</label><div class=\"sk-toggleable__content\"><pre>LGBMClassifier(random_state=42)</pre></div></div></div><div class=\"sk-serial\"><div class=\"sk-item\"><div class=\"sk-estimator sk-toggleable\"><input class=\"sk-toggleable__control sk-hidden--visually\" id=\"sk-estimator-id-3\" type=\"checkbox\" ><label for=\"sk-estimator-id-3\" class=\"sk-toggleable__label sk-toggleable__label-arrow\">LGBMClassifier</label><div class=\"sk-toggleable__content\"><pre>LGBMClassifier(random_state=42)</pre></div></div></div></div></div></div></div></div></div></div>"
            ]
          },
          "metadata": {},
          "execution_count": 54
        }
      ]
    },
    {
      "cell_type": "code",
      "source": [
        "# Best parameteres\n",
        "clf.best_params_"
      ],
      "metadata": {
        "colab": {
          "base_uri": "https://localhost:8080/"
        },
        "id": "K17rGJrZyCzU",
        "outputId": "90859921-bae4-4a1f-ee83-48afe60d1014"
      },
      "id": "K17rGJrZyCzU",
      "execution_count": 55,
      "outputs": [
        {
          "output_type": "execute_result",
          "data": {
            "text/plain": [
              "{'num_leaves': 16, 'n_estimators': 24, 'learning_rate': 0.01}"
            ]
          },
          "metadata": {},
          "execution_count": 55
        }
      ]
    },
    {
      "cell_type": "code",
      "source": [
        "%%time\n",
        "# Light GBM\n",
        "\n",
        "model_LightGBM = lgbm.LGBMClassifier(random_state=42, num_leaves= 16, n_estimators= 24, learning_rate= 0.01)\n",
        "model_LightGBM.fit(X_train, y_train)\n",
        "\n",
        "cross_val_score(model_LightGBM, X_train, y_train,cv=5, scoring='accuracy').mean() "
      ],
      "metadata": {
        "colab": {
          "base_uri": "https://localhost:8080/"
        },
        "id": "QNp0ZjGk9AAU",
        "outputId": "6ffff1e8-8b56-41e6-8fb1-36162d1dfe6f"
      },
      "id": "QNp0ZjGk9AAU",
      "execution_count": 56,
      "outputs": [
        {
          "output_type": "stream",
          "name": "stdout",
          "text": [
            "CPU times: user 15.8 s, sys: 472 ms, total: 16.2 s\n",
            "Wall time: 11.1 s\n"
          ]
        },
        {
          "output_type": "execute_result",
          "data": {
            "text/plain": [
              "0.7833321410552203"
            ]
          },
          "metadata": {},
          "execution_count": 56
        }
      ]
    },
    {
      "cell_type": "code",
      "source": [
        "# Light GBM\n",
        "y_train_pred_LGBM = cross_val_predict(model_LightGBM,X_train,y_train, cv=5)\n",
        "\n",
        "cm_crossValidation = confusion_matrix(y_train, y_train_pred_LGBM) # Confusion Matrix\n",
        "\n",
        "# Plotting the Matrix\n",
        "disp = ConfusionMatrixDisplay(confusion_matrix=cm_crossValidation, display_labels=['< 30 days', '≥ 30 days'])\n",
        "disp.plot(cmap='Blues')"
      ],
      "metadata": {
        "colab": {
          "base_uri": "https://localhost:8080/",
          "height": 296
        },
        "id": "mdheybRk-Z4H",
        "outputId": "cfb2bc3b-0cc2-4564-a93a-f72ae105f7e8"
      },
      "id": "mdheybRk-Z4H",
      "execution_count": 57,
      "outputs": [
        {
          "output_type": "execute_result",
          "data": {
            "text/plain": [
              "<sklearn.metrics._plot.confusion_matrix.ConfusionMatrixDisplay at 0x7fc51ac2dd60>"
            ]
          },
          "metadata": {},
          "execution_count": 57
        },
        {
          "output_type": "display_data",
          "data": {
            "text/plain": [
              "<Figure size 432x288 with 2 Axes>"
            ],
            "image/png": "[encoded data removed]"
          },
          "metadata": {
            "needs_background": "light"
          }
        }
      ]
    },
    {
      "cell_type": "code",
      "source": [
        "# Light GBM\n",
        "print(\"Precision: {}\".format(precision_score(y_train, y_train_pred_LGBM)))\n",
        "print(\"Recall: {}\".format(recall_score(y_train, y_train_pred_LGBM)))\n",
        "print(\"F1 Score: {}\".format(f1_score(y_train, y_train_pred_LGBM)))"
      ],
      "metadata": {
        "colab": {
          "base_uri": "https://localhost:8080/"
        },
        "id": "x8e1izKG9NHM",
        "outputId": "82fe956e-ab4f-469b-906c-91e17efa4df4"
      },
      "id": "x8e1izKG9NHM",
      "execution_count": 58,
      "outputs": [
        {
          "output_type": "stream",
          "name": "stdout",
          "text": [
            "Precision: 0.8995798176950968\n",
            "Recall: 0.5227995549385086\n",
            "F1 Score: 0.6612862044700183\n"
          ]
        }
      ]
    },
    {
      "cell_type": "code",
      "source": [
        "## Light GBM \n",
        "\n",
        "y_scores_LGBM = cross_val_predict(model_LightGBM, X_train, y_train, cv=3, method='predict_proba')[:,1] \n",
        "\n",
        "# Plotting the ROC Curve\n",
        "fpr, tpr, thresholds = roc_curve(y_train, y_scores_LGBM)\n",
        "\n",
        "def plot_roc_curve(fpr, tpr, label=None):\n",
        "  plt.plot(fpr, tpr, linewidth=2, label=label)\n",
        "  plt.plot([0,1], [0,1], 'k--')\n",
        "\n",
        "plot_roc_curve(fpr,tpr)\n",
        "plt.show()\n",
        "     "
      ],
      "metadata": {
        "colab": {
          "base_uri": "https://localhost:8080/",
          "height": 265
        },
        "id": "VyQDQmOr9YuN",
        "outputId": "3e5fd708-42e6-412e-8286-205bc8cd1d66"
      },
      "id": "VyQDQmOr9YuN",
      "execution_count": 59,
      "outputs": [
        {
          "output_type": "display_data",
          "data": {
            "text/plain": [
              "<Figure size 432x288 with 1 Axes>"
            ],
            "image/png": "[encoded data removed]"
          },
          "metadata": {
            "needs_background": "light"
          }
        }
      ]
    },
    {
      "cell_type": "code",
      "source": [
        "roc_auc_score(y_train, y_scores_LGBM)"
      ],
      "metadata": {
        "colab": {
          "base_uri": "https://localhost:8080/"
        },
        "id": "Yq945vpa9bxa",
        "outputId": "902d48a2-3d76-4e67-ce52-d470d7941e1e"
      },
      "id": "Yq945vpa9bxa",
      "execution_count": 60,
      "outputs": [
        {
          "output_type": "execute_result",
          "data": {
            "text/plain": [
              "0.8033835182197285"
            ]
          },
          "metadata": {},
          "execution_count": 60
        }
      ]
    },
    {
      "cell_type": "markdown",
      "source": [
        "**The hyper parameters tuning, got the model worst**"
      ],
      "metadata": {
        "id": "isYlBrt59qFH"
      },
      "id": "isYlBrt59qFH"
    },
    {
      "cell_type": "markdown",
      "source": [
        "# Test\n",
        "Because of the best performance in the cross validation, the chosen model were LightGBM"
      ],
      "metadata": {
        "id": "dJqt04VD_SXp"
      },
      "id": "dJqt04VD_SXp"
    },
    {
      "cell_type": "code",
      "source": [
        "# Light GBM\n",
        "\n",
        "model_LightGBM = lgbm.LGBMClassifier(random_state=42)\n",
        "model_LightGBM.fit(X_train, y_train)\n",
        "\n"
      ],
      "metadata": {
        "colab": {
          "base_uri": "https://localhost:8080/",
          "height": 75
        },
        "id": "XnTrYIRu9h6L",
        "outputId": "67edd42b-e4cd-4275-c56a-f755431d16e0"
      },
      "id": "XnTrYIRu9h6L",
      "execution_count": 61,
      "outputs": [
        {
          "output_type": "execute_result",
          "data": {
            "text/plain": [
              "LGBMClassifier(random_state=42)"
            ],
            "text/html": [
              "<style>#sk-container-id-2 {color: black;background-color: white;}#sk-container-id-2 pre{padding: 0;}#sk-container-id-2 div.sk-toggleable {background-color: white;}#sk-container-id-2 label.sk-toggleable__label {cursor: pointer;display: block;width: 100%;margin-bottom: 0;padding: 0.3em;box-sizing: border-box;text-align: center;}#sk-container-id-2 label.sk-toggleable__label-arrow:before {content: \"▸\";float: left;margin-right: 0.25em;color: #696969;}#sk-container-id-2 label.sk-toggleable__label-arrow:hover:before {color: black;}#sk-container-id-2 div.sk-estimator:hover label.sk-toggleable__label-arrow:before {color: black;}#sk-container-id-2 div.sk-toggleable__content {max-height: 0;max-width: 0;overflow: hidden;text-align: left;background-color: #f0f8ff;}#sk-container-id-2 div.sk-toggleable__content pre {margin: 0.2em;color: black;border-radius: 0.25em;background-color: #f0f8ff;}#sk-container-id-2 input.sk-toggleable__control:checked~div.sk-toggleable__content {max-height: 200px;max-width: 100%;overflow: auto;}#sk-container-id-2 input.sk-toggleable__control:checked~label.sk-toggleable__label-arrow:before {content: \"▾\";}#sk-container-id-2 div.sk-estimator input.sk-toggleable__control:checked~label.sk-toggleable__label {background-color: #d4ebff;}#sk-container-id-2 div.sk-label input.sk-toggleable__control:checked~label.sk-toggleable__label {background-color: #d4ebff;}#sk-container-id-2 input.sk-hidden--visually {border: 0;clip: rect(1px 1px 1px 1px);clip: rect(1px, 1px, 1px, 1px);height: 1px;margin: -1px;overflow: hidden;padding: 0;position: absolute;width: 1px;}#sk-container-id-2 div.sk-estimator {font-family: monospace;background-color: #f0f8ff;border: 1px dotted black;border-radius: 0.25em;box-sizing: border-box;margin-bottom: 0.5em;}#sk-container-id-2 div.sk-estimator:hover {background-color: #d4ebff;}#sk-container-id-2 div.sk-parallel-item::after {content: \"\";width: 100%;border-bottom: 1px solid gray;flex-grow: 1;}#sk-container-id-2 div.sk-label:hover label.sk-toggleable__label {background-color: #d4ebff;}#sk-container-id-2 div.sk-serial::before {content: \"\";position: absolute;border-left: 1px solid gray;box-sizing: border-box;top: 0;bottom: 0;left: 50%;z-index: 0;}#sk-container-id-2 div.sk-serial {display: flex;flex-direction: column;align-items: center;background-color: white;padding-right: 0.2em;padding-left: 0.2em;position: relative;}#sk-container-id-2 div.sk-item {position: relative;z-index: 1;}#sk-container-id-2 div.sk-parallel {display: flex;align-items: stretch;justify-content: center;background-color: white;position: relative;}#sk-container-id-2 div.sk-item::before, #sk-container-id-2 div.sk-parallel-item::before {content: \"\";position: absolute;border-left: 1px solid gray;box-sizing: border-box;top: 0;bottom: 0;left: 50%;z-index: -1;}#sk-container-id-2 div.sk-parallel-item {display: flex;flex-direction: column;z-index: 1;position: relative;background-color: white;}#sk-container-id-2 div.sk-parallel-item:first-child::after {align-self: flex-end;width: 50%;}#sk-container-id-2 div.sk-parallel-item:last-child::after {align-self: flex-start;width: 50%;}#sk-container-id-2 div.sk-parallel-item:only-child::after {width: 0;}#sk-container-id-2 div.sk-dashed-wrapped {border: 1px dashed gray;margin: 0 0.4em 0.5em 0.4em;box-sizing: border-box;padding-bottom: 0.4em;background-color: white;}#sk-container-id-2 div.sk-label label {font-family: monospace;font-weight: bold;display: inline-block;line-height: 1.2em;}#sk-container-id-2 div.sk-label-container {text-align: center;}#sk-container-id-2 div.sk-container {/* jupyter's `normalize.less` sets `[hidden] { display: none; }` but bootstrap.min.css set `[hidden] { display: none !important; }` so we also need the `!important` here to be able to override the default hidden behavior on the sphinx rendered scikit-learn.org. See: https://github.com/scikit-learn/scikit-learn/issues/21755 */display: inline-block !important;position: relative;}#sk-container-id-2 div.sk-text-repr-fallback {display: none;}</style><div id=\"sk-container-id-2\" class=\"sk-top-container\"><div class=\"sk-text-repr-fallback\"><pre>LGBMClassifier(random_state=42)</pre><b>In a Jupyter environment, please rerun this cell to show the HTML representation or trust the notebook. <br />On GitHub, the HTML representation is unable to render, please try loading this page with nbviewer.org.</b></div><div class=\"sk-container\" hidden><div class=\"sk-item\"><div class=\"sk-estimator sk-toggleable\"><input class=\"sk-toggleable__control sk-hidden--visually\" id=\"sk-estimator-id-4\" type=\"checkbox\" checked><label for=\"sk-estimator-id-4\" class=\"sk-toggleable__label sk-toggleable__label-arrow\">LGBMClassifier</label><div class=\"sk-toggleable__content\"><pre>LGBMClassifier(random_state=42)</pre></div></div></div></div></div>"
            ]
          },
          "metadata": {},
          "execution_count": 61
        }
      ]
    },
    {
      "cell_type": "code",
      "source": [
        "# Light GBM\n",
        "y_test_pred_LGBM = model_LightGBM.predict(X_test)\n",
        "\n",
        "\n",
        "cm_crossValidation = confusion_matrix(y_test, y_test_pred_LGBM) # Confusion Matrix\n",
        "\n",
        "# Plotting the Matrix\n",
        "disp = ConfusionMatrixDisplay(confusion_matrix=cm_crossValidation, display_labels=['< 30 days', '≥ 30 days'])\n",
        "disp.plot(cmap='Blues')"
      ],
      "metadata": {
        "colab": {
          "base_uri": "https://localhost:8080/",
          "height": 299
        },
        "id": "xDuvfzCC9yBZ",
        "outputId": "bd4ee9da-37f8-4e2d-ae48-cc3716ef92c4"
      },
      "id": "xDuvfzCC9yBZ",
      "execution_count": 62,
      "outputs": [
        {
          "output_type": "execute_result",
          "data": {
            "text/plain": [
              "<sklearn.metrics._plot.confusion_matrix.ConfusionMatrixDisplay at 0x7fc51ac79670>"
            ]
          },
          "metadata": {},
          "execution_count": 62
        },
        {
          "output_type": "display_data",
          "data": {
            "text/plain": [
              "<Figure size 432x288 with 2 Axes>"
            ],
            "image/png": "[encoded data removed]"
          },
          "metadata": {
            "needs_background": "light"
          }
        }
      ]
    },
    {
      "cell_type": "code",
      "source": [
        "# Light GBM\n",
        "print(\"Accuracy: {}\".format(accuracy_score(y_test,y_test_pred_LGBM)))\n",
        "print(\"Precision: {}\".format(precision_score(y_test, y_test_pred_LGBM)))\n",
        "print(\"Recall: {}\".format(recall_score(y_test, y_test_pred_LGBM)))\n",
        "print(\"F1 Score: {}\".format(f1_score(y_test, y_test_pred_LGBM)))"
      ],
      "metadata": {
        "colab": {
          "base_uri": "https://localhost:8080/"
        },
        "id": "EYg5ccLtAS38",
        "outputId": "00f67592-5eac-4eee-aa65-5f29be4e41a4"
      },
      "id": "EYg5ccLtAS38",
      "execution_count": 63,
      "outputs": [
        {
          "output_type": "stream",
          "name": "stdout",
          "text": [
            "Accuracy: 0.7954874998008253\n",
            "Precision: 0.8812402729558243\n",
            "Recall: 0.575685293082548\n",
            "F1 Score: 0.696421391234419\n"
          ]
        }
      ]
    },
    {
      "cell_type": "code",
      "source": [
        "roc_auc_score(y_test, y_test_pred_LGBM)"
      ],
      "metadata": {
        "colab": {
          "base_uri": "https://localhost:8080/"
        },
        "id": "qHCVX-zPAnhe",
        "outputId": "e0c726b7-8130-4e45-fc2b-e7f62afeba65"
      },
      "id": "qHCVX-zPAnhe",
      "execution_count": 64,
      "outputs": [
        {
          "output_type": "execute_result",
          "data": {
            "text/plain": [
              "0.7611659402539616"
            ]
          },
          "metadata": {},
          "execution_count": 64
        }
      ]
    },
    {
      "cell_type": "markdown",
      "source": [
        "# SHAP"
      ],
      "metadata": {
        "id": "A-cJe7v7FDtI"
      },
      "id": "A-cJe7v7FDtI"
    },
    {
      "cell_type": "code",
      "source": [
        "explainer = shap.Explainer(model_LightGBM, X_train)\n",
        "shap_values = explainer(X_test)"
      ],
      "metadata": {
        "colab": {
          "base_uri": "https://localhost:8080/"
        },
        "id": "hoIeLsdDFDeS",
        "outputId": "e2520a5c-2862-4307-8dfa-ccf8bd7bff83"
      },
      "id": "hoIeLsdDFDeS",
      "execution_count": 65,
      "outputs": [
        {
          "output_type": "stream",
          "name": "stderr",
          "text": [
            "100%|===================| 62723/62759 [06:29<00:00]       "
          ]
        }
      ]
    },
    {
      "cell_type": "code",
      "source": [
        "# Ploting the mean absolute SHAP value for each feature regardless the target value\n",
        "shap.summary_plot(shap_values, plot_type='bar', max_display=30)"
      ],
      "metadata": {
        "colab": {
          "base_uri": "https://localhost:8080/",
          "height": 981
        },
        "id": "w1XT_2cTAqOy",
        "outputId": "4a53d9f6-dd5e-4171-e927-640f8e313c9b"
      },
      "id": "w1XT_2cTAqOy",
      "execution_count": 66,
      "outputs": [
        {
          "output_type": "display_data",
          "data": {
            "text/plain": [
              "<Figure size 576x972 with 1 Axes>"
            ],
            "image/png": "[encoded data removed]"
          },
          "metadata": {
            "needs_background": "light"
          }
        }
      ]
    },
    {
      "cell_type": "markdown",
      "source": [
        "* **With SHAP we can see that the variable `Visitors with Patient` had a huge impact on the model output in comparison with all the others features.** \n",
        "* **When we think deeper about why this happened, what's the purpose of this prediction, and when this prediction will occur in real word, we get in the conclusion that this was a data leakage.**\n",
        "* **The goal of this Machine Learning model is to predict long lengh of stay when the patient is admitted into the hospital. At this time is impossible to have the information about how many visitor the patient had, beacuse is a future information.**\n",
        "* **This could be detected in the beggining, when we are exploring the dataset's features and understanding their meaning. But even if we missed, this can be later detect using SHAP values.**"
      ],
      "metadata": {
        "id": "Dxg0Ezh3pZdh"
      },
      "id": "Dxg0Ezh3pZdh"
    },
    {
      "cell_type": "code",
      "source": [],
      "metadata": {
        "id": "tuAS5k0nGqKa"
      },
      "id": "tuAS5k0nGqKa",
      "execution_count": 66,
      "outputs": []
    }
  ],
  "metadata": {
    "kernelspec": {
      "display_name": "Python 3 (ipykernel)",
      "language": "python",
      "name": "python3"
    },
    "language_info": {
      "codemirror_mode": {
        "name": "ipython",
        "version": 3
      },
      "file_extension": ".py",
      "mimetype": "text/x-python",
      "name": "python",
      "nbconvert_exporter": "python",
      "pygments_lexer": "ipython3",
      "version": "3.9.13"
    },
    "colab": {
      "provenance": [],
      "toc_visible": true,
      "include_colab_link": true
    }
  },
  "nbformat": 4,
  "nbformat_minor": 5
}