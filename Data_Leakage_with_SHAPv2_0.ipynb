{
  "cells": [
    {
      "cell_type": "markdown",
      "metadata": {
        "id": "view-in-github",
        "colab_type": "text"
      },
      "source": [
        "<a href=\"https://colab.research.google.com/github/leticiamchd/Data_Leakage_with_SHAP/blob/main/Data_Leakage_with_SHAPv2_0.ipynb\" target=\"_parent\"><img src=\"https://colab.research.google.com/assets/colab-badge.svg\" alt=\"Open In Colab\"/></a>"
      ]
    },
    {
      "cell_type": "markdown",
      "source": [
        "# Detecting Data Leakage using SHAP\n",
        "This notebook stores the code for the article about Detecting Data Leakage using SHAP"
      ],
      "metadata": {
        "id": "NzV5lO_r0a63"
      },
      "id": "NzV5lO_r0a63"
    },
    {
      "cell_type": "code",
      "source": [
        "from google.colab import drive\n",
        "drive.mount('/content/drive')"
      ],
      "metadata": {
        "colab": {
          "base_uri": "https://localhost:8080/"
        },
        "id": "V-qb6whoAs8S",
        "outputId": "bf520ed8-6f53-4306-d7e4-e12937534c92"
      },
      "id": "V-qb6whoAs8S",
      "execution_count": 1,
      "outputs": [
        {
          "output_type": "stream",
          "name": "stdout",
          "text": [
            "Mounted at /content/drive\n"
          ]
        }
      ]
    },
    {
      "cell_type": "code",
      "source": [
        "# Installing SHAP module\n",
        "!pip install git+https://github.com/slundberg/shap -q\n"
      ],
      "metadata": {
        "colab": {
          "base_uri": "https://localhost:8080/"
        },
        "id": "baycbrqdDlA8",
        "outputId": "2ea3f5d7-a7ba-418e-e10b-ac8dfa25e911"
      },
      "id": "baycbrqdDlA8",
      "execution_count": 2,
      "outputs": [
        {
          "output_type": "stream",
          "name": "stdout",
          "text": [
            "  Installing build dependencies ... \u001b[?25l\u001b[?25hdone\n",
            "  Getting requirements to build wheel ... \u001b[?25l\u001b[?25hdone\n",
            "  Preparing metadata (pyproject.toml) ... \u001b[?25l\u001b[?25hdone\n",
            "  Building wheel for shap (pyproject.toml) ... \u001b[?25l\u001b[?25hdone\n"
          ]
        }
      ]
    },
    {
      "cell_type": "code",
      "execution_count": 3,
      "id": "cf712c40",
      "metadata": {
        "id": "cf712c40"
      },
      "outputs": [],
      "source": [
        "# importing packages\n",
        "import pandas as pd\n",
        "import numpy as np\n",
        "import matplotlib.pyplot as plt\n",
        "\n",
        "\n",
        "from sklearn.model_selection import train_test_split\n",
        "from sklearn.metrics import accuracy_score, confusion_matrix, ConfusionMatrixDisplay, classification_report, roc_curve, auc\n",
        "from sklearn.metrics import precision_score, recall_score, f1_score,precision_recall_curve, roc_auc_score\n",
        "from sklearn.model_selection import cross_val_score\n",
        "from sklearn.model_selection import cross_val_predict\n",
        "from sklearn.metrics import confusion_matrix\n",
        "\n",
        "from sklearn.model_selection import RandomizedSearchCV\n",
        "from sklearn.ensemble import RandomForestClassifier\n",
        "import lightgbm as lgbm\n",
        "import xgboost as xgb\n",
        "\n",
        "import shap\n",
        "\n"
      ]
    },
    {
      "cell_type": "code",
      "execution_count": 4,
      "id": "a8cbc74f",
      "metadata": {
        "id": "a8cbc74f"
      },
      "outputs": [],
      "source": [
        "# creating a dataframe to the train dataset\n",
        "df = pd.read_csv(\"/content/drive/MyDrive/Python Projects/Lenght of Stay Prediction/train.csv\")"
      ]
    },
    {
      "cell_type": "code",
      "execution_count": 5,
      "id": "f1af7658",
      "metadata": {
        "colab": {
          "base_uri": "https://localhost:8080/",
          "height": 409
        },
        "id": "f1af7658",
        "outputId": "38b7e2ee-08bb-4124-bbd4-f805a258a7bb"
      },
      "outputs": [
        {
          "output_type": "execute_result",
          "data": {
            "text/plain": [
              "   case_id  Hospital_code Hospital_type_code  City_Code_Hospital  \\\n",
              "0        1              8                  c                   3   \n",
              "1        2              2                  c                   5   \n",
              "2        3             10                  e                   1   \n",
              "3        4             26                  b                   2   \n",
              "4        5             26                  b                   2   \n",
              "\n",
              "  Hospital_region_code  Available Extra Rooms in Hospital    Department  \\\n",
              "0                    Z                                  3  radiotherapy   \n",
              "1                    Z                                  2  radiotherapy   \n",
              "2                    X                                  2    anesthesia   \n",
              "3                    Y                                  2  radiotherapy   \n",
              "4                    Y                                  2  radiotherapy   \n",
              "\n",
              "  Ward_Type Ward_Facility_Code  Bed Grade  patientid  City_Code_Patient  \\\n",
              "0         R                  F        2.0      31397                7.0   \n",
              "1         S                  F        2.0      31397                7.0   \n",
              "2         S                  E        2.0      31397                7.0   \n",
              "3         R                  D        2.0      31397                7.0   \n",
              "4         S                  D        2.0      31397                7.0   \n",
              "\n",
              "  Type of Admission Severity of Illness  Visitors with Patient    Age  \\\n",
              "0         Emergency             Extreme                      2  51-60   \n",
              "1            Trauma             Extreme                      2  51-60   \n",
              "2            Trauma             Extreme                      2  51-60   \n",
              "3            Trauma             Extreme                      2  51-60   \n",
              "4            Trauma             Extreme                      2  51-60   \n",
              "\n",
              "   Admission_Deposit   Stay  \n",
              "0             4911.0   0-10  \n",
              "1             5954.0  41-50  \n",
              "2             4745.0  31-40  \n",
              "3             7272.0  41-50  \n",
              "4             5558.0  41-50  "
            ],
            "text/html": [
              "\n",
              "  <div id=\"df-d9c1649e-82e4-4ad8-b7cd-f1777b076cc9\">\n",
              "    <div class=\"colab-df-container\">\n",
              "      <div>\n",
              "<style scoped>\n",
              "    .dataframe tbody tr th:only-of-type {\n",
              "        vertical-align: middle;\n",
              "    }\n",
              "\n",
              "    .dataframe tbody tr th {\n",
              "        vertical-align: top;\n",
              "    }\n",
              "\n",
              "    .dataframe thead th {\n",
              "        text-align: right;\n",
              "    }\n",
              "</style>\n",
              "<table border=\"1\" class=\"dataframe\">\n",
              "  <thead>\n",
              "    <tr style=\"text-align: right;\">\n",
              "      <th></th>\n",
              "      <th>case_id</th>\n",
              "      <th>Hospital_code</th>\n",
              "      <th>Hospital_type_code</th>\n",
              "      <th>City_Code_Hospital</th>\n",
              "      <th>Hospital_region_code</th>\n",
              "      <th>Available Extra Rooms in Hospital</th>\n",
              "      <th>Department</th>\n",
              "      <th>Ward_Type</th>\n",
              "      <th>Ward_Facility_Code</th>\n",
              "      <th>Bed Grade</th>\n",
              "      <th>patientid</th>\n",
              "      <th>City_Code_Patient</th>\n",
              "      <th>Type of Admission</th>\n",
              "      <th>Severity of Illness</th>\n",
              "      <th>Visitors with Patient</th>\n",
              "      <th>Age</th>\n",
              "      <th>Admission_Deposit</th>\n",
              "      <th>Stay</th>\n",
              "    </tr>\n",
              "  </thead>\n",
              "  <tbody>\n",
              "    <tr>\n",
              "      <th>0</th>\n",
              "      <td>1</td>\n",
              "      <td>8</td>\n",
              "      <td>c</td>\n",
              "      <td>3</td>\n",
              "      <td>Z</td>\n",
              "      <td>3</td>\n",
              "      <td>radiotherapy</td>\n",
              "      <td>R</td>\n",
              "      <td>F</td>\n",
              "      <td>2.0</td>\n",
              "      <td>31397</td>\n",
              "      <td>7.0</td>\n",
              "      <td>Emergency</td>\n",
              "      <td>Extreme</td>\n",
              "      <td>2</td>\n",
              "      <td>51-60</td>\n",
              "      <td>4911.0</td>\n",
              "      <td>0-10</td>\n",
              "    </tr>\n",
              "    <tr>\n",
              "      <th>1</th>\n",
              "      <td>2</td>\n",
              "      <td>2</td>\n",
              "      <td>c</td>\n",
              "      <td>5</td>\n",
              "      <td>Z</td>\n",
              "      <td>2</td>\n",
              "      <td>radiotherapy</td>\n",
              "      <td>S</td>\n",
              "      <td>F</td>\n",
              "      <td>2.0</td>\n",
              "      <td>31397</td>\n",
              "      <td>7.0</td>\n",
              "      <td>Trauma</td>\n",
              "      <td>Extreme</td>\n",
              "      <td>2</td>\n",
              "      <td>51-60</td>\n",
              "      <td>5954.0</td>\n",
              "      <td>41-50</td>\n",
              "    </tr>\n",
              "    <tr>\n",
              "      <th>2</th>\n",
              "      <td>3</td>\n",
              "      <td>10</td>\n",
              "      <td>e</td>\n",
              "      <td>1</td>\n",
              "      <td>X</td>\n",
              "      <td>2</td>\n",
              "      <td>anesthesia</td>\n",
              "      <td>S</td>\n",
              "      <td>E</td>\n",
              "      <td>2.0</td>\n",
              "      <td>31397</td>\n",
              "      <td>7.0</td>\n",
              "      <td>Trauma</td>\n",
              "      <td>Extreme</td>\n",
              "      <td>2</td>\n",
              "      <td>51-60</td>\n",
              "      <td>4745.0</td>\n",
              "      <td>31-40</td>\n",
              "    </tr>\n",
              "    <tr>\n",
              "      <th>3</th>\n",
              "      <td>4</td>\n",
              "      <td>26</td>\n",
              "      <td>b</td>\n",
              "      <td>2</td>\n",
              "      <td>Y</td>\n",
              "      <td>2</td>\n",
              "      <td>radiotherapy</td>\n",
              "      <td>R</td>\n",
              "      <td>D</td>\n",
              "      <td>2.0</td>\n",
              "      <td>31397</td>\n",
              "      <td>7.0</td>\n",
              "      <td>Trauma</td>\n",
              "      <td>Extreme</td>\n",
              "      <td>2</td>\n",
              "      <td>51-60</td>\n",
              "      <td>7272.0</td>\n",
              "      <td>41-50</td>\n",
              "    </tr>\n",
              "    <tr>\n",
              "      <th>4</th>\n",
              "      <td>5</td>\n",
              "      <td>26</td>\n",
              "      <td>b</td>\n",
              "      <td>2</td>\n",
              "      <td>Y</td>\n",
              "      <td>2</td>\n",
              "      <td>radiotherapy</td>\n",
              "      <td>S</td>\n",
              "      <td>D</td>\n",
              "      <td>2.0</td>\n",
              "      <td>31397</td>\n",
              "      <td>7.0</td>\n",
              "      <td>Trauma</td>\n",
              "      <td>Extreme</td>\n",
              "      <td>2</td>\n",
              "      <td>51-60</td>\n",
              "      <td>5558.0</td>\n",
              "      <td>41-50</td>\n",
              "    </tr>\n",
              "  </tbody>\n",
              "</table>\n",
              "</div>\n",
              "      <button class=\"colab-df-convert\" onclick=\"convertToInteractive('df-d9c1649e-82e4-4ad8-b7cd-f1777b076cc9')\"\n",
              "              title=\"Convert this dataframe to an interactive table.\"\n",
              "              style=\"display:none;\">\n",
              "        \n",
              "  <svg xmlns=\"http://www.w3.org/2000/svg\" height=\"24px\"viewBox=\"0 0 24 24\"\n",
              "       width=\"24px\">\n",
              "    <path d=\"M0 0h24v24H0V0z\" fill=\"none\"/>\n",
              "    <path d=\"M18.56 5.44l.94 2.06.94-2.06 2.06-.94-2.06-.94-.94-2.06-.94 2.06-2.06.94zm-11 1L8.5 8.5l.94-2.06 2.06-.94-2.06-.94L8.5 2.5l-.94 2.06-2.06.94zm10 10l.94 2.06.94-2.06 2.06-.94-2.06-.94-.94-2.06-.94 2.06-2.06.94z\"/><path d=\"M17.41 7.96l-1.37-1.37c-.4-.4-.92-.59-1.43-.59-.52 0-1.04.2-1.43.59L10.3 9.45l-7.72 7.72c-.78.78-.78 2.05 0 2.83L4 21.41c.39.39.9.59 1.41.59.51 0 1.02-.2 1.41-.59l7.78-7.78 2.81-2.81c.8-.78.8-2.07 0-2.86zM5.41 20L4 18.59l7.72-7.72 1.47 1.35L5.41 20z\"/>\n",
              "  </svg>\n",
              "      </button>\n",
              "      \n",
              "  <style>\n",
              "    .colab-df-container {\n",
              "      display:flex;\n",
              "      flex-wrap:wrap;\n",
              "      gap: 12px;\n",
              "    }\n",
              "\n",
              "    .colab-df-convert {\n",
              "      background-color: #E8F0FE;\n",
              "      border: none;\n",
              "      border-radius: 50%;\n",
              "      cursor: pointer;\n",
              "      display: none;\n",
              "      fill: #1967D2;\n",
              "      height: 32px;\n",
              "      padding: 0 0 0 0;\n",
              "      width: 32px;\n",
              "    }\n",
              "\n",
              "    .colab-df-convert:hover {\n",
              "      background-color: #E2EBFA;\n",
              "      box-shadow: 0px 1px 2px rgba(60, 64, 67, 0.3), 0px 1px 3px 1px rgba(60, 64, 67, 0.15);\n",
              "      fill: #174EA6;\n",
              "    }\n",
              "\n",
              "    [theme=dark] .colab-df-convert {\n",
              "      background-color: #3B4455;\n",
              "      fill: #D2E3FC;\n",
              "    }\n",
              "\n",
              "    [theme=dark] .colab-df-convert:hover {\n",
              "      background-color: #434B5C;\n",
              "      box-shadow: 0px 1px 3px 1px rgba(0, 0, 0, 0.15);\n",
              "      filter: drop-shadow(0px 1px 2px rgba(0, 0, 0, 0.3));\n",
              "      fill: #FFFFFF;\n",
              "    }\n",
              "  </style>\n",
              "\n",
              "      <script>\n",
              "        const buttonEl =\n",
              "          document.querySelector('#df-d9c1649e-82e4-4ad8-b7cd-f1777b076cc9 button.colab-df-convert');\n",
              "        buttonEl.style.display =\n",
              "          google.colab.kernel.accessAllowed ? 'block' : 'none';\n",
              "\n",
              "        async function convertToInteractive(key) {\n",
              "          const element = document.querySelector('#df-d9c1649e-82e4-4ad8-b7cd-f1777b076cc9');\n",
              "          const dataTable =\n",
              "            await google.colab.kernel.invokeFunction('convertToInteractive',\n",
              "                                                     [key], {});\n",
              "          if (!dataTable) return;\n",
              "\n",
              "          const docLinkHtml = 'Like what you see? Visit the ' +\n",
              "            '<a target=\"_blank\" href=https://colab.research.google.com/notebooks/data_table.ipynb>data table notebook</a>'\n",
              "            + ' to learn more about interactive tables.';\n",
              "          element.innerHTML = '';\n",
              "          dataTable['output_type'] = 'display_data';\n",
              "          await google.colab.output.renderOutput(dataTable, element);\n",
              "          const docLink = document.createElement('div');\n",
              "          docLink.innerHTML = docLinkHtml;\n",
              "          element.appendChild(docLink);\n",
              "        }\n",
              "      </script>\n",
              "    </div>\n",
              "  </div>\n",
              "  "
            ]
          },
          "metadata": {},
          "execution_count": 5
        }
      ],
      "source": [
        "df.head()"
      ]
    },
    {
      "cell_type": "markdown",
      "id": "952e517c",
      "metadata": {
        "id": "952e517c"
      },
      "source": [
        "**All the exploratory data analysis were already done and are detailed into another notebook**"
      ]
    },
    {
      "cell_type": "markdown",
      "id": "ee0b4dfa",
      "metadata": {
        "id": "ee0b4dfa"
      },
      "source": [
        "Some changes need to be done before using the dataset into the models:\n",
        "* Droping the columns `case_id` and `patientid` because they are unique values and doesn't add value for the models\n",
        "* Do something with the missing values, and in this case, because of the small percentage of that, we'll drop the rows that contains any null values\n",
        "* Change some columns types\n",
        "* Change the target `Stay` into a binary value. In this modification, lengh of stay ≤ 30 days will be 0 and > 30 days will be 1\n",
        "* Create variables dummies for categorical columns\n"
      ]
    },
    {
      "cell_type": "markdown",
      "id": "6f44bf60",
      "metadata": {
        "id": "6f44bf60"
      },
      "source": [
        "# Pre Processing"
      ]
    },
    {
      "cell_type": "markdown",
      "source": [
        "## Droping id and `Visitors with Patient`"
      ],
      "metadata": {
        "id": "5HLqrfp9z1Sx"
      },
      "id": "5HLqrfp9z1Sx"
    },
    {
      "cell_type": "code",
      "execution_count": 6,
      "id": "183b86fd",
      "metadata": {
        "colab": {
          "base_uri": "https://localhost:8080/"
        },
        "id": "183b86fd",
        "outputId": "95128319-2416-40bb-d875-275aca9fa421"
      },
      "outputs": [
        {
          "output_type": "stream",
          "name": "stdout",
          "text": [
            "This dataset contains 318438 rows and 18 columns.\n"
          ]
        }
      ],
      "source": [
        "# Checking the size of the dataset before droping the columns\n",
        "print(\"This dataset contains\" , df.shape[0] , \"rows and\" , df.shape[1] ,\"columns.\")"
      ]
    },
    {
      "cell_type": "code",
      "execution_count": 7,
      "id": "b7c174fa",
      "metadata": {
        "id": "b7c174fa"
      },
      "outputs": [],
      "source": [
        "# droping the columns case_id and patientid in the same dataset\n",
        "df.drop(columns=['case_id', 'patientid','Visitors with Patient'], axis = 1, inplace=True)"
      ]
    },
    {
      "cell_type": "code",
      "execution_count": 8,
      "id": "6c11da8b",
      "metadata": {
        "colab": {
          "base_uri": "https://localhost:8080/"
        },
        "id": "6c11da8b",
        "outputId": "d739cb70-bf2c-49af-b7dd-2e9fb37406c5"
      },
      "outputs": [
        {
          "output_type": "stream",
          "name": "stdout",
          "text": [
            "This dataset contains 318438 rows and 15 columns.\n"
          ]
        }
      ],
      "source": [
        "# Checking the size of the dataset after droping the columns\n",
        "print(\"This dataset contains\" , df.shape[0] , \"rows and\" , df.shape[1] ,\"columns.\")"
      ]
    },
    {
      "cell_type": "markdown",
      "id": "516213b9",
      "metadata": {
        "id": "516213b9"
      },
      "source": [
        "## Missing Values"
      ]
    },
    {
      "cell_type": "code",
      "execution_count": 9,
      "id": "4d5f1f90",
      "metadata": {
        "colab": {
          "base_uri": "https://localhost:8080/"
        },
        "id": "4d5f1f90",
        "outputId": "55b91d0b-2b5a-4944-c1e1-28e5aa77c701"
      },
      "outputs": [
        {
          "output_type": "stream",
          "name": "stdout",
          "text": [
            "This dataset contains 318438 rows and 15 columns.\n"
          ]
        }
      ],
      "source": [
        "# Size of the train dataset before removing null values\n",
        "print(\"This dataset contains\" , df.shape[0] , \"rows and\" , df.shape[1] ,\"columns.\")"
      ]
    },
    {
      "cell_type": "code",
      "execution_count": 10,
      "id": "b7816f58",
      "metadata": {
        "colab": {
          "base_uri": "https://localhost:8080/"
        },
        "id": "b7816f58",
        "outputId": "a2f4f3d1-789b-4e4f-f642-daacf1b191c0"
      },
      "outputs": [
        {
          "output_type": "execute_result",
          "data": {
            "text/plain": [
              "Hospital_code                           0\n",
              "Hospital_type_code                      0\n",
              "City_Code_Hospital                      0\n",
              "Hospital_region_code                    0\n",
              "Available Extra Rooms in Hospital       0\n",
              "Department                              0\n",
              "Ward_Type                               0\n",
              "Ward_Facility_Code                      0\n",
              "Bed Grade                             113\n",
              "City_Code_Patient                    4532\n",
              "Type of Admission                       0\n",
              "Severity of Illness                     0\n",
              "Age                                     0\n",
              "Admission_Deposit                       0\n",
              "Stay                                    0\n",
              "dtype: int64"
            ]
          },
          "metadata": {},
          "execution_count": 10
        }
      ],
      "source": [
        "# Checking the amount of null values\n",
        "df.isnull().sum()"
      ]
    },
    {
      "cell_type": "markdown",
      "id": "ca9d6795",
      "metadata": {
        "id": "ca9d6795"
      },
      "source": [
        "**We can see that only 2 variables have explicity missing values, possibly a small percentage of the dataset considering that there's 318438 rows, but let's check if this perception is true.**"
      ]
    },
    {
      "cell_type": "code",
      "execution_count": 11,
      "id": "45debd4d",
      "metadata": {
        "colab": {
          "base_uri": "https://localhost:8080/"
        },
        "id": "45debd4d",
        "outputId": "bafc9620-0144-46ad-a427-8bddaad51659"
      },
      "outputs": [
        {
          "output_type": "execute_result",
          "data": {
            "text/plain": [
              "Hospital_code                        0.000000\n",
              "Hospital_type_code                   0.000000\n",
              "City_Code_Hospital                   0.000000\n",
              "Hospital_region_code                 0.000000\n",
              "Available Extra Rooms in Hospital    0.000000\n",
              "Department                           0.000000\n",
              "Ward_Type                            0.000000\n",
              "Ward_Facility_Code                   0.000000\n",
              "Bed Grade                            0.035486\n",
              "City_Code_Patient                    1.423197\n",
              "Type of Admission                    0.000000\n",
              "Severity of Illness                  0.000000\n",
              "Age                                  0.000000\n",
              "Admission_Deposit                    0.000000\n",
              "Stay                                 0.000000\n",
              "dtype: float64"
            ]
          },
          "metadata": {},
          "execution_count": 11
        }
      ],
      "source": [
        "# Checking the percentage of null values \n",
        "df.isnull().sum() / df.shape[0] * 100"
      ]
    },
    {
      "cell_type": "markdown",
      "id": "94bedce3",
      "metadata": {
        "id": "94bedce3"
      },
      "source": [
        "**This confirms the perception about the amount of null values, is a small part of the dataset.**"
      ]
    },
    {
      "cell_type": "code",
      "execution_count": 12,
      "id": "b237ce4d",
      "metadata": {
        "id": "b237ce4d"
      },
      "outputs": [],
      "source": [
        "# Dropping all the rows that contains any null values\n",
        "df.dropna(axis = 0, inplace=True)"
      ]
    },
    {
      "cell_type": "code",
      "execution_count": 13,
      "id": "19523f5f",
      "metadata": {
        "colab": {
          "base_uri": "https://localhost:8080/"
        },
        "id": "19523f5f",
        "outputId": "b8001476-8ca7-47b4-ec9c-e42316ee3687"
      },
      "outputs": [
        {
          "output_type": "execute_result",
          "data": {
            "text/plain": [
              "Hospital_code                        0\n",
              "Hospital_type_code                   0\n",
              "City_Code_Hospital                   0\n",
              "Hospital_region_code                 0\n",
              "Available Extra Rooms in Hospital    0\n",
              "Department                           0\n",
              "Ward_Type                            0\n",
              "Ward_Facility_Code                   0\n",
              "Bed Grade                            0\n",
              "City_Code_Patient                    0\n",
              "Type of Admission                    0\n",
              "Severity of Illness                  0\n",
              "Age                                  0\n",
              "Admission_Deposit                    0\n",
              "Stay                                 0\n",
              "dtype: int64"
            ]
          },
          "metadata": {},
          "execution_count": 13
        }
      ],
      "source": [
        "# Checking if there's still null values\n",
        "df.isnull().sum()"
      ]
    },
    {
      "cell_type": "code",
      "execution_count": 14,
      "id": "dad2e881",
      "metadata": {
        "colab": {
          "base_uri": "https://localhost:8080/"
        },
        "id": "dad2e881",
        "outputId": "d8aa6303-441b-4fd3-9c3d-5952e26423dc"
      },
      "outputs": [
        {
          "output_type": "execute_result",
          "data": {
            "text/plain": [
              "(313793, 15)"
            ]
          },
          "metadata": {},
          "execution_count": 14
        }
      ],
      "source": [
        "# Checking the shape of the dataset after droping the null values\n",
        "df.shape"
      ]
    },
    {
      "cell_type": "markdown",
      "id": "2e06e839",
      "metadata": {
        "id": "2e06e839"
      },
      "source": [
        "**Still a large dataset**"
      ]
    },
    {
      "cell_type": "markdown",
      "id": "a6f658c5",
      "metadata": {
        "id": "a6f658c5"
      },
      "source": [
        "## Changing columns type"
      ]
    },
    {
      "cell_type": "code",
      "execution_count": 15,
      "id": "82f56050",
      "metadata": {
        "colab": {
          "base_uri": "https://localhost:8080/"
        },
        "id": "82f56050",
        "outputId": "675f67ac-efff-4860-e0ca-38c62ee902d6"
      },
      "outputs": [
        {
          "output_type": "execute_result",
          "data": {
            "text/plain": [
              "Hospital_code                          int64\n",
              "Hospital_type_code                    object\n",
              "City_Code_Hospital                     int64\n",
              "Hospital_region_code                  object\n",
              "Available Extra Rooms in Hospital      int64\n",
              "Department                            object\n",
              "Ward_Type                             object\n",
              "Ward_Facility_Code                    object\n",
              "Bed Grade                            float64\n",
              "City_Code_Patient                    float64\n",
              "Type of Admission                     object\n",
              "Severity of Illness                   object\n",
              "Age                                   object\n",
              "Admission_Deposit                    float64\n",
              "Stay                                  object\n",
              "dtype: object"
            ]
          },
          "metadata": {},
          "execution_count": 15
        }
      ],
      "source": [
        "# checking the type of each columns of the dataset\n",
        "df.dtypes"
      ]
    },
    {
      "cell_type": "code",
      "execution_count": 16,
      "id": "f41332b5",
      "metadata": {
        "colab": {
          "base_uri": "https://localhost:8080/",
          "height": 409
        },
        "id": "f41332b5",
        "outputId": "2f7b6fee-fc3b-408e-c055-88626925746a"
      },
      "outputs": [
        {
          "output_type": "execute_result",
          "data": {
            "text/plain": [
              "   Hospital_code Hospital_type_code  City_Code_Hospital Hospital_region_code  \\\n",
              "0              8                  c                   3                    Z   \n",
              "1              2                  c                   5                    Z   \n",
              "2             10                  e                   1                    X   \n",
              "3             26                  b                   2                    Y   \n",
              "4             26                  b                   2                    Y   \n",
              "\n",
              "   Available Extra Rooms in Hospital    Department Ward_Type  \\\n",
              "0                                  3  radiotherapy         R   \n",
              "1                                  2  radiotherapy         S   \n",
              "2                                  2    anesthesia         S   \n",
              "3                                  2  radiotherapy         R   \n",
              "4                                  2  radiotherapy         S   \n",
              "\n",
              "  Ward_Facility_Code  Bed Grade  City_Code_Patient Type of Admission  \\\n",
              "0                  F        2.0                7.0         Emergency   \n",
              "1                  F        2.0                7.0            Trauma   \n",
              "2                  E        2.0                7.0            Trauma   \n",
              "3                  D        2.0                7.0            Trauma   \n",
              "4                  D        2.0                7.0            Trauma   \n",
              "\n",
              "  Severity of Illness    Age  Admission_Deposit   Stay  \n",
              "0             Extreme  51-60             4911.0   0-10  \n",
              "1             Extreme  51-60             5954.0  41-50  \n",
              "2             Extreme  51-60             4745.0  31-40  \n",
              "3             Extreme  51-60             7272.0  41-50  \n",
              "4             Extreme  51-60             5558.0  41-50  "
            ],
            "text/html": [
              "\n",
              "  <div id=\"df-51aedd34-e955-4216-8308-4998f98a9c4e\">\n",
              "    <div class=\"colab-df-container\">\n",
              "      <div>\n",
              "<style scoped>\n",
              "    .dataframe tbody tr th:only-of-type {\n",
              "        vertical-align: middle;\n",
              "    }\n",
              "\n",
              "    .dataframe tbody tr th {\n",
              "        vertical-align: top;\n",
              "    }\n",
              "\n",
              "    .dataframe thead th {\n",
              "        text-align: right;\n",
              "    }\n",
              "</style>\n",
              "<table border=\"1\" class=\"dataframe\">\n",
              "  <thead>\n",
              "    <tr style=\"text-align: right;\">\n",
              "      <th></th>\n",
              "      <th>Hospital_code</th>\n",
              "      <th>Hospital_type_code</th>\n",
              "      <th>City_Code_Hospital</th>\n",
              "      <th>Hospital_region_code</th>\n",
              "      <th>Available Extra Rooms in Hospital</th>\n",
              "      <th>Department</th>\n",
              "      <th>Ward_Type</th>\n",
              "      <th>Ward_Facility_Code</th>\n",
              "      <th>Bed Grade</th>\n",
              "      <th>City_Code_Patient</th>\n",
              "      <th>Type of Admission</th>\n",
              "      <th>Severity of Illness</th>\n",
              "      <th>Age</th>\n",
              "      <th>Admission_Deposit</th>\n",
              "      <th>Stay</th>\n",
              "    </tr>\n",
              "  </thead>\n",
              "  <tbody>\n",
              "    <tr>\n",
              "      <th>0</th>\n",
              "      <td>8</td>\n",
              "      <td>c</td>\n",
              "      <td>3</td>\n",
              "      <td>Z</td>\n",
              "      <td>3</td>\n",
              "      <td>radiotherapy</td>\n",
              "      <td>R</td>\n",
              "      <td>F</td>\n",
              "      <td>2.0</td>\n",
              "      <td>7.0</td>\n",
              "      <td>Emergency</td>\n",
              "      <td>Extreme</td>\n",
              "      <td>51-60</td>\n",
              "      <td>4911.0</td>\n",
              "      <td>0-10</td>\n",
              "    </tr>\n",
              "    <tr>\n",
              "      <th>1</th>\n",
              "      <td>2</td>\n",
              "      <td>c</td>\n",
              "      <td>5</td>\n",
              "      <td>Z</td>\n",
              "      <td>2</td>\n",
              "      <td>radiotherapy</td>\n",
              "      <td>S</td>\n",
              "      <td>F</td>\n",
              "      <td>2.0</td>\n",
              "      <td>7.0</td>\n",
              "      <td>Trauma</td>\n",
              "      <td>Extreme</td>\n",
              "      <td>51-60</td>\n",
              "      <td>5954.0</td>\n",
              "      <td>41-50</td>\n",
              "    </tr>\n",
              "    <tr>\n",
              "      <th>2</th>\n",
              "      <td>10</td>\n",
              "      <td>e</td>\n",
              "      <td>1</td>\n",
              "      <td>X</td>\n",
              "      <td>2</td>\n",
              "      <td>anesthesia</td>\n",
              "      <td>S</td>\n",
              "      <td>E</td>\n",
              "      <td>2.0</td>\n",
              "      <td>7.0</td>\n",
              "      <td>Trauma</td>\n",
              "      <td>Extreme</td>\n",
              "      <td>51-60</td>\n",
              "      <td>4745.0</td>\n",
              "      <td>31-40</td>\n",
              "    </tr>\n",
              "    <tr>\n",
              "      <th>3</th>\n",
              "      <td>26</td>\n",
              "      <td>b</td>\n",
              "      <td>2</td>\n",
              "      <td>Y</td>\n",
              "      <td>2</td>\n",
              "      <td>radiotherapy</td>\n",
              "      <td>R</td>\n",
              "      <td>D</td>\n",
              "      <td>2.0</td>\n",
              "      <td>7.0</td>\n",
              "      <td>Trauma</td>\n",
              "      <td>Extreme</td>\n",
              "      <td>51-60</td>\n",
              "      <td>7272.0</td>\n",
              "      <td>41-50</td>\n",
              "    </tr>\n",
              "    <tr>\n",
              "      <th>4</th>\n",
              "      <td>26</td>\n",
              "      <td>b</td>\n",
              "      <td>2</td>\n",
              "      <td>Y</td>\n",
              "      <td>2</td>\n",
              "      <td>radiotherapy</td>\n",
              "      <td>S</td>\n",
              "      <td>D</td>\n",
              "      <td>2.0</td>\n",
              "      <td>7.0</td>\n",
              "      <td>Trauma</td>\n",
              "      <td>Extreme</td>\n",
              "      <td>51-60</td>\n",
              "      <td>5558.0</td>\n",
              "      <td>41-50</td>\n",
              "    </tr>\n",
              "  </tbody>\n",
              "</table>\n",
              "</div>\n",
              "      <button class=\"colab-df-convert\" onclick=\"convertToInteractive('df-51aedd34-e955-4216-8308-4998f98a9c4e')\"\n",
              "              title=\"Convert this dataframe to an interactive table.\"\n",
              "              style=\"display:none;\">\n",
              "        \n",
              "  <svg xmlns=\"http://www.w3.org/2000/svg\" height=\"24px\"viewBox=\"0 0 24 24\"\n",
              "       width=\"24px\">\n",
              "    <path d=\"M0 0h24v24H0V0z\" fill=\"none\"/>\n",
              "    <path d=\"M18.56 5.44l.94 2.06.94-2.06 2.06-.94-2.06-.94-.94-2.06-.94 2.06-2.06.94zm-11 1L8.5 8.5l.94-2.06 2.06-.94-2.06-.94L8.5 2.5l-.94 2.06-2.06.94zm10 10l.94 2.06.94-2.06 2.06-.94-2.06-.94-.94-2.06-.94 2.06-2.06.94z\"/><path d=\"M17.41 7.96l-1.37-1.37c-.4-.4-.92-.59-1.43-.59-.52 0-1.04.2-1.43.59L10.3 9.45l-7.72 7.72c-.78.78-.78 2.05 0 2.83L4 21.41c.39.39.9.59 1.41.59.51 0 1.02-.2 1.41-.59l7.78-7.78 2.81-2.81c.8-.78.8-2.07 0-2.86zM5.41 20L4 18.59l7.72-7.72 1.47 1.35L5.41 20z\"/>\n",
              "  </svg>\n",
              "      </button>\n",
              "      \n",
              "  <style>\n",
              "    .colab-df-container {\n",
              "      display:flex;\n",
              "      flex-wrap:wrap;\n",
              "      gap: 12px;\n",
              "    }\n",
              "\n",
              "    .colab-df-convert {\n",
              "      background-color: #E8F0FE;\n",
              "      border: none;\n",
              "      border-radius: 50%;\n",
              "      cursor: pointer;\n",
              "      display: none;\n",
              "      fill: #1967D2;\n",
              "      height: 32px;\n",
              "      padding: 0 0 0 0;\n",
              "      width: 32px;\n",
              "    }\n",
              "\n",
              "    .colab-df-convert:hover {\n",
              "      background-color: #E2EBFA;\n",
              "      box-shadow: 0px 1px 2px rgba(60, 64, 67, 0.3), 0px 1px 3px 1px rgba(60, 64, 67, 0.15);\n",
              "      fill: #174EA6;\n",
              "    }\n",
              "\n",
              "    [theme=dark] .colab-df-convert {\n",
              "      background-color: #3B4455;\n",
              "      fill: #D2E3FC;\n",
              "    }\n",
              "\n",
              "    [theme=dark] .colab-df-convert:hover {\n",
              "      background-color: #434B5C;\n",
              "      box-shadow: 0px 1px 3px 1px rgba(0, 0, 0, 0.15);\n",
              "      filter: drop-shadow(0px 1px 2px rgba(0, 0, 0, 0.3));\n",
              "      fill: #FFFFFF;\n",
              "    }\n",
              "  </style>\n",
              "\n",
              "      <script>\n",
              "        const buttonEl =\n",
              "          document.querySelector('#df-51aedd34-e955-4216-8308-4998f98a9c4e button.colab-df-convert');\n",
              "        buttonEl.style.display =\n",
              "          google.colab.kernel.accessAllowed ? 'block' : 'none';\n",
              "\n",
              "        async function convertToInteractive(key) {\n",
              "          const element = document.querySelector('#df-51aedd34-e955-4216-8308-4998f98a9c4e');\n",
              "          const dataTable =\n",
              "            await google.colab.kernel.invokeFunction('convertToInteractive',\n",
              "                                                     [key], {});\n",
              "          if (!dataTable) return;\n",
              "\n",
              "          const docLinkHtml = 'Like what you see? Visit the ' +\n",
              "            '<a target=\"_blank\" href=https://colab.research.google.com/notebooks/data_table.ipynb>data table notebook</a>'\n",
              "            + ' to learn more about interactive tables.';\n",
              "          element.innerHTML = '';\n",
              "          dataTable['output_type'] = 'display_data';\n",
              "          await google.colab.output.renderOutput(dataTable, element);\n",
              "          const docLink = document.createElement('div');\n",
              "          docLink.innerHTML = docLinkHtml;\n",
              "          element.appendChild(docLink);\n",
              "        }\n",
              "      </script>\n",
              "    </div>\n",
              "  </div>\n",
              "  "
            ]
          },
          "metadata": {},
          "execution_count": 16
        }
      ],
      "source": [
        "df.head()"
      ]
    },
    {
      "cell_type": "markdown",
      "id": "7e61b3c4",
      "metadata": {
        "id": "7e61b3c4"
      },
      "source": [
        "**There are 3 columns as float64 type, and it makes sense when dealing with money as the columns `Admission_Deposit`, but it seems like that the columns `Bed Grade` and `City_Code_Patient` would be better if they were int64 type. Let's check.**"
      ]
    },
    {
      "cell_type": "code",
      "execution_count": 17,
      "id": "f4fc8d8a",
      "metadata": {
        "colab": {
          "base_uri": "https://localhost:8080/"
        },
        "id": "f4fc8d8a",
        "outputId": "4a6183d1-a87d-4fb1-ff40-e0c915eedab7"
      },
      "outputs": [
        {
          "output_type": "execute_result",
          "data": {
            "text/plain": [
              "array([2., 3., 4., 1.])"
            ]
          },
          "metadata": {},
          "execution_count": 17
        }
      ],
      "source": [
        "# Checking all unique values for Bed Grade\n",
        "df['Bed Grade'].unique()"
      ]
    },
    {
      "cell_type": "code",
      "execution_count": 18,
      "id": "0ff77707",
      "metadata": {
        "colab": {
          "base_uri": "https://localhost:8080/"
        },
        "id": "0ff77707",
        "outputId": "04470e71-5f13-4da5-9546-54338bff85bf"
      },
      "outputs": [
        {
          "output_type": "execute_result",
          "data": {
            "text/plain": [
              "array([ 7.,  8.,  2.,  5.,  6.,  3.,  4.,  1.,  9., 14., 25., 15., 12.,\n",
              "       10., 28., 24., 23., 20., 11., 13., 21., 18., 16., 26., 27., 22.,\n",
              "       19., 31., 34., 32., 30., 29., 37., 33., 35., 36., 38.])"
            ]
          },
          "metadata": {},
          "execution_count": 18
        }
      ],
      "source": [
        "# Checking all unique values for City_Code_Patient\n",
        "df['City_Code_Patient'].unique()"
      ]
    },
    {
      "cell_type": "markdown",
      "id": "6aba2960",
      "metadata": {
        "id": "6aba2960"
      },
      "source": [
        "**They both can be int64 type**"
      ]
    },
    {
      "cell_type": "code",
      "execution_count": 19,
      "id": "2a7782be",
      "metadata": {
        "id": "2a7782be"
      },
      "outputs": [],
      "source": [
        "# Changing the column \"Bed Grade\" and \"City_Code_Patient\" to int type\n",
        "df[\"Bed Grade\"] = df[\"Bed Grade\"].apply(np.int64)\n",
        "df[\"City_Code_Patient\"] = df[\"City_Code_Patient\"].apply(np.int64)"
      ]
    },
    {
      "cell_type": "code",
      "execution_count": 20,
      "id": "828171e0",
      "metadata": {
        "colab": {
          "base_uri": "https://localhost:8080/"
        },
        "id": "828171e0",
        "outputId": "7336447f-b604-4b75-eb42-c18482a50912"
      },
      "outputs": [
        {
          "output_type": "execute_result",
          "data": {
            "text/plain": [
              "Hospital_code                          int64\n",
              "Hospital_type_code                    object\n",
              "City_Code_Hospital                     int64\n",
              "Hospital_region_code                  object\n",
              "Available Extra Rooms in Hospital      int64\n",
              "Department                            object\n",
              "Ward_Type                             object\n",
              "Ward_Facility_Code                    object\n",
              "Bed Grade                              int64\n",
              "City_Code_Patient                      int64\n",
              "Type of Admission                     object\n",
              "Severity of Illness                   object\n",
              "Age                                   object\n",
              "Admission_Deposit                    float64\n",
              "Stay                                  object\n",
              "dtype: object"
            ]
          },
          "metadata": {},
          "execution_count": 20
        }
      ],
      "source": [
        "# Checking if the type changed\n",
        "df.dtypes"
      ]
    },
    {
      "cell_type": "code",
      "execution_count": 21,
      "id": "7ca1ae04",
      "metadata": {
        "colab": {
          "base_uri": "https://localhost:8080/"
        },
        "id": "7ca1ae04",
        "outputId": "6a3da65c-c236-439b-ba02-4f25868d3096"
      },
      "outputs": [
        {
          "output_type": "execute_result",
          "data": {
            "text/plain": [
              "Hospital_code                        0\n",
              "Hospital_type_code                   0\n",
              "City_Code_Hospital                   0\n",
              "Hospital_region_code                 0\n",
              "Available Extra Rooms in Hospital    0\n",
              "Department                           0\n",
              "Ward_Type                            0\n",
              "Ward_Facility_Code                   0\n",
              "Bed Grade                            0\n",
              "City_Code_Patient                    0\n",
              "Type of Admission                    0\n",
              "Severity of Illness                  0\n",
              "Age                                  0\n",
              "Admission_Deposit                    0\n",
              "Stay                                 0\n",
              "dtype: int64"
            ]
          },
          "metadata": {},
          "execution_count": 21
        }
      ],
      "source": [
        "# Checking if any null values were created with this transformation\n",
        "df.isnull().sum()"
      ]
    },
    {
      "cell_type": "markdown",
      "id": "35824f66",
      "metadata": {
        "id": "35824f66"
      },
      "source": [
        "## Target Modification\n",
        "**The proposal for this model is to predict short Lenght of Stay (LoS) and long LoS. So here we'll separate the Lenght of Stay into 2 categories: ≤ 30 days and > 30 day.**"
      ]
    },
    {
      "cell_type": "code",
      "execution_count": 22,
      "id": "9def34da",
      "metadata": {
        "colab": {
          "base_uri": "https://localhost:8080/"
        },
        "id": "9def34da",
        "outputId": "b1a4409c-c90d-46ff-db74-8ec670eb7e67"
      },
      "outputs": [
        {
          "output_type": "execute_result",
          "data": {
            "text/plain": [
              "21-30                 86316\n",
              "11-20                 77095\n",
              "31-40                 54312\n",
              "51-60                 34463\n",
              "0-10                  23250\n",
              "41-50                 11541\n",
              "71-80                 10096\n",
              "More than 100 Days     6548\n",
              "81-90                  4761\n",
              "91-100                 2713\n",
              "61-70                  2698\n",
              "Name: Stay, dtype: int64"
            ]
          },
          "metadata": {},
          "execution_count": 22
        }
      ],
      "source": [
        "# Checking the distribution of the target\n",
        "df[\"Stay\"].value_counts()"
      ]
    },
    {
      "cell_type": "code",
      "execution_count": 23,
      "id": "bab11df3",
      "metadata": {
        "id": "bab11df3"
      },
      "outputs": [],
      "source": [
        "# Changing the target into 2 categories: ≤ 30 days and > 30 days\n",
        "df[\"Stay\"] = df[\"Stay\"].replace(['0-10','11-20', '21-30' ], 0)\n",
        "df[\"Stay\"] = df[\"Stay\"].replace(['31-40','41-50','51-60',\n",
        "                                 '61-70', '71-80', '81-90',\n",
        "                                 '91-100', 'More than 100 Days'], 1)"
      ]
    },
    {
      "cell_type": "code",
      "execution_count": 24,
      "id": "9a1cbb94",
      "metadata": {
        "colab": {
          "base_uri": "https://localhost:8080/"
        },
        "id": "9a1cbb94",
        "outputId": "0998f61b-0fb4-438f-87f4-b289f95e34a1"
      },
      "outputs": [
        {
          "output_type": "execute_result",
          "data": {
            "text/plain": [
              "0    186661\n",
              "1    127132\n",
              "Name: Stay, dtype: int64"
            ]
          },
          "metadata": {},
          "execution_count": 24
        }
      ],
      "source": [
        "# Checking the new distribution of the target\n",
        "df[\"Stay\"].value_counts()"
      ]
    },
    {
      "cell_type": "markdown",
      "id": "1c1ddf20",
      "metadata": {
        "id": "1c1ddf20"
      },
      "source": [
        "**In this modification, lengh of stay ≤ 30 days will be 0 and > 30 days will be 1**"
      ]
    },
    {
      "cell_type": "code",
      "execution_count": 25,
      "id": "6154edf0",
      "metadata": {
        "colab": {
          "base_uri": "https://localhost:8080/"
        },
        "id": "6154edf0",
        "outputId": "e84fc625-81cc-4472-a2fb-13ced89e2e63"
      },
      "outputs": [
        {
          "output_type": "execute_result",
          "data": {
            "text/plain": [
              "Hospital_code                        0\n",
              "Hospital_type_code                   0\n",
              "City_Code_Hospital                   0\n",
              "Hospital_region_code                 0\n",
              "Available Extra Rooms in Hospital    0\n",
              "Department                           0\n",
              "Ward_Type                            0\n",
              "Ward_Facility_Code                   0\n",
              "Bed Grade                            0\n",
              "City_Code_Patient                    0\n",
              "Type of Admission                    0\n",
              "Severity of Illness                  0\n",
              "Age                                  0\n",
              "Admission_Deposit                    0\n",
              "Stay                                 0\n",
              "dtype: int64"
            ]
          },
          "metadata": {},
          "execution_count": 25
        }
      ],
      "source": [
        "# Checking if this modification created any null values\n",
        "df.isnull().sum()"
      ]
    },
    {
      "cell_type": "markdown",
      "id": "565590ae",
      "metadata": {
        "id": "565590ae"
      },
      "source": [
        "## Create variables dummies for categorical columns"
      ]
    },
    {
      "cell_type": "code",
      "execution_count": 26,
      "id": "8d0489e7",
      "metadata": {
        "colab": {
          "base_uri": "https://localhost:8080/"
        },
        "id": "8d0489e7",
        "outputId": "d8e92cc4-2bf6-4700-e756-3cb9c969a760"
      },
      "outputs": [
        {
          "output_type": "execute_result",
          "data": {
            "text/plain": [
              "Hospital_code                          int64\n",
              "Hospital_type_code                    object\n",
              "City_Code_Hospital                     int64\n",
              "Hospital_region_code                  object\n",
              "Available Extra Rooms in Hospital      int64\n",
              "Department                            object\n",
              "Ward_Type                             object\n",
              "Ward_Facility_Code                    object\n",
              "Bed Grade                              int64\n",
              "City_Code_Patient                      int64\n",
              "Type of Admission                     object\n",
              "Severity of Illness                   object\n",
              "Age                                   object\n",
              "Admission_Deposit                    float64\n",
              "Stay                                   int64\n",
              "dtype: object"
            ]
          },
          "metadata": {},
          "execution_count": 26
        }
      ],
      "source": [
        "# checking first the categorical columns\n",
        "df.dtypes"
      ]
    },
    {
      "cell_type": "code",
      "execution_count": 27,
      "id": "dd2c2529",
      "metadata": {
        "id": "dd2c2529"
      },
      "outputs": [],
      "source": [
        "# Creating the dummies for categorical columns, and droping the original \n",
        "df = pd.get_dummies(df, columns= ['Hospital_type_code', 'Hospital_region_code', 'Department',\n",
        "                                    'Ward_Type', 'Ward_Facility_Code', 'Type of Admission',\n",
        "                                    'Severity of Illness', 'Age'])"
      ]
    },
    {
      "cell_type": "code",
      "execution_count": 28,
      "id": "018b1c6e",
      "metadata": {
        "colab": {
          "base_uri": "https://localhost:8080/",
          "height": 352
        },
        "id": "018b1c6e",
        "outputId": "4cd12d36-8f55-48ac-f345-582ded68a25c"
      },
      "outputs": [
        {
          "output_type": "execute_result",
          "data": {
            "text/plain": [
              "   Hospital_code  City_Code_Hospital  Available Extra Rooms in Hospital  \\\n",
              "0              8                   3                                  3   \n",
              "1              2                   5                                  2   \n",
              "2             10                   1                                  2   \n",
              "3             26                   2                                  2   \n",
              "4             26                   2                                  2   \n",
              "\n",
              "   Bed Grade  City_Code_Patient  Admission_Deposit  Stay  \\\n",
              "0          2                  7             4911.0     0   \n",
              "1          2                  7             5954.0     1   \n",
              "2          2                  7             4745.0     1   \n",
              "3          2                  7             7272.0     1   \n",
              "4          2                  7             5558.0     1   \n",
              "\n",
              "   Hospital_type_code_a  Hospital_type_code_b  Hospital_type_code_c  ...  \\\n",
              "0                     0                     0                     1  ...   \n",
              "1                     0                     0                     1  ...   \n",
              "2                     0                     0                     0  ...   \n",
              "3                     0                     1                     0  ...   \n",
              "4                     0                     1                     0  ...   \n",
              "\n",
              "   Age_0-10  Age_11-20  Age_21-30  Age_31-40  Age_41-50  Age_51-60  Age_61-70  \\\n",
              "0         0          0          0          0          0          1          0   \n",
              "1         0          0          0          0          0          1          0   \n",
              "2         0          0          0          0          0          1          0   \n",
              "3         0          0          0          0          0          1          0   \n",
              "4         0          0          0          0          0          1          0   \n",
              "\n",
              "   Age_71-80  Age_81-90  Age_91-100  \n",
              "0          0          0           0  \n",
              "1          0          0           0  \n",
              "2          0          0           0  \n",
              "3          0          0           0  \n",
              "4          0          0           0  \n",
              "\n",
              "[5 rows x 50 columns]"
            ],
            "text/html": [
              "\n",
              "  <div id=\"df-c256e5d7-ff23-4df2-be32-25027c59c720\">\n",
              "    <div class=\"colab-df-container\">\n",
              "      <div>\n",
              "<style scoped>\n",
              "    .dataframe tbody tr th:only-of-type {\n",
              "        vertical-align: middle;\n",
              "    }\n",
              "\n",
              "    .dataframe tbody tr th {\n",
              "        vertical-align: top;\n",
              "    }\n",
              "\n",
              "    .dataframe thead th {\n",
              "        text-align: right;\n",
              "    }\n",
              "</style>\n",
              "<table border=\"1\" class=\"dataframe\">\n",
              "  <thead>\n",
              "    <tr style=\"text-align: right;\">\n",
              "      <th></th>\n",
              "      <th>Hospital_code</th>\n",
              "      <th>City_Code_Hospital</th>\n",
              "      <th>Available Extra Rooms in Hospital</th>\n",
              "      <th>Bed Grade</th>\n",
              "      <th>City_Code_Patient</th>\n",
              "      <th>Admission_Deposit</th>\n",
              "      <th>Stay</th>\n",
              "      <th>Hospital_type_code_a</th>\n",
              "      <th>Hospital_type_code_b</th>\n",
              "      <th>Hospital_type_code_c</th>\n",
              "      <th>...</th>\n",
              "      <th>Age_0-10</th>\n",
              "      <th>Age_11-20</th>\n",
              "      <th>Age_21-30</th>\n",
              "      <th>Age_31-40</th>\n",
              "      <th>Age_41-50</th>\n",
              "      <th>Age_51-60</th>\n",
              "      <th>Age_61-70</th>\n",
              "      <th>Age_71-80</th>\n",
              "      <th>Age_81-90</th>\n",
              "      <th>Age_91-100</th>\n",
              "    </tr>\n",
              "  </thead>\n",
              "  <tbody>\n",
              "    <tr>\n",
              "      <th>0</th>\n",
              "      <td>8</td>\n",
              "      <td>3</td>\n",
              "      <td>3</td>\n",
              "      <td>2</td>\n",
              "      <td>7</td>\n",
              "      <td>4911.0</td>\n",
              "      <td>0</td>\n",
              "      <td>0</td>\n",
              "      <td>0</td>\n",
              "      <td>1</td>\n",
              "      <td>...</td>\n",
              "      <td>0</td>\n",
              "      <td>0</td>\n",
              "      <td>0</td>\n",
              "      <td>0</td>\n",
              "      <td>0</td>\n",
              "      <td>1</td>\n",
              "      <td>0</td>\n",
              "      <td>0</td>\n",
              "      <td>0</td>\n",
              "      <td>0</td>\n",
              "    </tr>\n",
              "    <tr>\n",
              "      <th>1</th>\n",
              "      <td>2</td>\n",
              "      <td>5</td>\n",
              "      <td>2</td>\n",
              "      <td>2</td>\n",
              "      <td>7</td>\n",
              "      <td>5954.0</td>\n",
              "      <td>1</td>\n",
              "      <td>0</td>\n",
              "      <td>0</td>\n",
              "      <td>1</td>\n",
              "      <td>...</td>\n",
              "      <td>0</td>\n",
              "      <td>0</td>\n",
              "      <td>0</td>\n",
              "      <td>0</td>\n",
              "      <td>0</td>\n",
              "      <td>1</td>\n",
              "      <td>0</td>\n",
              "      <td>0</td>\n",
              "      <td>0</td>\n",
              "      <td>0</td>\n",
              "    </tr>\n",
              "    <tr>\n",
              "      <th>2</th>\n",
              "      <td>10</td>\n",
              "      <td>1</td>\n",
              "      <td>2</td>\n",
              "      <td>2</td>\n",
              "      <td>7</td>\n",
              "      <td>4745.0</td>\n",
              "      <td>1</td>\n",
              "      <td>0</td>\n",
              "      <td>0</td>\n",
              "      <td>0</td>\n",
              "      <td>...</td>\n",
              "      <td>0</td>\n",
              "      <td>0</td>\n",
              "      <td>0</td>\n",
              "      <td>0</td>\n",
              "      <td>0</td>\n",
              "      <td>1</td>\n",
              "      <td>0</td>\n",
              "      <td>0</td>\n",
              "      <td>0</td>\n",
              "      <td>0</td>\n",
              "    </tr>\n",
              "    <tr>\n",
              "      <th>3</th>\n",
              "      <td>26</td>\n",
              "      <td>2</td>\n",
              "      <td>2</td>\n",
              "      <td>2</td>\n",
              "      <td>7</td>\n",
              "      <td>7272.0</td>\n",
              "      <td>1</td>\n",
              "      <td>0</td>\n",
              "      <td>1</td>\n",
              "      <td>0</td>\n",
              "      <td>...</td>\n",
              "      <td>0</td>\n",
              "      <td>0</td>\n",
              "      <td>0</td>\n",
              "      <td>0</td>\n",
              "      <td>0</td>\n",
              "      <td>1</td>\n",
              "      <td>0</td>\n",
              "      <td>0</td>\n",
              "      <td>0</td>\n",
              "      <td>0</td>\n",
              "    </tr>\n",
              "    <tr>\n",
              "      <th>4</th>\n",
              "      <td>26</td>\n",
              "      <td>2</td>\n",
              "      <td>2</td>\n",
              "      <td>2</td>\n",
              "      <td>7</td>\n",
              "      <td>5558.0</td>\n",
              "      <td>1</td>\n",
              "      <td>0</td>\n",
              "      <td>1</td>\n",
              "      <td>0</td>\n",
              "      <td>...</td>\n",
              "      <td>0</td>\n",
              "      <td>0</td>\n",
              "      <td>0</td>\n",
              "      <td>0</td>\n",
              "      <td>0</td>\n",
              "      <td>1</td>\n",
              "      <td>0</td>\n",
              "      <td>0</td>\n",
              "      <td>0</td>\n",
              "      <td>0</td>\n",
              "    </tr>\n",
              "  </tbody>\n",
              "</table>\n",
              "<p>5 rows × 50 columns</p>\n",
              "</div>\n",
              "      <button class=\"colab-df-convert\" onclick=\"convertToInteractive('df-c256e5d7-ff23-4df2-be32-25027c59c720')\"\n",
              "              title=\"Convert this dataframe to an interactive table.\"\n",
              "              style=\"display:none;\">\n",
              "        \n",
              "  <svg xmlns=\"http://www.w3.org/2000/svg\" height=\"24px\"viewBox=\"0 0 24 24\"\n",
              "       width=\"24px\">\n",
              "    <path d=\"M0 0h24v24H0V0z\" fill=\"none\"/>\n",
              "    <path d=\"M18.56 5.44l.94 2.06.94-2.06 2.06-.94-2.06-.94-.94-2.06-.94 2.06-2.06.94zm-11 1L8.5 8.5l.94-2.06 2.06-.94-2.06-.94L8.5 2.5l-.94 2.06-2.06.94zm10 10l.94 2.06.94-2.06 2.06-.94-2.06-.94-.94-2.06-.94 2.06-2.06.94z\"/><path d=\"M17.41 7.96l-1.37-1.37c-.4-.4-.92-.59-1.43-.59-.52 0-1.04.2-1.43.59L10.3 9.45l-7.72 7.72c-.78.78-.78 2.05 0 2.83L4 21.41c.39.39.9.59 1.41.59.51 0 1.02-.2 1.41-.59l7.78-7.78 2.81-2.81c.8-.78.8-2.07 0-2.86zM5.41 20L4 18.59l7.72-7.72 1.47 1.35L5.41 20z\"/>\n",
              "  </svg>\n",
              "      </button>\n",
              "      \n",
              "  <style>\n",
              "    .colab-df-container {\n",
              "      display:flex;\n",
              "      flex-wrap:wrap;\n",
              "      gap: 12px;\n",
              "    }\n",
              "\n",
              "    .colab-df-convert {\n",
              "      background-color: #E8F0FE;\n",
              "      border: none;\n",
              "      border-radius: 50%;\n",
              "      cursor: pointer;\n",
              "      display: none;\n",
              "      fill: #1967D2;\n",
              "      height: 32px;\n",
              "      padding: 0 0 0 0;\n",
              "      width: 32px;\n",
              "    }\n",
              "\n",
              "    .colab-df-convert:hover {\n",
              "      background-color: #E2EBFA;\n",
              "      box-shadow: 0px 1px 2px rgba(60, 64, 67, 0.3), 0px 1px 3px 1px rgba(60, 64, 67, 0.15);\n",
              "      fill: #174EA6;\n",
              "    }\n",
              "\n",
              "    [theme=dark] .colab-df-convert {\n",
              "      background-color: #3B4455;\n",
              "      fill: #D2E3FC;\n",
              "    }\n",
              "\n",
              "    [theme=dark] .colab-df-convert:hover {\n",
              "      background-color: #434B5C;\n",
              "      box-shadow: 0px 1px 3px 1px rgba(0, 0, 0, 0.15);\n",
              "      filter: drop-shadow(0px 1px 2px rgba(0, 0, 0, 0.3));\n",
              "      fill: #FFFFFF;\n",
              "    }\n",
              "  </style>\n",
              "\n",
              "      <script>\n",
              "        const buttonEl =\n",
              "          document.querySelector('#df-c256e5d7-ff23-4df2-be32-25027c59c720 button.colab-df-convert');\n",
              "        buttonEl.style.display =\n",
              "          google.colab.kernel.accessAllowed ? 'block' : 'none';\n",
              "\n",
              "        async function convertToInteractive(key) {\n",
              "          const element = document.querySelector('#df-c256e5d7-ff23-4df2-be32-25027c59c720');\n",
              "          const dataTable =\n",
              "            await google.colab.kernel.invokeFunction('convertToInteractive',\n",
              "                                                     [key], {});\n",
              "          if (!dataTable) return;\n",
              "\n",
              "          const docLinkHtml = 'Like what you see? Visit the ' +\n",
              "            '<a target=\"_blank\" href=https://colab.research.google.com/notebooks/data_table.ipynb>data table notebook</a>'\n",
              "            + ' to learn more about interactive tables.';\n",
              "          element.innerHTML = '';\n",
              "          dataTable['output_type'] = 'display_data';\n",
              "          await google.colab.output.renderOutput(dataTable, element);\n",
              "          const docLink = document.createElement('div');\n",
              "          docLink.innerHTML = docLinkHtml;\n",
              "          element.appendChild(docLink);\n",
              "        }\n",
              "      </script>\n",
              "    </div>\n",
              "  </div>\n",
              "  "
            ]
          },
          "metadata": {},
          "execution_count": 28
        }
      ],
      "source": [
        "df.head()"
      ]
    },
    {
      "cell_type": "code",
      "execution_count": 29,
      "id": "5e009969",
      "metadata": {
        "colab": {
          "base_uri": "https://localhost:8080/"
        },
        "id": "5e009969",
        "outputId": "2171b4bc-4682-46be-8f46-2469ba4a03a0"
      },
      "outputs": [
        {
          "output_type": "execute_result",
          "data": {
            "text/plain": [
              "(313793, 50)"
            ]
          },
          "metadata": {},
          "execution_count": 29
        }
      ],
      "source": [
        "# Checking now the new amount of columns\n",
        "df.shape"
      ]
    },
    {
      "cell_type": "code",
      "execution_count": 30,
      "id": "7eeab51b",
      "metadata": {
        "colab": {
          "base_uri": "https://localhost:8080/"
        },
        "id": "7eeab51b",
        "outputId": "1d03ffea-87ac-41f8-87a8-0e400e06fd3f"
      },
      "outputs": [
        {
          "output_type": "execute_result",
          "data": {
            "text/plain": [
              "Hospital_code                        0\n",
              "City_Code_Hospital                   0\n",
              "Available Extra Rooms in Hospital    0\n",
              "Bed Grade                            0\n",
              "City_Code_Patient                    0\n",
              "Admission_Deposit                    0\n",
              "Stay                                 0\n",
              "Hospital_type_code_a                 0\n",
              "Hospital_type_code_b                 0\n",
              "Hospital_type_code_c                 0\n",
              "Hospital_type_code_d                 0\n",
              "Hospital_type_code_e                 0\n",
              "Hospital_type_code_f                 0\n",
              "Hospital_type_code_g                 0\n",
              "Hospital_region_code_X               0\n",
              "Hospital_region_code_Y               0\n",
              "Hospital_region_code_Z               0\n",
              "Department_TB & Chest disease        0\n",
              "Department_anesthesia                0\n",
              "Department_gynecology                0\n",
              "Department_radiotherapy              0\n",
              "Department_surgery                   0\n",
              "Ward_Type_P                          0\n",
              "Ward_Type_Q                          0\n",
              "Ward_Type_R                          0\n",
              "Ward_Type_S                          0\n",
              "Ward_Type_T                          0\n",
              "Ward_Type_U                          0\n",
              "Ward_Facility_Code_A                 0\n",
              "Ward_Facility_Code_B                 0\n",
              "Ward_Facility_Code_C                 0\n",
              "Ward_Facility_Code_D                 0\n",
              "Ward_Facility_Code_E                 0\n",
              "Ward_Facility_Code_F                 0\n",
              "Type of Admission_Emergency          0\n",
              "Type of Admission_Trauma             0\n",
              "Type of Admission_Urgent             0\n",
              "Severity of Illness_Extreme          0\n",
              "Severity of Illness_Minor            0\n",
              "Severity of Illness_Moderate         0\n",
              "Age_0-10                             0\n",
              "Age_11-20                            0\n",
              "Age_21-30                            0\n",
              "Age_31-40                            0\n",
              "Age_41-50                            0\n",
              "Age_51-60                            0\n",
              "Age_61-70                            0\n",
              "Age_71-80                            0\n",
              "Age_81-90                            0\n",
              "Age_91-100                           0\n",
              "dtype: int64"
            ]
          },
          "metadata": {},
          "execution_count": 30
        }
      ],
      "source": [
        "# Checking if the transformation created any null values\n",
        "df.isnull().sum()"
      ]
    },
    {
      "cell_type": "code",
      "execution_count": 31,
      "id": "03d18af8",
      "metadata": {
        "colab": {
          "base_uri": "https://localhost:8080/"
        },
        "id": "03d18af8",
        "outputId": "e879a4f6-a1da-46da-8511-c0a2665b57ce"
      },
      "outputs": [
        {
          "output_type": "execute_result",
          "data": {
            "text/plain": [
              "Hospital_code                          int64\n",
              "City_Code_Hospital                     int64\n",
              "Available Extra Rooms in Hospital      int64\n",
              "Bed Grade                              int64\n",
              "City_Code_Patient                      int64\n",
              "Admission_Deposit                    float64\n",
              "Stay                                   int64\n",
              "Hospital_type_code_a                   uint8\n",
              "Hospital_type_code_b                   uint8\n",
              "Hospital_type_code_c                   uint8\n",
              "Hospital_type_code_d                   uint8\n",
              "Hospital_type_code_e                   uint8\n",
              "Hospital_type_code_f                   uint8\n",
              "Hospital_type_code_g                   uint8\n",
              "Hospital_region_code_X                 uint8\n",
              "Hospital_region_code_Y                 uint8\n",
              "Hospital_region_code_Z                 uint8\n",
              "Department_TB & Chest disease          uint8\n",
              "Department_anesthesia                  uint8\n",
              "Department_gynecology                  uint8\n",
              "Department_radiotherapy                uint8\n",
              "Department_surgery                     uint8\n",
              "Ward_Type_P                            uint8\n",
              "Ward_Type_Q                            uint8\n",
              "Ward_Type_R                            uint8\n",
              "Ward_Type_S                            uint8\n",
              "Ward_Type_T                            uint8\n",
              "Ward_Type_U                            uint8\n",
              "Ward_Facility_Code_A                   uint8\n",
              "Ward_Facility_Code_B                   uint8\n",
              "Ward_Facility_Code_C                   uint8\n",
              "Ward_Facility_Code_D                   uint8\n",
              "Ward_Facility_Code_E                   uint8\n",
              "Ward_Facility_Code_F                   uint8\n",
              "Type of Admission_Emergency            uint8\n",
              "Type of Admission_Trauma               uint8\n",
              "Type of Admission_Urgent               uint8\n",
              "Severity of Illness_Extreme            uint8\n",
              "Severity of Illness_Minor              uint8\n",
              "Severity of Illness_Moderate           uint8\n",
              "Age_0-10                               uint8\n",
              "Age_11-20                              uint8\n",
              "Age_21-30                              uint8\n",
              "Age_31-40                              uint8\n",
              "Age_41-50                              uint8\n",
              "Age_51-60                              uint8\n",
              "Age_61-70                              uint8\n",
              "Age_71-80                              uint8\n",
              "Age_81-90                              uint8\n",
              "Age_91-100                             uint8\n",
              "dtype: object"
            ]
          },
          "metadata": {},
          "execution_count": 31
        }
      ],
      "source": [
        "# Checking if there is any categorical column\n",
        "df.dtypes"
      ]
    },
    {
      "cell_type": "markdown",
      "id": "f53de19f",
      "metadata": {
        "id": "f53de19f"
      },
      "source": [
        "## Split"
      ]
    },
    {
      "cell_type": "code",
      "execution_count": 32,
      "id": "246160f2",
      "metadata": {
        "id": "246160f2"
      },
      "outputs": [],
      "source": [
        "# saving the target column into a variable caled y\n",
        "y = df['Stay']"
      ]
    },
    {
      "cell_type": "code",
      "execution_count": 33,
      "id": "a83f2a8e",
      "metadata": {
        "id": "a83f2a8e"
      },
      "outputs": [],
      "source": [
        "# droping the target column and saving the rest into a variable caled X\n",
        "X = df.drop(columns=['Stay'], axis= 1)"
      ]
    },
    {
      "cell_type": "code",
      "execution_count": 34,
      "id": "06227352",
      "metadata": {
        "colab": {
          "base_uri": "https://localhost:8080/"
        },
        "id": "06227352",
        "outputId": "13b36b9f-c057-4aaf-cddc-a9eaeb54f2bf"
      },
      "outputs": [
        {
          "output_type": "execute_result",
          "data": {
            "text/plain": [
              "(313793,)"
            ]
          },
          "metadata": {},
          "execution_count": 34
        }
      ],
      "source": [
        "y.shape"
      ]
    },
    {
      "cell_type": "code",
      "execution_count": 35,
      "id": "f27b2be7",
      "metadata": {
        "colab": {
          "base_uri": "https://localhost:8080/"
        },
        "id": "f27b2be7",
        "outputId": "6eef0aa8-0707-41a9-e6b2-316a1eb46791"
      },
      "outputs": [
        {
          "output_type": "execute_result",
          "data": {
            "text/plain": [
              "(313793, 49)"
            ]
          },
          "metadata": {},
          "execution_count": 35
        }
      ],
      "source": [
        "X.shape"
      ]
    },
    {
      "cell_type": "markdown",
      "id": "5fc51f80",
      "metadata": {
        "id": "5fc51f80"
      },
      "source": [
        "**This dataset is already separate into a train and a test datasets, so there is no need to make a train test split. But I'll do this separation for creating a validation set.**"
      ]
    },
    {
      "cell_type": "code",
      "execution_count": 36,
      "id": "9d662159",
      "metadata": {
        "id": "9d662159"
      },
      "outputs": [],
      "source": [
        "# Spliting into train and test. Only for this dataset, this split wil create a train and a validation datasets.\n",
        "\n",
        "X_train,X_test,y_train,y_test=train_test_split(X,y,test_size=.2,random_state=42)"
      ]
    },
    {
      "cell_type": "markdown",
      "id": "e4a6ec3e",
      "metadata": {
        "id": "e4a6ec3e"
      },
      "source": [
        "# Training and Evaluating the Performance"
      ]
    },
    {
      "cell_type": "code",
      "execution_count": 37,
      "id": "4ef74ad8",
      "metadata": {
        "colab": {
          "base_uri": "https://localhost:8080/"
        },
        "id": "4ef74ad8",
        "outputId": "0cbd7b7f-4c00-4153-abc1-8332d2ba8db0"
      },
      "outputs": [
        {
          "output_type": "stream",
          "name": "stdout",
          "text": [
            "CPU times: user 5min 33s, sys: 7.24 s, total: 5min 41s\n",
            "Wall time: 5min 56s\n"
          ]
        },
        {
          "output_type": "execute_result",
          "data": {
            "text/plain": [
              "0.6347108242163862"
            ]
          },
          "metadata": {},
          "execution_count": 37
        }
      ],
      "source": [
        "%%time\n",
        "# Random Forest\n",
        "\n",
        "model_RandomForest = RandomForestClassifier(random_state=42)\n",
        "model_RandomForest.fit(X_train, y_train)\n",
        "\n",
        "cross_val_score(model_RandomForest, X_train, y_train,cv=5, scoring='accuracy').mean() "
      ]
    },
    {
      "cell_type": "code",
      "execution_count": 38,
      "id": "44d5a412",
      "metadata": {
        "colab": {
          "base_uri": "https://localhost:8080/"
        },
        "id": "44d5a412",
        "outputId": "56df3382-7972-4c28-b53f-fb2f049092e1"
      },
      "outputs": [
        {
          "output_type": "stream",
          "name": "stdout",
          "text": [
            "CPU times: user 43 s, sys: 659 ms, total: 43.7 s\n",
            "Wall time: 26.9 s\n"
          ]
        },
        {
          "output_type": "execute_result",
          "data": {
            "text/plain": [
              "0.6676506014095788"
            ]
          },
          "metadata": {},
          "execution_count": 38
        }
      ],
      "source": [
        "%%time\n",
        "# Light GBM\n",
        "\n",
        "model_LightGBM = lgbm.LGBMClassifier(random_state=42)\n",
        "model_LightGBM.fit(X_train, y_train)\n",
        "\n",
        "cross_val_score(model_LightGBM, X_train, y_train,cv=5, scoring='accuracy').mean() "
      ]
    },
    {
      "cell_type": "code",
      "execution_count": 39,
      "id": "c5549ff5",
      "metadata": {
        "colab": {
          "base_uri": "https://localhost:8080/"
        },
        "id": "c5549ff5",
        "outputId": "9d507825-757b-4b66-d76f-ad4cfcdf7710"
      },
      "outputs": [
        {
          "output_type": "stream",
          "name": "stdout",
          "text": [
            "CPU times: user 10min 8s, sys: 1.88 s, total: 10min 9s\n",
            "Wall time: 6min 4s\n"
          ]
        },
        {
          "output_type": "execute_result",
          "data": {
            "text/plain": [
              "0.6682202371422641"
            ]
          },
          "metadata": {},
          "execution_count": 39
        }
      ],
      "source": [
        "%%time\n",
        "# XGBoost\n",
        "\n",
        "model_XGBoost = xgb.XGBClassifier(random_state=42)\n",
        "model_XGBoost.fit(X_train, y_train)\n",
        "\n",
        "cross_val_score(model_XGBoost, X_train, y_train,cv=5, scoring='accuracy').mean() "
      ]
    },
    {
      "cell_type": "code",
      "execution_count": 40,
      "id": "4eddf90a",
      "metadata": {
        "colab": {
          "base_uri": "https://localhost:8080/"
        },
        "id": "4eddf90a",
        "outputId": "727d5b9e-b551-484c-de4f-70325e1bb6ee"
      },
      "outputs": [
        {
          "output_type": "execute_result",
          "data": {
            "text/plain": [
              "0    59.543727\n",
              "1    40.456273\n",
              "Name: Stay, dtype: float64"
            ]
          },
          "metadata": {},
          "execution_count": 40
        }
      ],
      "source": [
        "y_train.value_counts() / y_train.shape[0] * 100"
      ]
    },
    {
      "cell_type": "markdown",
      "id": "91cd082c",
      "metadata": {
        "id": "91cd082c"
      },
      "source": [
        "**When we look into the accuracy of the models with the train set, getting 92% of accuracy for a first glance it souns pretty good, but when we look into our target, they are huge inbalanced (~92.61% of 1 and ~7.39% of 0). So even with a 92% of accuracy, it is possible that the model are just predicting right the targets with value = 1.**"
      ]
    },
    {
      "cell_type": "markdown",
      "id": "28782239",
      "metadata": {
        "id": "28782239"
      },
      "source": [
        "## Confusion Matrix"
      ]
    },
    {
      "cell_type": "code",
      "execution_count": 41,
      "id": "967e63a4",
      "metadata": {
        "colab": {
          "base_uri": "https://localhost:8080/",
          "height": 296
        },
        "id": "967e63a4",
        "outputId": "9c3078dd-93cf-4983-9cc7-2855a3e26cbd"
      },
      "outputs": [
        {
          "output_type": "execute_result",
          "data": {
            "text/plain": [
              "<sklearn.metrics._plot.confusion_matrix.ConfusionMatrixDisplay at 0x7f4da72e2fd0>"
            ]
          },
          "metadata": {},
          "execution_count": 41
        },
        {
          "output_type": "display_data",
          "data": {
            "text/plain": [
              "<Figure size 432x288 with 2 Axes>"
            ],
            "image/png": "[encoded data removed]"
          },
          "metadata": {
            "needs_background": "light"
          }
        }
      ],
      "source": [
        "# Random Forest\n",
        "y_train_pred_RF = cross_val_predict(model_RandomForest,X_train,y_train, cv=5)\n",
        "\n",
        "cm_crossValidation = confusion_matrix(y_train, y_train_pred_RF) # Confusion Matrix\n",
        "\n",
        "# Plotting the Matrix\n",
        "disp = ConfusionMatrixDisplay(confusion_matrix=cm_crossValidation, display_labels=['< 30 days', '≥ 30 days'])\n",
        "disp.plot(cmap='Blues')"
      ]
    },
    {
      "cell_type": "code",
      "execution_count": 42,
      "id": "185c3fb9",
      "metadata": {
        "colab": {
          "base_uri": "https://localhost:8080/",
          "height": 296
        },
        "id": "185c3fb9",
        "outputId": "b60f74ca-e2d9-447d-b605-1016dbed0c63"
      },
      "outputs": [
        {
          "output_type": "execute_result",
          "data": {
            "text/plain": [
              "<sklearn.metrics._plot.confusion_matrix.ConfusionMatrixDisplay at 0x7f4da69096d0>"
            ]
          },
          "metadata": {},
          "execution_count": 42
        },
        {
          "output_type": "display_data",
          "data": {
            "text/plain": [
              "<Figure size 432x288 with 2 Axes>"
            ],
            "image/png": "[encoded data removed]"
          },
          "metadata": {
            "needs_background": "light"
          }
        }
      ],
      "source": [
        "# Light GBM\n",
        "y_train_pred_LGBM = cross_val_predict(model_LightGBM,X_train,y_train, cv=5)\n",
        "\n",
        "cm_crossValidation = confusion_matrix(y_train, y_train_pred_LGBM) # Confusion Matrix\n",
        "\n",
        "# Plotting the Matrix\n",
        "disp = ConfusionMatrixDisplay(confusion_matrix=cm_crossValidation, display_labels=['< 30 days', '≥ 30 days'])\n",
        "disp.plot(cmap='Blues')"
      ]
    },
    {
      "cell_type": "code",
      "execution_count": 43,
      "id": "b145150f",
      "metadata": {
        "colab": {
          "base_uri": "https://localhost:8080/",
          "height": 296
        },
        "id": "b145150f",
        "outputId": "581730dc-09a5-455c-99f2-37edcad776b2"
      },
      "outputs": [
        {
          "output_type": "execute_result",
          "data": {
            "text/plain": [
              "<sklearn.metrics._plot.confusion_matrix.ConfusionMatrixDisplay at 0x7f4da7bb0250>"
            ]
          },
          "metadata": {},
          "execution_count": 43
        },
        {
          "output_type": "display_data",
          "data": {
            "text/plain": [
              "<Figure size 432x288 with 2 Axes>"
            ],
            "image/png": "[encoded data removed]"
          },
          "metadata": {
            "needs_background": "light"
          }
        }
      ],
      "source": [
        "# XGBoost\n",
        "y_train_pred_XGB = cross_val_predict(model_XGBoost,X_train,y_train, cv=5)\n",
        "\n",
        "cm_crossValidation = confusion_matrix(y_train, y_train_pred_XGB) # Confusion Matrix\n",
        "\n",
        "# Plotting the matrix\n",
        "disp = ConfusionMatrixDisplay(confusion_matrix=cm_crossValidation, display_labels=['< 30 days', '≥ 30 days'])\n",
        "disp.plot(cmap='Blues')\n"
      ]
    },
    {
      "cell_type": "markdown",
      "id": "6f949bba",
      "metadata": {
        "id": "6f949bba"
      },
      "source": [
        "## Precision, Recall and F1-Score"
      ]
    },
    {
      "cell_type": "code",
      "execution_count": 44,
      "id": "11ed4a1e",
      "metadata": {
        "colab": {
          "base_uri": "https://localhost:8080/"
        },
        "id": "11ed4a1e",
        "outputId": "779a07bf-76a7-40ac-e333-171811b10c21"
      },
      "outputs": [
        {
          "output_type": "stream",
          "name": "stdout",
          "text": [
            "Precision: 0.559147138931884\n",
            "Recall: 0.458856428283067\n",
            "F1 Score: 0.504061611015565\n"
          ]
        }
      ],
      "source": [
        "# Random Forest\n",
        "print(\"Precision: {}\".format(precision_score(y_train, y_train_pred_RF)))\n",
        "print(\"Recall: {}\".format(recall_score(y_train, y_train_pred_RF)))\n",
        "print(\"F1 Score: {}\".format(f1_score(y_train, y_train_pred_RF)))"
      ]
    },
    {
      "cell_type": "code",
      "execution_count": 45,
      "id": "46d40a68",
      "metadata": {
        "colab": {
          "base_uri": "https://localhost:8080/"
        },
        "id": "46d40a68",
        "outputId": "ab1140d6-249a-4364-bd72-105a416e0761"
      },
      "outputs": [
        {
          "output_type": "stream",
          "name": "stdout",
          "text": [
            "Precision: 0.6362433862433863\n",
            "Recall: 0.4167823629614313\n",
            "F1 Score: 0.503643946289719\n"
          ]
        }
      ],
      "source": [
        "# Light GBM\n",
        "print(\"Precision: {}\".format(precision_score(y_train, y_train_pred_LGBM)))\n",
        "print(\"Recall: {}\".format(recall_score(y_train, y_train_pred_LGBM)))\n",
        "print(\"F1 Score: {}\".format(f1_score(y_train, y_train_pred_LGBM)))"
      ]
    },
    {
      "cell_type": "code",
      "execution_count": 46,
      "id": "818b8725",
      "metadata": {
        "colab": {
          "base_uri": "https://localhost:8080/"
        },
        "id": "818b8725",
        "outputId": "61936bb1-1560-4c24-fcb7-3ff4599a1b25"
      },
      "outputs": [
        {
          "output_type": "stream",
          "name": "stdout",
          "text": [
            "Precision: 0.6307593215487011\n",
            "Recall: 0.43391526107976647\n",
            "F1 Score: 0.514140377076722\n"
          ]
        }
      ],
      "source": [
        "# XGBoost\n",
        "print(\"Precision: {}\".format(precision_score(y_train, y_train_pred_XGB)))\n",
        "print(\"Recall: {}\".format(recall_score(y_train, y_train_pred_XGB)))\n",
        "print(\"F1 Score: {}\".format(f1_score(y_train, y_train_pred_XGB)))"
      ]
    },
    {
      "cell_type": "markdown",
      "id": "d42a6e9a",
      "metadata": {
        "id": "d42a6e9a"
      },
      "source": [
        "## ROC Curve"
      ]
    },
    {
      "cell_type": "code",
      "execution_count": 47,
      "id": "ebede764",
      "metadata": {
        "colab": {
          "base_uri": "https://localhost:8080/",
          "height": 265
        },
        "id": "ebede764",
        "outputId": "ccad22ce-5d1a-481e-fbb6-0174c9989735"
      },
      "outputs": [
        {
          "output_type": "display_data",
          "data": {
            "text/plain": [
              "<Figure size 432x288 with 1 Axes>"
            ],
            "image/png": "[encoded data removed]"
          },
          "metadata": {
            "needs_background": "light"
          }
        }
      ],
      "source": [
        "## Random Forest \n",
        "\n",
        "y_scores_RF = cross_val_predict(model_RandomForest, X_train, y_train, cv=3, method='predict_proba')[:,1] \n",
        "\n",
        "# Plotting the ROC Curve\n",
        "fpr, tpr, thresholds = roc_curve(y_train, y_scores_RF)\n",
        "\n",
        "def plot_roc_curve(fpr, tpr, label=None):\n",
        "  plt.plot(fpr, tpr, linewidth=2, label=label)\n",
        "  plt.plot([0,1], [0,1], 'k--')\n",
        "\n",
        "plot_roc_curve(fpr,tpr)\n",
        "plt.show()\n",
        "     "
      ]
    },
    {
      "cell_type": "code",
      "execution_count": 48,
      "id": "388c84a9",
      "metadata": {
        "colab": {
          "base_uri": "https://localhost:8080/"
        },
        "id": "388c84a9",
        "outputId": "3b3569c3-da71-419f-929f-4de5fa029437"
      },
      "outputs": [
        {
          "output_type": "execute_result",
          "data": {
            "text/plain": [
              "0.6566848810980616"
            ]
          },
          "metadata": {},
          "execution_count": 48
        }
      ],
      "source": [
        "roc_auc_score(y_train, y_scores_RF)"
      ]
    },
    {
      "cell_type": "code",
      "source": [
        "## Light GBM \n",
        "\n",
        "y_scores_LGBM = cross_val_predict(model_LightGBM, X_train, y_train, cv=3, method='predict_proba')[:,1] \n",
        "\n",
        "# Plotting the ROC Curve\n",
        "fpr, tpr, thresholds = roc_curve(y_train, y_scores_LGBM)\n",
        "\n",
        "def plot_roc_curve(fpr, tpr, label=None):\n",
        "  plt.plot(fpr, tpr, linewidth=2, label=label)\n",
        "  plt.plot([0,1], [0,1], 'k--')\n",
        "\n",
        "plot_roc_curve(fpr,tpr)\n",
        "plt.show()\n",
        "     "
      ],
      "metadata": {
        "colab": {
          "base_uri": "https://localhost:8080/",
          "height": 265
        },
        "id": "rzZ5kiF3_OlO",
        "outputId": "9d07653f-7d45-451c-c79e-a8958c25d6dd"
      },
      "id": "rzZ5kiF3_OlO",
      "execution_count": 49,
      "outputs": [
        {
          "output_type": "display_data",
          "data": {
            "text/plain": [
              "<Figure size 432x288 with 1 Axes>"
            ],
            "image/png": "[encoded data removed]"
          },
          "metadata": {
            "needs_background": "light"
          }
        }
      ]
    },
    {
      "cell_type": "code",
      "source": [
        "roc_auc_score(y_train, y_scores_LGBM)"
      ],
      "metadata": {
        "colab": {
          "base_uri": "https://localhost:8080/"
        },
        "id": "3YyMJMO5_Oth",
        "outputId": "a32ac3b9-46cb-4ce9-e5b9-2a1584b3d895"
      },
      "id": "3YyMJMO5_Oth",
      "execution_count": 50,
      "outputs": [
        {
          "output_type": "execute_result",
          "data": {
            "text/plain": [
              "0.7034934325858526"
            ]
          },
          "metadata": {},
          "execution_count": 50
        }
      ]
    },
    {
      "cell_type": "code",
      "execution_count": 51,
      "id": "77322593",
      "metadata": {
        "colab": {
          "base_uri": "https://localhost:8080/",
          "height": 265
        },
        "id": "77322593",
        "outputId": "2d43fd43-d303-4945-81b8-88558d885e4f"
      },
      "outputs": [
        {
          "output_type": "display_data",
          "data": {
            "text/plain": [
              "<Figure size 432x288 with 1 Axes>"
            ],
            "image/png": "[encoded data removed]"
          },
          "metadata": {
            "needs_background": "light"
          }
        }
      ],
      "source": [
        "# XGBoost\n",
        "\n",
        "y_scores_XGB = cross_val_predict(model_XGBoost, X_train, y_train, cv=3, method='predict_proba')[:,1] \n",
        "\n",
        "# Plotting the ROC Curve\n",
        "fpr, tpr, thresholds = roc_curve(y_train, y_scores_XGB)\n",
        "\n",
        "def plot_roc_curve(fpr, tpr, label=None):\n",
        "  plt.plot(fpr, tpr, linewidth=2, label=label)\n",
        "  plt.plot([0,1], [0,1], 'k--')\n",
        "\n",
        "plot_roc_curve(fpr,tpr)\n",
        "plt.show()\n"
      ]
    },
    {
      "cell_type": "code",
      "execution_count": 52,
      "id": "ca02ccc6",
      "metadata": {
        "colab": {
          "base_uri": "https://localhost:8080/"
        },
        "id": "ca02ccc6",
        "outputId": "6a8df708-10c8-4e74-8c54-56ace62f6371"
      },
      "outputs": [
        {
          "output_type": "execute_result",
          "data": {
            "text/plain": [
              "0.703651560975234"
            ]
          },
          "metadata": {},
          "execution_count": 52
        }
      ],
      "source": [
        "roc_auc_score(y_train, y_scores_XGB)"
      ]
    },
    {
      "cell_type": "markdown",
      "source": [
        "# Hiperparameters"
      ],
      "metadata": {
        "id": "ZoJGDAe_x7PP"
      },
      "id": "ZoJGDAe_x7PP"
    },
    {
      "cell_type": "code",
      "source": [
        "# Parameters options for testing\n",
        "parameters = {'learning_rate': [0.005, 0.01],\n",
        "              'n_estimators': [8, 16, 24],\n",
        "              'num_leaves': [6, 8, 12, 16]}\n",
        "              \n",
        "          \n",
        "clf = RandomizedSearchCV(model_LightGBM,parameters,n_iter=100,scoring='roc_auc',\n",
        "                         random_state=42)\n",
        "\n",
        "clf.fit(X_train, y_train)"
      ],
      "metadata": {
        "colab": {
          "base_uri": "https://localhost:8080/",
          "height": 135
        },
        "id": "j67YxKDR1Zk8",
        "outputId": "0e421b6a-e712-4dfc-fcca-40e869da1896"
      },
      "id": "j67YxKDR1Zk8",
      "execution_count": 53,
      "outputs": [
        {
          "output_type": "stream",
          "name": "stderr",
          "text": [
            "The total space of parameters 24 is smaller than n_iter=100. Running 24 iterations. For exhaustive searches, use GridSearchCV.\n"
          ]
        },
        {
          "output_type": "execute_result",
          "data": {
            "text/plain": [
              "RandomizedSearchCV(estimator=LGBMClassifier(random_state=42), n_iter=100,\n",
              "                   param_distributions={'learning_rate': [0.005, 0.01],\n",
              "                                        'n_estimators': [8, 16, 24],\n",
              "                                        'num_leaves': [6, 8, 12, 16]},\n",
              "                   random_state=42, scoring='roc_auc')"
            ],
            "text/html": [
              "<style>#sk-container-id-1 {color: black;background-color: white;}#sk-container-id-1 pre{padding: 0;}#sk-container-id-1 div.sk-toggleable {background-color: white;}#sk-container-id-1 label.sk-toggleable__label {cursor: pointer;display: block;width: 100%;margin-bottom: 0;padding: 0.3em;box-sizing: border-box;text-align: center;}#sk-container-id-1 label.sk-toggleable__label-arrow:before {content: \"▸\";float: left;margin-right: 0.25em;color: #696969;}#sk-container-id-1 label.sk-toggleable__label-arrow:hover:before {color: black;}#sk-container-id-1 div.sk-estimator:hover label.sk-toggleable__label-arrow:before {color: black;}#sk-container-id-1 div.sk-toggleable__content {max-height: 0;max-width: 0;overflow: hidden;text-align: left;background-color: #f0f8ff;}#sk-container-id-1 div.sk-toggleable__content pre {margin: 0.2em;color: black;border-radius: 0.25em;background-color: #f0f8ff;}#sk-container-id-1 input.sk-toggleable__control:checked~div.sk-toggleable__content {max-height: 200px;max-width: 100%;overflow: auto;}#sk-container-id-1 input.sk-toggleable__control:checked~label.sk-toggleable__label-arrow:before {content: \"▾\";}#sk-container-id-1 div.sk-estimator input.sk-toggleable__control:checked~label.sk-toggleable__label {background-color: #d4ebff;}#sk-container-id-1 div.sk-label input.sk-toggleable__control:checked~label.sk-toggleable__label {background-color: #d4ebff;}#sk-container-id-1 input.sk-hidden--visually {border: 0;clip: rect(1px 1px 1px 1px);clip: rect(1px, 1px, 1px, 1px);height: 1px;margin: -1px;overflow: hidden;padding: 0;position: absolute;width: 1px;}#sk-container-id-1 div.sk-estimator {font-family: monospace;background-color: #f0f8ff;border: 1px dotted black;border-radius: 0.25em;box-sizing: border-box;margin-bottom: 0.5em;}#sk-container-id-1 div.sk-estimator:hover {background-color: #d4ebff;}#sk-container-id-1 div.sk-parallel-item::after {content: \"\";width: 100%;border-bottom: 1px solid gray;flex-grow: 1;}#sk-container-id-1 div.sk-label:hover label.sk-toggleable__label {background-color: #d4ebff;}#sk-container-id-1 div.sk-serial::before {content: \"\";position: absolute;border-left: 1px solid gray;box-sizing: border-box;top: 0;bottom: 0;left: 50%;z-index: 0;}#sk-container-id-1 div.sk-serial {display: flex;flex-direction: column;align-items: center;background-color: white;padding-right: 0.2em;padding-left: 0.2em;position: relative;}#sk-container-id-1 div.sk-item {position: relative;z-index: 1;}#sk-container-id-1 div.sk-parallel {display: flex;align-items: stretch;justify-content: center;background-color: white;position: relative;}#sk-container-id-1 div.sk-item::before, #sk-container-id-1 div.sk-parallel-item::before {content: \"\";position: absolute;border-left: 1px solid gray;box-sizing: border-box;top: 0;bottom: 0;left: 50%;z-index: -1;}#sk-container-id-1 div.sk-parallel-item {display: flex;flex-direction: column;z-index: 1;position: relative;background-color: white;}#sk-container-id-1 div.sk-parallel-item:first-child::after {align-self: flex-end;width: 50%;}#sk-container-id-1 div.sk-parallel-item:last-child::after {align-self: flex-start;width: 50%;}#sk-container-id-1 div.sk-parallel-item:only-child::after {width: 0;}#sk-container-id-1 div.sk-dashed-wrapped {border: 1px dashed gray;margin: 0 0.4em 0.5em 0.4em;box-sizing: border-box;padding-bottom: 0.4em;background-color: white;}#sk-container-id-1 div.sk-label label {font-family: monospace;font-weight: bold;display: inline-block;line-height: 1.2em;}#sk-container-id-1 div.sk-label-container {text-align: center;}#sk-container-id-1 div.sk-container {/* jupyter's `normalize.less` sets `[hidden] { display: none; }` but bootstrap.min.css set `[hidden] { display: none !important; }` so we also need the `!important` here to be able to override the default hidden behavior on the sphinx rendered scikit-learn.org. See: https://github.com/scikit-learn/scikit-learn/issues/21755 */display: inline-block !important;position: relative;}#sk-container-id-1 div.sk-text-repr-fallback {display: none;}</style><div id=\"sk-container-id-1\" class=\"sk-top-container\"><div class=\"sk-text-repr-fallback\"><pre>RandomizedSearchCV(estimator=LGBMClassifier(random_state=42), n_iter=100,\n",
              "                   param_distributions={&#x27;learning_rate&#x27;: [0.005, 0.01],\n",
              "                                        &#x27;n_estimators&#x27;: [8, 16, 24],\n",
              "                                        &#x27;num_leaves&#x27;: [6, 8, 12, 16]},\n",
              "                   random_state=42, scoring=&#x27;roc_auc&#x27;)</pre><b>In a Jupyter environment, please rerun this cell to show the HTML representation or trust the notebook. <br />On GitHub, the HTML representation is unable to render, please try loading this page with nbviewer.org.</b></div><div class=\"sk-container\" hidden><div class=\"sk-item sk-dashed-wrapped\"><div class=\"sk-label-container\"><div class=\"sk-label sk-toggleable\"><input class=\"sk-toggleable__control sk-hidden--visually\" id=\"sk-estimator-id-1\" type=\"checkbox\" ><label for=\"sk-estimator-id-1\" class=\"sk-toggleable__label sk-toggleable__label-arrow\">RandomizedSearchCV</label><div class=\"sk-toggleable__content\"><pre>RandomizedSearchCV(estimator=LGBMClassifier(random_state=42), n_iter=100,\n",
              "                   param_distributions={&#x27;learning_rate&#x27;: [0.005, 0.01],\n",
              "                                        &#x27;n_estimators&#x27;: [8, 16, 24],\n",
              "                                        &#x27;num_leaves&#x27;: [6, 8, 12, 16]},\n",
              "                   random_state=42, scoring=&#x27;roc_auc&#x27;)</pre></div></div></div><div class=\"sk-parallel\"><div class=\"sk-parallel-item\"><div class=\"sk-item\"><div class=\"sk-label-container\"><div class=\"sk-label sk-toggleable\"><input class=\"sk-toggleable__control sk-hidden--visually\" id=\"sk-estimator-id-2\" type=\"checkbox\" ><label for=\"sk-estimator-id-2\" class=\"sk-toggleable__label sk-toggleable__label-arrow\">estimator: LGBMClassifier</label><div class=\"sk-toggleable__content\"><pre>LGBMClassifier(random_state=42)</pre></div></div></div><div class=\"sk-serial\"><div class=\"sk-item\"><div class=\"sk-estimator sk-toggleable\"><input class=\"sk-toggleable__control sk-hidden--visually\" id=\"sk-estimator-id-3\" type=\"checkbox\" ><label for=\"sk-estimator-id-3\" class=\"sk-toggleable__label sk-toggleable__label-arrow\">LGBMClassifier</label><div class=\"sk-toggleable__content\"><pre>LGBMClassifier(random_state=42)</pre></div></div></div></div></div></div></div></div></div></div>"
            ]
          },
          "metadata": {},
          "execution_count": 53
        }
      ]
    },
    {
      "cell_type": "code",
      "source": [
        "# Best parameteres\n",
        "clf.best_params_"
      ],
      "metadata": {
        "colab": {
          "base_uri": "https://localhost:8080/"
        },
        "id": "K17rGJrZyCzU",
        "outputId": "3df8c258-95bb-4345-8507-99027c6ec39a"
      },
      "id": "K17rGJrZyCzU",
      "execution_count": 54,
      "outputs": [
        {
          "output_type": "execute_result",
          "data": {
            "text/plain": [
              "{'num_leaves': 16, 'n_estimators': 24, 'learning_rate': 0.01}"
            ]
          },
          "metadata": {},
          "execution_count": 54
        }
      ]
    },
    {
      "cell_type": "code",
      "source": [
        "%%time\n",
        "# Light GBM\n",
        "\n",
        "model_LightGBM = lgbm.LGBMClassifier(random_state=42, num_leaves= 16, n_estimators= 24, learning_rate= 0.01)\n",
        "model_LightGBM.fit(X_train, y_train)\n",
        "\n",
        "cross_val_score(model_LightGBM, X_train, y_train,cv=5, scoring='accuracy').mean() "
      ],
      "metadata": {
        "colab": {
          "base_uri": "https://localhost:8080/"
        },
        "id": "QNp0ZjGk9AAU",
        "outputId": "020b1469-86df-41ca-e565-c46f55229983"
      },
      "id": "QNp0ZjGk9AAU",
      "execution_count": 55,
      "outputs": [
        {
          "output_type": "stream",
          "name": "stdout",
          "text": [
            "CPU times: user 15.1 s, sys: 384 ms, total: 15.4 s\n",
            "Wall time: 10.7 s\n"
          ]
        },
        {
          "output_type": "execute_result",
          "data": {
            "text/plain": [
              "0.5954372714830973"
            ]
          },
          "metadata": {},
          "execution_count": 55
        }
      ]
    },
    {
      "cell_type": "code",
      "source": [
        "# Light GBM\n",
        "y_train_pred_LGBM = cross_val_predict(model_LightGBM,X_train,y_train, cv=5)\n",
        "\n",
        "cm_crossValidation = confusion_matrix(y_train, y_train_pred_LGBM) # Confusion Matrix\n",
        "\n",
        "# Plotting the Matrix\n",
        "disp = ConfusionMatrixDisplay(confusion_matrix=cm_crossValidation, display_labels=['< 30 days', '≥ 30 days'])\n",
        "disp.plot(cmap='Blues')"
      ],
      "metadata": {
        "colab": {
          "base_uri": "https://localhost:8080/",
          "height": 296
        },
        "id": "mdheybRk-Z4H",
        "outputId": "38ca72ec-af93-4925-d875-6f5d97216810"
      },
      "id": "mdheybRk-Z4H",
      "execution_count": 56,
      "outputs": [
        {
          "output_type": "execute_result",
          "data": {
            "text/plain": [
              "<sklearn.metrics._plot.confusion_matrix.ConfusionMatrixDisplay at 0x7f4da5605fd0>"
            ]
          },
          "metadata": {},
          "execution_count": 56
        },
        {
          "output_type": "display_data",
          "data": {
            "text/plain": [
              "<Figure size 432x288 with 2 Axes>"
            ],
            "image/png": "[encoded data removed]"
          },
          "metadata": {
            "needs_background": "light"
          }
        }
      ]
    },
    {
      "cell_type": "code",
      "source": [
        "# Light GBM\n",
        "print(\"Precision: {}\".format(precision_score(y_train, y_train_pred_LGBM)))\n",
        "print(\"Recall: {}\".format(recall_score(y_train, y_train_pred_LGBM)))\n",
        "print(\"F1 Score: {}\".format(f1_score(y_train, y_train_pred_LGBM)))"
      ],
      "metadata": {
        "colab": {
          "base_uri": "https://localhost:8080/"
        },
        "id": "x8e1izKG9NHM",
        "outputId": "95cb8468-cf94-4a5e-e96f-8b63d1b081f3"
      },
      "id": "x8e1izKG9NHM",
      "execution_count": 57,
      "outputs": [
        {
          "output_type": "stream",
          "name": "stdout",
          "text": [
            "Precision: 0.0\n",
            "Recall: 0.0\n",
            "F1 Score: 0.0\n"
          ]
        },
        {
          "output_type": "stream",
          "name": "stderr",
          "text": [
            "Precision is ill-defined and being set to 0.0 due to no predicted samples. Use `zero_division` parameter to control this behavior.\n"
          ]
        }
      ]
    },
    {
      "cell_type": "code",
      "source": [
        "## Light GBM \n",
        "\n",
        "y_scores_LGBM = cross_val_predict(model_LightGBM, X_train, y_train, cv=3, method='predict_proba')[:,1] \n",
        "\n",
        "# Plotting the ROC Curve\n",
        "fpr, tpr, thresholds = roc_curve(y_train, y_scores_LGBM)\n",
        "\n",
        "def plot_roc_curve(fpr, tpr, label=None):\n",
        "  plt.plot(fpr, tpr, linewidth=2, label=label)\n",
        "  plt.plot([0,1], [0,1], 'k--')\n",
        "\n",
        "plot_roc_curve(fpr,tpr)\n",
        "plt.show()\n",
        "     "
      ],
      "metadata": {
        "colab": {
          "base_uri": "https://localhost:8080/",
          "height": 265
        },
        "id": "VyQDQmOr9YuN",
        "outputId": "bec6544e-9700-438a-d0a2-51a9873615f4"
      },
      "id": "VyQDQmOr9YuN",
      "execution_count": 58,
      "outputs": [
        {
          "output_type": "display_data",
          "data": {
            "text/plain": [
              "<Figure size 432x288 with 1 Axes>"
            ],
            "image/png": "[encoded data removed]"
          },
          "metadata": {
            "needs_background": "light"
          }
        }
      ]
    },
    {
      "cell_type": "code",
      "source": [
        "roc_auc_score(y_train, y_scores_LGBM)"
      ],
      "metadata": {
        "colab": {
          "base_uri": "https://localhost:8080/"
        },
        "id": "Yq945vpa9bxa",
        "outputId": "f271018d-9a9b-4f55-e681-c2fc4396cc74"
      },
      "id": "Yq945vpa9bxa",
      "execution_count": 59,
      "outputs": [
        {
          "output_type": "execute_result",
          "data": {
            "text/plain": [
              "0.6566814992006678"
            ]
          },
          "metadata": {},
          "execution_count": 59
        }
      ]
    },
    {
      "cell_type": "markdown",
      "source": [
        "**The hyper parameters tuning, got the model worst**"
      ],
      "metadata": {
        "id": "isYlBrt59qFH"
      },
      "id": "isYlBrt59qFH"
    },
    {
      "cell_type": "markdown",
      "source": [
        "# Test\n",
        "Because of the best performance in the cross validation, the chosen model were LightGBM"
      ],
      "metadata": {
        "id": "dJqt04VD_SXp"
      },
      "id": "dJqt04VD_SXp"
    },
    {
      "cell_type": "code",
      "source": [
        "# Light GBM\n",
        "\n",
        "model_LightGBM = lgbm.LGBMClassifier(random_state=42)\n",
        "model_LightGBM.fit(X_train, y_train)\n",
        "\n"
      ],
      "metadata": {
        "colab": {
          "base_uri": "https://localhost:8080/",
          "height": 75
        },
        "id": "XnTrYIRu9h6L",
        "outputId": "27e2d784-7980-4f23-eea9-f5e8f42cdbc5"
      },
      "id": "XnTrYIRu9h6L",
      "execution_count": 60,
      "outputs": [
        {
          "output_type": "execute_result",
          "data": {
            "text/plain": [
              "LGBMClassifier(random_state=42)"
            ],
            "text/html": [
              "<style>#sk-container-id-2 {color: black;background-color: white;}#sk-container-id-2 pre{padding: 0;}#sk-container-id-2 div.sk-toggleable {background-color: white;}#sk-container-id-2 label.sk-toggleable__label {cursor: pointer;display: block;width: 100%;margin-bottom: 0;padding: 0.3em;box-sizing: border-box;text-align: center;}#sk-container-id-2 label.sk-toggleable__label-arrow:before {content: \"▸\";float: left;margin-right: 0.25em;color: #696969;}#sk-container-id-2 label.sk-toggleable__label-arrow:hover:before {color: black;}#sk-container-id-2 div.sk-estimator:hover label.sk-toggleable__label-arrow:before {color: black;}#sk-container-id-2 div.sk-toggleable__content {max-height: 0;max-width: 0;overflow: hidden;text-align: left;background-color: #f0f8ff;}#sk-container-id-2 div.sk-toggleable__content pre {margin: 0.2em;color: black;border-radius: 0.25em;background-color: #f0f8ff;}#sk-container-id-2 input.sk-toggleable__control:checked~div.sk-toggleable__content {max-height: 200px;max-width: 100%;overflow: auto;}#sk-container-id-2 input.sk-toggleable__control:checked~label.sk-toggleable__label-arrow:before {content: \"▾\";}#sk-container-id-2 div.sk-estimator input.sk-toggleable__control:checked~label.sk-toggleable__label {background-color: #d4ebff;}#sk-container-id-2 div.sk-label input.sk-toggleable__control:checked~label.sk-toggleable__label {background-color: #d4ebff;}#sk-container-id-2 input.sk-hidden--visually {border: 0;clip: rect(1px 1px 1px 1px);clip: rect(1px, 1px, 1px, 1px);height: 1px;margin: -1px;overflow: hidden;padding: 0;position: absolute;width: 1px;}#sk-container-id-2 div.sk-estimator {font-family: monospace;background-color: #f0f8ff;border: 1px dotted black;border-radius: 0.25em;box-sizing: border-box;margin-bottom: 0.5em;}#sk-container-id-2 div.sk-estimator:hover {background-color: #d4ebff;}#sk-container-id-2 div.sk-parallel-item::after {content: \"\";width: 100%;border-bottom: 1px solid gray;flex-grow: 1;}#sk-container-id-2 div.sk-label:hover label.sk-toggleable__label {background-color: #d4ebff;}#sk-container-id-2 div.sk-serial::before {content: \"\";position: absolute;border-left: 1px solid gray;box-sizing: border-box;top: 0;bottom: 0;left: 50%;z-index: 0;}#sk-container-id-2 div.sk-serial {display: flex;flex-direction: column;align-items: center;background-color: white;padding-right: 0.2em;padding-left: 0.2em;position: relative;}#sk-container-id-2 div.sk-item {position: relative;z-index: 1;}#sk-container-id-2 div.sk-parallel {display: flex;align-items: stretch;justify-content: center;background-color: white;position: relative;}#sk-container-id-2 div.sk-item::before, #sk-container-id-2 div.sk-parallel-item::before {content: \"\";position: absolute;border-left: 1px solid gray;box-sizing: border-box;top: 0;bottom: 0;left: 50%;z-index: -1;}#sk-container-id-2 div.sk-parallel-item {display: flex;flex-direction: column;z-index: 1;position: relative;background-color: white;}#sk-container-id-2 div.sk-parallel-item:first-child::after {align-self: flex-end;width: 50%;}#sk-container-id-2 div.sk-parallel-item:last-child::after {align-self: flex-start;width: 50%;}#sk-container-id-2 div.sk-parallel-item:only-child::after {width: 0;}#sk-container-id-2 div.sk-dashed-wrapped {border: 1px dashed gray;margin: 0 0.4em 0.5em 0.4em;box-sizing: border-box;padding-bottom: 0.4em;background-color: white;}#sk-container-id-2 div.sk-label label {font-family: monospace;font-weight: bold;display: inline-block;line-height: 1.2em;}#sk-container-id-2 div.sk-label-container {text-align: center;}#sk-container-id-2 div.sk-container {/* jupyter's `normalize.less` sets `[hidden] { display: none; }` but bootstrap.min.css set `[hidden] { display: none !important; }` so we also need the `!important` here to be able to override the default hidden behavior on the sphinx rendered scikit-learn.org. See: https://github.com/scikit-learn/scikit-learn/issues/21755 */display: inline-block !important;position: relative;}#sk-container-id-2 div.sk-text-repr-fallback {display: none;}</style><div id=\"sk-container-id-2\" class=\"sk-top-container\"><div class=\"sk-text-repr-fallback\"><pre>LGBMClassifier(random_state=42)</pre><b>In a Jupyter environment, please rerun this cell to show the HTML representation or trust the notebook. <br />On GitHub, the HTML representation is unable to render, please try loading this page with nbviewer.org.</b></div><div class=\"sk-container\" hidden><div class=\"sk-item\"><div class=\"sk-estimator sk-toggleable\"><input class=\"sk-toggleable__control sk-hidden--visually\" id=\"sk-estimator-id-4\" type=\"checkbox\" checked><label for=\"sk-estimator-id-4\" class=\"sk-toggleable__label sk-toggleable__label-arrow\">LGBMClassifier</label><div class=\"sk-toggleable__content\"><pre>LGBMClassifier(random_state=42)</pre></div></div></div></div></div>"
            ]
          },
          "metadata": {},
          "execution_count": 60
        }
      ]
    },
    {
      "cell_type": "code",
      "source": [
        "# Light GBM\n",
        "y_test_pred_LGBM = model_LightGBM.predict(X_test)\n",
        "\n",
        "\n",
        "cm_crossValidation = confusion_matrix(y_test, y_test_pred_LGBM) # Confusion Matrix\n",
        "\n",
        "# Plotting the Matrix\n",
        "disp = ConfusionMatrixDisplay(confusion_matrix=cm_crossValidation, display_labels=['< 30 days', '≥ 30 days'])\n",
        "disp.plot(cmap='Blues')"
      ],
      "metadata": {
        "colab": {
          "base_uri": "https://localhost:8080/",
          "height": 296
        },
        "id": "xDuvfzCC9yBZ",
        "outputId": "bf0e3565-06a3-4450-eae9-a63bee54927d"
      },
      "id": "xDuvfzCC9yBZ",
      "execution_count": 61,
      "outputs": [
        {
          "output_type": "execute_result",
          "data": {
            "text/plain": [
              "<sklearn.metrics._plot.confusion_matrix.ConfusionMatrixDisplay at 0x7f4da55fc5b0>"
            ]
          },
          "metadata": {},
          "execution_count": 61
        },
        {
          "output_type": "display_data",
          "data": {
            "text/plain": [
              "<Figure size 432x288 with 2 Axes>"
            ],
            "image/png": "[encoded data removed]"
          },
          "metadata": {
            "needs_background": "light"
          }
        }
      ]
    },
    {
      "cell_type": "code",
      "source": [
        "# Light GBM\n",
        "print(\"Accuracy: {}\".format(accuracy_score(y_test,y_test_pred_LGBM)))\n",
        "print(\"Precision: {}\".format(precision_score(y_test, y_test_pred_LGBM)))\n",
        "print(\"Recall: {}\".format(recall_score(y_test, y_test_pred_LGBM)))\n",
        "print(\"F1 Score: {}\".format(f1_score(y_test, y_test_pred_LGBM)))"
      ],
      "metadata": {
        "colab": {
          "base_uri": "https://localhost:8080/"
        },
        "id": "EYg5ccLtAS38",
        "outputId": "673903ef-32a1-4ae4-b96d-835d91f50b86"
      },
      "id": "EYg5ccLtAS38",
      "execution_count": 62,
      "outputs": [
        {
          "output_type": "stream",
          "name": "stdout",
          "text": [
            "Accuracy: 0.6675695916123584\n",
            "Precision: 0.6424337728317406\n",
            "Recall: 0.4153599499472099\n",
            "F1 Score: 0.5045241883772295\n"
          ]
        }
      ]
    },
    {
      "cell_type": "code",
      "source": [
        "roc_auc_score(y_test, y_test_pred_LGBM)"
      ],
      "metadata": {
        "colab": {
          "base_uri": "https://localhost:8080/"
        },
        "id": "qHCVX-zPAnhe",
        "outputId": "527ce59d-fa94-4b6b-f963-9d08d02ff4ad"
      },
      "id": "qHCVX-zPAnhe",
      "execution_count": 63,
      "outputs": [
        {
          "output_type": "execute_result",
          "data": {
            "text/plain": [
              "0.6281876929319764"
            ]
          },
          "metadata": {},
          "execution_count": 63
        }
      ]
    },
    {
      "cell_type": "markdown",
      "source": [
        "# SHAP"
      ],
      "metadata": {
        "id": "A-cJe7v7FDtI"
      },
      "id": "A-cJe7v7FDtI"
    },
    {
      "cell_type": "code",
      "source": [
        "explainer = shap.Explainer(model_LightGBM, X_train)\n",
        "shap_values = explainer(X_test)"
      ],
      "metadata": {
        "colab": {
          "base_uri": "https://localhost:8080/"
        },
        "id": "hoIeLsdDFDeS",
        "outputId": "e3fce4c5-ed5c-4d96-a7e1-1d8868306d57"
      },
      "id": "hoIeLsdDFDeS",
      "execution_count": 64,
      "outputs": [
        {
          "output_type": "stream",
          "name": "stderr",
          "text": [
            "100%|===================| 62734/62759 [06:28<00:00]       "
          ]
        }
      ]
    },
    {
      "cell_type": "code",
      "source": [
        "# Ploting the mean absolute SHAP value for each feature regardless the target value\n",
        "shap.summary_plot(shap_values, plot_type='bar', max_display=30)"
      ],
      "metadata": {
        "colab": {
          "base_uri": "https://localhost:8080/",
          "height": 981
        },
        "id": "w1XT_2cTAqOy",
        "outputId": "847e81c7-a5ac-4339-d4df-fbdb9df2ec6a"
      },
      "id": "w1XT_2cTAqOy",
      "execution_count": 65,
      "outputs": [
        {
          "output_type": "display_data",
          "data": {
            "text/plain": [
              "<Figure size 576x972 with 1 Axes>"
            ],
            "image/png": "[encoded data removed]"
          },
          "metadata": {
            "needs_background": "light"
          }
        }
      ]
    },
    {
      "cell_type": "markdown",
      "source": [
        "* **With SHAP we can see that the variable `Visitors with Patient` had a huge impact on the model output in comparison with all the others features.** \n",
        "* **When we think deeper about why this happened, what's the purpose of this prediction, and when this prediction will occur in real word, we get in the conclusion that this was a data leakage.**\n",
        "* **The goal of this Machine Learning model is to predict long lengh of stay when the patient is admitted into the hospital. At this time is impossible to have the information about how many visitor the patient had, beacuse is a future information.**\n",
        "* **This could be detected in the beggining, when we are exploring the dataset's features and understanding their meaning. But even if we missed, this can be later detect using SHAP values.**"
      ],
      "metadata": {
        "id": "Dxg0Ezh3pZdh"
      },
      "id": "Dxg0Ezh3pZdh"
    },
    {
      "cell_type": "code",
      "source": [],
      "metadata": {
        "id": "tuAS5k0nGqKa"
      },
      "id": "tuAS5k0nGqKa",
      "execution_count": 65,
      "outputs": []
    }
  ],
  "metadata": {
    "kernelspec": {
      "display_name": "Python 3 (ipykernel)",
      "language": "python",
      "name": "python3"
    },
    "language_info": {
      "codemirror_mode": {
        "name": "ipython",
        "version": 3
      },
      "file_extension": ".py",
      "mimetype": "text/x-python",
      "name": "python",
      "nbconvert_exporter": "python",
      "pygments_lexer": "ipython3",
      "version": "3.9.13"
    },
    "colab": {
      "provenance": [],
      "toc_visible": true,
      "include_colab_link": true
    }
  },
  "nbformat": 4,
  "nbformat_minor": 5
}